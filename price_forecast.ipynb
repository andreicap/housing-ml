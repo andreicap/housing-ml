{
 "cells": [
  {
   "cell_type": "code",
   "execution_count": 21,
   "metadata": {},
   "outputs": [],
   "source": [
    "import pandas as pd\n",
    "\n",
    "pd.set_option(\"display.max_columns\", None)\n",
    "\n",
    "import cufflinks as cf\n",
    "\n",
    "# We set the all charts as public\n",
    "cf.set_config_file(sharing=\"public\", theme=\"pearl\", offline=False)\n",
    "cf.go_offline()"
   ]
  },
  {
   "cell_type": "code",
   "execution_count": 22,
   "metadata": {},
   "outputs": [
    {
     "data": {
      "text/plain": [
       "43544"
      ]
     },
     "execution_count": 22,
     "metadata": {},
     "output_type": "execute_result"
    }
   ],
   "source": [
    "# read data\n",
    "price_df = pd.read_csv(\"./data/forecasting.csv\")\n",
    "price_df.columns = price_df.columns.str.lower()\n",
    "price_df[\"date\"] = pd.to_datetime(price_df[\"date\"])\n",
    "len(price_df)"
   ]
  },
  {
   "cell_type": "markdown",
   "metadata": {},
   "source": [
    "## Feature Engineering"
   ]
  },
  {
   "cell_type": "code",
   "execution_count": 103,
   "metadata": {},
   "outputs": [],
   "source": [
    "# engineer some features\n",
    "price_df[\"is_apartment\"] = (\n",
    "    price_df[\"categories\"].map(lambda x: \"APARTMENT\" in x).map(int)\n",
    ")\n",
    "price_df[\"categories\"] = price_df[\"categories\"].str.replace(\"APARTMENT, \", \"\")\n",
    "\n",
    "price_df[\"is_duplex\"] = price_df[\"categories\"].map(lambda x: \"DUPLEX\" in x).map(int)\n",
    "price_df[\"categories\"] = price_df[\"categories\"].str.replace(\"DUPLEX, \", \"\")\n",
    "\n",
    "\n",
    "price_df[\"is_house\"] = price_df[\"categories\"].map(lambda x: \"HOUSE\" in x).map(int)\n",
    "price_df[\"categories\"] = price_df[\"categories\"].str.replace(\"HOUSE, \", \"\")\n",
    "\n",
    "d = {range(0, 50): \"sm\", range(50, 100): \"md\", range(100, 2000): \"bg\"}\n",
    "\n",
    "price_df[\"size\"] = price_df[\"space\"].apply(\n",
    "    lambda x: next((v for k, v in d.items() if x in k), \"sm\")\n",
    ")\n",
    "\n",
    "# categorize with ChatGPT\n",
    "residential = [\n",
    "    \"DUPLEX\",\n",
    "    \"FURNISHED_FLAT\",\n",
    "    \"APARTMENT\",\n",
    "    \"FLAT\",\n",
    "    \"ROOF_FLAT\",\n",
    "    \"ATTIC_FLAT\",\n",
    "    \"LOFT\",\n",
    "    \"SINGLE_ROOM\",\n",
    "    \"STUDIO\",\n",
    "    \"HOUSE\",\n",
    "    \"ROW_HOUSE\",\n",
    "    \"DUPLEX, MAISONETTE\",\n",
    "    \"HOUSE, SINGLE_HOUSE\",\n",
    "    \"ROW_HOUSE\",\n",
    "    \"ATTIC\",\n",
    "    \"BIFAMILIAR_HOUSE\",\n",
    "    \"HOUSE, BIFAMILIAR_HOUSE\",\n",
    "    \"TERRACE_FLAT\",\n",
    "    \"BACHELOR_FLAT\",\n",
    "    \"HOUSE, VILLA\",\n",
    "    \"HOUSE, MULTIPLE_DWELLING\",\n",
    "    \"VILLA\",\n",
    "]\n",
    "\n",
    "commercial = [\n",
    "    \"OFFICE\",\n",
    "    \"COMMERCIAL\",\n",
    "    \"RETAIL, PRACTICE\",\n",
    "    \"SHOP, ATELIER\",\n",
    "    \"RETAIL, COMMERCIAL\",\n",
    "    \"RESTAURANT\",\n",
    "    \"WORKSHOP\",\n",
    "    \"RETAIL, SHOP\",\n",
    "    \"SHOP\",\n",
    "    \"RESIDENTIAL_COMMERCIAL_BUILDING\",\n",
    "    \"HOBBY_ROOM\",\n",
    "    \"INDUSTRIAL_OBJECT\",\n",
    "    \"STORAGE_ROOM\",\n",
    "    \"ATELIER\",\n",
    "    \"CAFE_BAR, RESTAURANT\",\n",
    "    \"RETAIL, HAIRDRESSER\",\n",
    "    \"RETAIL_SPACE, ATELIER\",\n",
    "    \"ADVERTISING_AREA\",\n",
    "    \"FACTORY\",\n",
    "    \"RETAIL, STORAGE_ROOM\",\n",
    "    \"UNDERGROUND_SLOT\",\n",
    "    \"CAFE_BAR, BAR\",\n",
    "    \"PRACTICE\",\n",
    "    \"COFFEEHOUSE\",\n",
    "]\n",
    "\n",
    "price_df[\"is_residential\"] = price_df[\"categories\"].isin(residential).map(int).fillna(0)\n",
    "price_df[\"is_commercial\"] = price_df[\"categories\"].isin(commercial).map(int).fillna(0)"
   ]
  },
  {
   "cell_type": "code",
   "execution_count": 24,
   "metadata": {},
   "outputs": [
    {
     "name": "stdout",
     "output_type": "stream",
     "text": [
      "False    37397\n",
      "True      6147\n",
      "Name: price, dtype: int64\n",
      "False    34545\n",
      "True      8999\n",
      "Name: space, dtype: int64\n"
     ]
    },
    {
     "data": {
      "text/plain": [
       "37397"
      ]
     },
     "execution_count": 24,
     "metadata": {},
     "output_type": "execute_result"
    }
   ],
   "source": [
    "# remove NAs in target\n",
    "print(price_df.price.isna().value_counts())\n",
    "print(price_df.space.isna().value_counts())\n",
    "price_df = price_df.dropna(subset=[\"price\"])  # \"space\"\n",
    "len(price_df)"
   ]
  },
  {
   "cell_type": "code",
   "execution_count": 25,
   "metadata": {},
   "outputs": [
    {
     "name": "stderr",
     "output_type": "stream",
     "text": [
      "/var/folders/8y/630_g50j6sg5c2q1qypy80pw0000gn/T/ipykernel_42694/4014027835.py:1: FutureWarning: The default value of numeric_only in DataFrame.corr is deprecated. In a future version, it will default to False. Select only valid columns or specify the value of numeric_only to silence this warning.\n",
      "  price_df.drop(columns=[\"date\", \"categories\"]).corr().style.background_gradient(\n"
     ]
    },
    {
     "data": {
      "text/html": [
       "<style type=\"text/css\">\n",
       "#T_176b7_row0_col0, #T_176b7_row1_col1, #T_176b7_row2_col2, #T_176b7_row3_col3, #T_176b7_row4_col4, #T_176b7_row5_col5, #T_176b7_row6_col6 {\n",
       "  background-color: #b40426;\n",
       "  color: #f1f1f1;\n",
       "}\n",
       "#T_176b7_row0_col1, #T_176b7_row1_col5 {\n",
       "  background-color: #aac7fd;\n",
       "  color: #000000;\n",
       "}\n",
       "#T_176b7_row0_col2 {\n",
       "  background-color: #b7cff9;\n",
       "  color: #000000;\n",
       "}\n",
       "#T_176b7_row0_col3 {\n",
       "  background-color: #6485ec;\n",
       "  color: #f1f1f1;\n",
       "}\n",
       "#T_176b7_row0_col4 {\n",
       "  background-color: #7396f5;\n",
       "  color: #f1f1f1;\n",
       "}\n",
       "#T_176b7_row0_col5, #T_176b7_row4_col6 {\n",
       "  background-color: #cfdaea;\n",
       "  color: #000000;\n",
       "}\n",
       "#T_176b7_row0_col6 {\n",
       "  background-color: #dcdddd;\n",
       "  color: #000000;\n",
       "}\n",
       "#T_176b7_row1_col0 {\n",
       "  background-color: #799cf8;\n",
       "  color: #f1f1f1;\n",
       "}\n",
       "#T_176b7_row1_col2 {\n",
       "  background-color: #98b9ff;\n",
       "  color: #000000;\n",
       "}\n",
       "#T_176b7_row1_col3 {\n",
       "  background-color: #adc9fd;\n",
       "  color: #000000;\n",
       "}\n",
       "#T_176b7_row1_col4 {\n",
       "  background-color: #bcd2f7;\n",
       "  color: #000000;\n",
       "}\n",
       "#T_176b7_row1_col6 {\n",
       "  background-color: #ead4c8;\n",
       "  color: #000000;\n",
       "}\n",
       "#T_176b7_row2_col0, #T_176b7_row2_col3, #T_176b7_row2_col4, #T_176b7_row5_col0, #T_176b7_row5_col1, #T_176b7_row5_col6, #T_176b7_row6_col2, #T_176b7_row6_col5 {\n",
       "  background-color: #3b4cc0;\n",
       "  color: #f1f1f1;\n",
       "}\n",
       "#T_176b7_row2_col1, #T_176b7_row4_col0 {\n",
       "  background-color: #4c66d6;\n",
       "  color: #f1f1f1;\n",
       "}\n",
       "#T_176b7_row2_col5 {\n",
       "  background-color: #e36c55;\n",
       "  color: #f1f1f1;\n",
       "}\n",
       "#T_176b7_row2_col6, #T_176b7_row6_col4 {\n",
       "  background-color: #6282ea;\n",
       "  color: #f1f1f1;\n",
       "}\n",
       "#T_176b7_row3_col0 {\n",
       "  background-color: #4a63d3;\n",
       "  color: #f1f1f1;\n",
       "}\n",
       "#T_176b7_row3_col1 {\n",
       "  background-color: #c1d4f4;\n",
       "  color: #000000;\n",
       "}\n",
       "#T_176b7_row3_col2 {\n",
       "  background-color: #a2c1ff;\n",
       "  color: #000000;\n",
       "}\n",
       "#T_176b7_row3_col4 {\n",
       "  background-color: #688aef;\n",
       "  color: #f1f1f1;\n",
       "}\n",
       "#T_176b7_row3_col5 {\n",
       "  background-color: #d9dce1;\n",
       "  color: #000000;\n",
       "}\n",
       "#T_176b7_row3_col6 {\n",
       "  background-color: #cbd8ee;\n",
       "  color: #000000;\n",
       "}\n",
       "#T_176b7_row4_col1 {\n",
       "  background-color: #c7d7f0;\n",
       "  color: #000000;\n",
       "}\n",
       "#T_176b7_row4_col2 {\n",
       "  background-color: #97b8ff;\n",
       "  color: #000000;\n",
       "}\n",
       "#T_176b7_row4_col3 {\n",
       "  background-color: #5b7ae5;\n",
       "  color: #f1f1f1;\n",
       "}\n",
       "#T_176b7_row4_col5 {\n",
       "  background-color: #c6d6f1;\n",
       "  color: #000000;\n",
       "}\n",
       "#T_176b7_row5_col2 {\n",
       "  background-color: #e9785d;\n",
       "  color: #f1f1f1;\n",
       "}\n",
       "#T_176b7_row5_col3 {\n",
       "  background-color: #6a8bef;\n",
       "  color: #f1f1f1;\n",
       "}\n",
       "#T_176b7_row5_col4 {\n",
       "  background-color: #536edd;\n",
       "  color: #f1f1f1;\n",
       "}\n",
       "#T_176b7_row6_col0 {\n",
       "  background-color: #5572df;\n",
       "  color: #f1f1f1;\n",
       "}\n",
       "#T_176b7_row6_col1 {\n",
       "  background-color: #a9c6fd;\n",
       "  color: #000000;\n",
       "}\n",
       "#T_176b7_row6_col3 {\n",
       "  background-color: #4e68d8;\n",
       "  color: #f1f1f1;\n",
       "}\n",
       "</style>\n",
       "<table id=\"T_176b7\">\n",
       "  <thead>\n",
       "    <tr>\n",
       "      <th class=\"blank level0\" >&nbsp;</th>\n",
       "      <th id=\"T_176b7_level0_col0\" class=\"col_heading level0 col0\" >price</th>\n",
       "      <th id=\"T_176b7_level0_col1\" class=\"col_heading level0 col1\" >space</th>\n",
       "      <th id=\"T_176b7_level0_col2\" class=\"col_heading level0 col2\" >is_apartment</th>\n",
       "      <th id=\"T_176b7_level0_col3\" class=\"col_heading level0 col3\" >is_duplex</th>\n",
       "      <th id=\"T_176b7_level0_col4\" class=\"col_heading level0 col4\" >is_house</th>\n",
       "      <th id=\"T_176b7_level0_col5\" class=\"col_heading level0 col5\" >is_residential</th>\n",
       "      <th id=\"T_176b7_level0_col6\" class=\"col_heading level0 col6\" >is_commercial</th>\n",
       "    </tr>\n",
       "  </thead>\n",
       "  <tbody>\n",
       "    <tr>\n",
       "      <th id=\"T_176b7_level0_row0\" class=\"row_heading level0 row0\" >price</th>\n",
       "      <td id=\"T_176b7_row0_col0\" class=\"data row0 col0\" >1.000000</td>\n",
       "      <td id=\"T_176b7_row0_col1\" class=\"data row0 col1\" >0.159076</td>\n",
       "      <td id=\"T_176b7_row0_col2\" class=\"data row0 col2\" >-0.042458</td>\n",
       "      <td id=\"T_176b7_row0_col3\" class=\"data row0 col3\" >0.009543</td>\n",
       "      <td id=\"T_176b7_row0_col4\" class=\"data row0 col4\" >0.018420</td>\n",
       "      <td id=\"T_176b7_row0_col5\" class=\"data row0 col5\" >-0.044072</td>\n",
       "      <td id=\"T_176b7_row0_col6\" class=\"data row0 col6\" >0.046681</td>\n",
       "    </tr>\n",
       "    <tr>\n",
       "      <th id=\"T_176b7_level0_row1\" class=\"row_heading level0 row1\" >space</th>\n",
       "      <td id=\"T_176b7_row1_col0\" class=\"data row1 col0\" >0.159076</td>\n",
       "      <td id=\"T_176b7_row1_col1\" class=\"data row1 col1\" >1.000000</td>\n",
       "      <td id=\"T_176b7_row1_col2\" class=\"data row1 col2\" >-0.187060</td>\n",
       "      <td id=\"T_176b7_row1_col3\" class=\"data row1 col3\" >0.247235</td>\n",
       "      <td id=\"T_176b7_row1_col4\" class=\"data row1 col4\" >0.270212</td>\n",
       "      <td id=\"T_176b7_row1_col5\" class=\"data row1 col5\" >-0.263992</td>\n",
       "      <td id=\"T_176b7_row1_col6\" class=\"data row1 col6\" >0.154457</td>\n",
       "    </tr>\n",
       "    <tr>\n",
       "      <th id=\"T_176b7_level0_row2\" class=\"row_heading level0 row2\" >is_apartment</th>\n",
       "      <td id=\"T_176b7_row2_col0\" class=\"data row2 col0\" >-0.042458</td>\n",
       "      <td id=\"T_176b7_row2_col1\" class=\"data row2 col1\" >-0.187060</td>\n",
       "      <td id=\"T_176b7_row2_col2\" class=\"data row2 col2\" >1.000000</td>\n",
       "      <td id=\"T_176b7_row2_col3\" class=\"data row2 col3\" >-0.144783</td>\n",
       "      <td id=\"T_176b7_row2_col4\" class=\"data row2 col4\" >-0.194864</td>\n",
       "      <td id=\"T_176b7_row2_col5\" class=\"data row2 col5\" >0.711457</td>\n",
       "      <td id=\"T_176b7_row2_col6\" class=\"data row2 col6\" >-0.660235</td>\n",
       "    </tr>\n",
       "    <tr>\n",
       "      <th id=\"T_176b7_level0_row3\" class=\"row_heading level0 row3\" >is_duplex</th>\n",
       "      <td id=\"T_176b7_row3_col0\" class=\"data row3 col0\" >0.009543</td>\n",
       "      <td id=\"T_176b7_row3_col1\" class=\"data row3 col1\" >0.247235</td>\n",
       "      <td id=\"T_176b7_row3_col2\" class=\"data row3 col2\" >-0.144783</td>\n",
       "      <td id=\"T_176b7_row3_col3\" class=\"data row3 col3\" >1.000000</td>\n",
       "      <td id=\"T_176b7_row3_col4\" class=\"data row3 col4\" >-0.021266</td>\n",
       "      <td id=\"T_176b7_row3_col5\" class=\"data row3 col5\" >0.027209</td>\n",
       "      <td id=\"T_176b7_row3_col6\" class=\"data row3 col6\" >-0.072052</td>\n",
       "    </tr>\n",
       "    <tr>\n",
       "      <th id=\"T_176b7_level0_row4\" class=\"row_heading level0 row4\" >is_house</th>\n",
       "      <td id=\"T_176b7_row4_col0\" class=\"data row4 col0\" >0.018420</td>\n",
       "      <td id=\"T_176b7_row4_col1\" class=\"data row4 col1\" >0.270212</td>\n",
       "      <td id=\"T_176b7_row4_col2\" class=\"data row4 col2\" >-0.194864</td>\n",
       "      <td id=\"T_176b7_row4_col3\" class=\"data row4 col3\" >-0.021266</td>\n",
       "      <td id=\"T_176b7_row4_col4\" class=\"data row4 col4\" >1.000000</td>\n",
       "      <td id=\"T_176b7_row4_col5\" class=\"data row4 col5\" >-0.099882</td>\n",
       "      <td id=\"T_176b7_row4_col6\" class=\"data row4 col6\" >-0.041227</td>\n",
       "    </tr>\n",
       "    <tr>\n",
       "      <th id=\"T_176b7_level0_row5\" class=\"row_heading level0 row5\" >is_residential</th>\n",
       "      <td id=\"T_176b7_row5_col0\" class=\"data row5 col0\" >-0.044072</td>\n",
       "      <td id=\"T_176b7_row5_col1\" class=\"data row5 col1\" >-0.263992</td>\n",
       "      <td id=\"T_176b7_row5_col2\" class=\"data row5 col2\" >0.711457</td>\n",
       "      <td id=\"T_176b7_row5_col3\" class=\"data row5 col3\" >0.027209</td>\n",
       "      <td id=\"T_176b7_row5_col4\" class=\"data row5 col4\" >-0.099882</td>\n",
       "      <td id=\"T_176b7_row5_col5\" class=\"data row5 col5\" >1.000000</td>\n",
       "      <td id=\"T_176b7_row5_col6\" class=\"data row5 col6\" >-0.900368</td>\n",
       "    </tr>\n",
       "    <tr>\n",
       "      <th id=\"T_176b7_level0_row6\" class=\"row_heading level0 row6\" >is_commercial</th>\n",
       "      <td id=\"T_176b7_row6_col0\" class=\"data row6 col0\" >0.046681</td>\n",
       "      <td id=\"T_176b7_row6_col1\" class=\"data row6 col1\" >0.154457</td>\n",
       "      <td id=\"T_176b7_row6_col2\" class=\"data row6 col2\" >-0.660235</td>\n",
       "      <td id=\"T_176b7_row6_col3\" class=\"data row6 col3\" >-0.072052</td>\n",
       "      <td id=\"T_176b7_row6_col4\" class=\"data row6 col4\" >-0.041227</td>\n",
       "      <td id=\"T_176b7_row6_col5\" class=\"data row6 col5\" >-0.900368</td>\n",
       "      <td id=\"T_176b7_row6_col6\" class=\"data row6 col6\" >1.000000</td>\n",
       "    </tr>\n",
       "  </tbody>\n",
       "</table>\n"
      ],
      "text/plain": [
       "<pandas.io.formats.style.Styler at 0x1070831f0>"
      ]
     },
     "execution_count": 25,
     "metadata": {},
     "output_type": "execute_result"
    }
   ],
   "source": [
    "price_df.drop(columns=[\"date\", \"categories\"]).corr().style.background_gradient(\n",
    "    cmap=\"coolwarm\"\n",
    ")"
   ]
  },
  {
   "cell_type": "code",
   "execution_count": 26,
   "metadata": {},
   "outputs": [
    {
     "data": {
      "text/plain": [
       "31582"
      ]
     },
     "execution_count": 26,
     "metadata": {},
     "output_type": "execute_result"
    }
   ],
   "source": [
    "residential_df = price_df.query(\"is_residential == 1\").drop(\n",
    "    columns=[\"is_commercial\", \"is_residential\"]\n",
    ")\n",
    "len(residential_df)"
   ]
  },
  {
   "cell_type": "code",
   "execution_count": 27,
   "metadata": {},
   "outputs": [
    {
     "data": {
      "text/html": [
       "<div>\n",
       "<style scoped>\n",
       "    .dataframe tbody tr th:only-of-type {\n",
       "        vertical-align: middle;\n",
       "    }\n",
       "\n",
       "    .dataframe tbody tr th {\n",
       "        vertical-align: top;\n",
       "    }\n",
       "\n",
       "    .dataframe thead th {\n",
       "        text-align: right;\n",
       "    }\n",
       "</style>\n",
       "<table border=\"1\" class=\"dataframe\">\n",
       "  <thead>\n",
       "    <tr style=\"text-align: right;\">\n",
       "      <th></th>\n",
       "      <th>date</th>\n",
       "      <th>price</th>\n",
       "      <th>space</th>\n",
       "      <th>categories</th>\n",
       "      <th>is_apartment</th>\n",
       "      <th>is_duplex</th>\n",
       "      <th>is_house</th>\n",
       "      <th>size</th>\n",
       "    </tr>\n",
       "  </thead>\n",
       "  <tbody>\n",
       "    <tr>\n",
       "      <th>0</th>\n",
       "      <td>2018-04-07</td>\n",
       "      <td>2650.0</td>\n",
       "      <td>190.0</td>\n",
       "      <td>DUPLEX</td>\n",
       "      <td>0</td>\n",
       "      <td>1</td>\n",
       "      <td>0</td>\n",
       "      <td>bg</td>\n",
       "    </tr>\n",
       "    <tr>\n",
       "      <th>36571</th>\n",
       "      <td>2018-10-25</td>\n",
       "      <td>3700.0</td>\n",
       "      <td>130.0</td>\n",
       "      <td>ROW_HOUSE</td>\n",
       "      <td>0</td>\n",
       "      <td>0</td>\n",
       "      <td>1</td>\n",
       "      <td>bg</td>\n",
       "    </tr>\n",
       "    <tr>\n",
       "      <th>28897</th>\n",
       "      <td>2019-06-12</td>\n",
       "      <td>1050.0</td>\n",
       "      <td>35.0</td>\n",
       "      <td>FURNISHED_FLAT</td>\n",
       "      <td>0</td>\n",
       "      <td>0</td>\n",
       "      <td>0</td>\n",
       "      <td>sm</td>\n",
       "    </tr>\n",
       "    <tr>\n",
       "      <th>36576</th>\n",
       "      <td>2018-04-03</td>\n",
       "      <td>1400.0</td>\n",
       "      <td>85.0</td>\n",
       "      <td>ROOF_FLAT</td>\n",
       "      <td>0</td>\n",
       "      <td>0</td>\n",
       "      <td>0</td>\n",
       "      <td>md</td>\n",
       "    </tr>\n",
       "    <tr>\n",
       "      <th>36585</th>\n",
       "      <td>2018-05-15</td>\n",
       "      <td>799.0</td>\n",
       "      <td>25.0</td>\n",
       "      <td>FURNISHED_FLAT</td>\n",
       "      <td>0</td>\n",
       "      <td>0</td>\n",
       "      <td>0</td>\n",
       "      <td>sm</td>\n",
       "    </tr>\n",
       "    <tr>\n",
       "      <th>...</th>\n",
       "      <td>...</td>\n",
       "      <td>...</td>\n",
       "      <td>...</td>\n",
       "      <td>...</td>\n",
       "      <td>...</td>\n",
       "      <td>...</td>\n",
       "      <td>...</td>\n",
       "      <td>...</td>\n",
       "    </tr>\n",
       "    <tr>\n",
       "      <th>15013</th>\n",
       "      <td>2021-01-22</td>\n",
       "      <td>1700.0</td>\n",
       "      <td>91.0</td>\n",
       "      <td>ROOF_FLAT</td>\n",
       "      <td>1</td>\n",
       "      <td>0</td>\n",
       "      <td>0</td>\n",
       "      <td>md</td>\n",
       "    </tr>\n",
       "    <tr>\n",
       "      <th>15011</th>\n",
       "      <td>2021-08-11</td>\n",
       "      <td>1900.0</td>\n",
       "      <td>70.0</td>\n",
       "      <td>FLAT</td>\n",
       "      <td>1</td>\n",
       "      <td>0</td>\n",
       "      <td>0</td>\n",
       "      <td>md</td>\n",
       "    </tr>\n",
       "    <tr>\n",
       "      <th>15010</th>\n",
       "      <td>2021-02-05</td>\n",
       "      <td>1400.0</td>\n",
       "      <td>75.0</td>\n",
       "      <td>FLAT</td>\n",
       "      <td>1</td>\n",
       "      <td>0</td>\n",
       "      <td>0</td>\n",
       "      <td>md</td>\n",
       "    </tr>\n",
       "    <tr>\n",
       "      <th>15024</th>\n",
       "      <td>2021-06-16</td>\n",
       "      <td>700.0</td>\n",
       "      <td>34.0</td>\n",
       "      <td>STUDIO</td>\n",
       "      <td>1</td>\n",
       "      <td>0</td>\n",
       "      <td>0</td>\n",
       "      <td>sm</td>\n",
       "    </tr>\n",
       "    <tr>\n",
       "      <th>43543</th>\n",
       "      <td>2020-08-19</td>\n",
       "      <td>1820.0</td>\n",
       "      <td>NaN</td>\n",
       "      <td>ROOF_FLAT</td>\n",
       "      <td>1</td>\n",
       "      <td>0</td>\n",
       "      <td>0</td>\n",
       "      <td>sm</td>\n",
       "    </tr>\n",
       "  </tbody>\n",
       "</table>\n",
       "<p>31582 rows × 8 columns</p>\n",
       "</div>"
      ],
      "text/plain": [
       "            date   price  space      categories  is_apartment  is_duplex  \\\n",
       "0     2018-04-07  2650.0  190.0          DUPLEX             0          1   \n",
       "36571 2018-10-25  3700.0  130.0       ROW_HOUSE             0          0   \n",
       "28897 2019-06-12  1050.0   35.0  FURNISHED_FLAT             0          0   \n",
       "36576 2018-04-03  1400.0   85.0       ROOF_FLAT             0          0   \n",
       "36585 2018-05-15   799.0   25.0  FURNISHED_FLAT             0          0   \n",
       "...          ...     ...    ...             ...           ...        ...   \n",
       "15013 2021-01-22  1700.0   91.0       ROOF_FLAT             1          0   \n",
       "15011 2021-08-11  1900.0   70.0            FLAT             1          0   \n",
       "15010 2021-02-05  1400.0   75.0            FLAT             1          0   \n",
       "15024 2021-06-16   700.0   34.0          STUDIO             1          0   \n",
       "43543 2020-08-19  1820.0    NaN       ROOF_FLAT             1          0   \n",
       "\n",
       "       is_house size  \n",
       "0             0   bg  \n",
       "36571         1   bg  \n",
       "28897         0   sm  \n",
       "36576         0   md  \n",
       "36585         0   sm  \n",
       "...         ...  ...  \n",
       "15013         0   md  \n",
       "15011         0   md  \n",
       "15010         0   md  \n",
       "15024         0   sm  \n",
       "43543         0   sm  \n",
       "\n",
       "[31582 rows x 8 columns]"
      ]
     },
     "execution_count": 27,
     "metadata": {},
     "output_type": "execute_result"
    }
   ],
   "source": [
    "residential_df.sort_values(\"is_apartment\")"
   ]
  },
  {
   "cell_type": "code",
   "execution_count": 28,
   "metadata": {},
   "outputs": [
    {
     "name": "stderr",
     "output_type": "stream",
     "text": [
      "/var/folders/8y/630_g50j6sg5c2q1qypy80pw0000gn/T/ipykernel_42694/4052620087.py:3: FutureWarning: The default value of numeric_only in DataFrame.corr is deprecated. In a future version, it will default to False. Select only valid columns or specify the value of numeric_only to silence this warning.\n",
      "  ).corr().style.background_gradient(cmap=\"coolwarm\")\n"
     ]
    },
    {
     "data": {
      "text/html": [
       "<style type=\"text/css\">\n",
       "#T_16a50_row0_col0, #T_16a50_row1_col1, #T_16a50_row2_col2, #T_16a50_row3_col3, #T_16a50_row3_col10, #T_16a50_row4_col4, #T_16a50_row5_col5, #T_16a50_row6_col6, #T_16a50_row7_col7, #T_16a50_row8_col8, #T_16a50_row9_col9, #T_16a50_row10_col3, #T_16a50_row10_col10, #T_16a50_row11_col11, #T_16a50_row12_col12, #T_16a50_row13_col13, #T_16a50_row14_col14, #T_16a50_row15_col15, #T_16a50_row16_col16, #T_16a50_row17_col17, #T_16a50_row18_col18, #T_16a50_row19_col19 {\n",
       "  background-color: #b40426;\n",
       "  color: #f1f1f1;\n",
       "}\n",
       "#T_16a50_row0_col1, #T_16a50_row9_col1 {\n",
       "  background-color: #9bbcff;\n",
       "  color: #000000;\n",
       "}\n",
       "#T_16a50_row0_col2, #T_16a50_row8_col3, #T_16a50_row8_col10, #T_16a50_row12_col5, #T_16a50_row16_col12 {\n",
       "  background-color: #89acfd;\n",
       "  color: #000000;\n",
       "}\n",
       "#T_16a50_row0_col3, #T_16a50_row0_col10, #T_16a50_row8_col2, #T_16a50_row9_col12, #T_16a50_row18_col12 {\n",
       "  background-color: #92b4fe;\n",
       "  color: #000000;\n",
       "}\n",
       "#T_16a50_row0_col4, #T_16a50_row6_col2, #T_16a50_row7_col3, #T_16a50_row7_col10, #T_16a50_row13_col1, #T_16a50_row17_col3, #T_16a50_row17_col10 {\n",
       "  background-color: #84a7fc;\n",
       "  color: #f1f1f1;\n",
       "}\n",
       "#T_16a50_row0_col5, #T_16a50_row18_col5, #T_16a50_row18_col11 {\n",
       "  background-color: #b9d0f9;\n",
       "  color: #000000;\n",
       "}\n",
       "#T_16a50_row0_col6, #T_16a50_row3_col19, #T_16a50_row6_col19, #T_16a50_row7_col19, #T_16a50_row9_col19, #T_16a50_row10_col19, #T_16a50_row12_col6, #T_16a50_row12_col13, #T_16a50_row13_col19, #T_16a50_row14_col19, #T_16a50_row15_col19, #T_16a50_row16_col19, #T_16a50_row17_col19, #T_16a50_row19_col0 {\n",
       "  background-color: #4c66d6;\n",
       "  color: #f1f1f1;\n",
       "}\n",
       "#T_16a50_row0_col7, #T_16a50_row5_col4 {\n",
       "  background-color: #6485ec;\n",
       "  color: #f1f1f1;\n",
       "}\n",
       "#T_16a50_row0_col8, #T_16a50_row2_col6, #T_16a50_row4_col8, #T_16a50_row5_col0, #T_16a50_row6_col8, #T_16a50_row9_col8, #T_16a50_row13_col8, #T_16a50_row15_col8, #T_16a50_row16_col0, #T_16a50_row17_col8, #T_16a50_row18_col8, #T_16a50_row19_col8 {\n",
       "  background-color: #3e51c5;\n",
       "  color: #f1f1f1;\n",
       "}\n",
       "#T_16a50_row0_col9, #T_16a50_row6_col7, #T_16a50_row6_col17, #T_16a50_row9_col17, #T_16a50_row13_col7, #T_16a50_row15_col7, #T_16a50_row18_col17, #T_16a50_row19_col17 {\n",
       "  background-color: #5e7de7;\n",
       "  color: #f1f1f1;\n",
       "}\n",
       "#T_16a50_row0_col11, #T_16a50_row19_col5, #T_16a50_row19_col11 {\n",
       "  background-color: #bad0f8;\n",
       "  color: #000000;\n",
       "}\n",
       "#T_16a50_row0_col12, #T_16a50_row15_col1 {\n",
       "  background-color: #a2c1ff;\n",
       "  color: #000000;\n",
       "}\n",
       "#T_16a50_row0_col13, #T_16a50_row5_col12, #T_16a50_row12_col9 {\n",
       "  background-color: #5572df;\n",
       "  color: #f1f1f1;\n",
       "}\n",
       "#T_16a50_row0_col14 {\n",
       "  background-color: #7b9ff9;\n",
       "  color: #f1f1f1;\n",
       "}\n",
       "#T_16a50_row0_col15, #T_16a50_row12_col3, #T_16a50_row12_col10 {\n",
       "  background-color: #7a9df8;\n",
       "  color: #f1f1f1;\n",
       "}\n",
       "#T_16a50_row0_col16, #T_16a50_row3_col15, #T_16a50_row3_col16, #T_16a50_row10_col15, #T_16a50_row10_col16, #T_16a50_row14_col15, #T_16a50_row14_col16 {\n",
       "  background-color: #6e90f2;\n",
       "  color: #f1f1f1;\n",
       "}\n",
       "#T_16a50_row0_col17, #T_16a50_row7_col17, #T_16a50_row16_col7, #T_16a50_row16_col17 {\n",
       "  background-color: #5b7ae5;\n",
       "  color: #f1f1f1;\n",
       "}\n",
       "#T_16a50_row0_col18, #T_16a50_row5_col13, #T_16a50_row6_col0, #T_16a50_row8_col18, #T_16a50_row11_col13 {\n",
       "  background-color: #4358cb;\n",
       "  color: #f1f1f1;\n",
       "}\n",
       "#T_16a50_row0_col19 {\n",
       "  background-color: #5470de;\n",
       "  color: #f1f1f1;\n",
       "}\n",
       "#T_16a50_row1_col0, #T_16a50_row3_col14, #T_16a50_row7_col15, #T_16a50_row10_col14, #T_16a50_row16_col15, #T_16a50_row17_col15 {\n",
       "  background-color: #6f92f3;\n",
       "  color: #f1f1f1;\n",
       "}\n",
       "#T_16a50_row1_col2, #T_16a50_row6_col16, #T_16a50_row7_col14, #T_16a50_row8_col1, #T_16a50_row9_col16, #T_16a50_row17_col14 {\n",
       "  background-color: #7396f5;\n",
       "  color: #f1f1f1;\n",
       "}\n",
       "#T_16a50_row1_col3, #T_16a50_row1_col10 {\n",
       "  background-color: #d2dbe8;\n",
       "  color: #000000;\n",
       "}\n",
       "#T_16a50_row1_col4, #T_16a50_row13_col5, #T_16a50_row13_col11 {\n",
       "  background-color: #b2ccfb;\n",
       "  color: #000000;\n",
       "}\n",
       "#T_16a50_row1_col5 {\n",
       "  background-color: #b5cdfa;\n",
       "  color: #000000;\n",
       "}\n",
       "#T_16a50_row1_col6, #T_16a50_row1_col16, #T_16a50_row2_col0, #T_16a50_row2_col3, #T_16a50_row2_col4, #T_16a50_row2_col7, #T_16a50_row2_col8, #T_16a50_row2_col9, #T_16a50_row2_col10, #T_16a50_row2_col12, #T_16a50_row2_col13, #T_16a50_row2_col14, #T_16a50_row2_col15, #T_16a50_row2_col17, #T_16a50_row2_col18, #T_16a50_row2_col19, #T_16a50_row5_col8, #T_16a50_row5_col11, #T_16a50_row11_col5, #T_16a50_row12_col2, #T_16a50_row16_col1 {\n",
       "  background-color: #3b4cc0;\n",
       "  color: #f1f1f1;\n",
       "}\n",
       "#T_16a50_row1_col7, #T_16a50_row6_col4, #T_16a50_row9_col14, #T_16a50_row12_col1, #T_16a50_row13_col4, #T_16a50_row18_col14, #T_16a50_row19_col14 {\n",
       "  background-color: #779af7;\n",
       "  color: #f1f1f1;\n",
       "}\n",
       "#T_16a50_row1_col8, #T_16a50_row3_col8, #T_16a50_row7_col8, #T_16a50_row10_col8, #T_16a50_row12_col8, #T_16a50_row14_col8, #T_16a50_row16_col8 {\n",
       "  background-color: #3d50c3;\n",
       "  color: #f1f1f1;\n",
       "}\n",
       "#T_16a50_row1_col9 {\n",
       "  background-color: #81a4fb;\n",
       "  color: #f1f1f1;\n",
       "}\n",
       "#T_16a50_row1_col11, #T_16a50_row4_col1, #T_16a50_row4_col5, #T_16a50_row4_col11 {\n",
       "  background-color: #afcafc;\n",
       "  color: #000000;\n",
       "}\n",
       "#T_16a50_row1_col12 {\n",
       "  background-color: #97b8ff;\n",
       "  color: #000000;\n",
       "}\n",
       "#T_16a50_row1_col13 {\n",
       "  background-color: #6282ea;\n",
       "  color: #f1f1f1;\n",
       "}\n",
       "#T_16a50_row1_col14, #T_16a50_row6_col12, #T_16a50_row19_col1 {\n",
       "  background-color: #90b2fe;\n",
       "  color: #000000;\n",
       "}\n",
       "#T_16a50_row1_col15 {\n",
       "  background-color: #9fbfff;\n",
       "  color: #000000;\n",
       "}\n",
       "#T_16a50_row1_col17, #T_16a50_row5_col18, #T_16a50_row11_col8, #T_16a50_row11_col18 {\n",
       "  background-color: #3c4ec2;\n",
       "  color: #f1f1f1;\n",
       "}\n",
       "#T_16a50_row1_col18, #T_16a50_row3_col2, #T_16a50_row5_col7, #T_16a50_row8_col0, #T_16a50_row10_col2, #T_16a50_row11_col7, #T_16a50_row18_col0 {\n",
       "  background-color: #465ecf;\n",
       "  color: #f1f1f1;\n",
       "}\n",
       "#T_16a50_row1_col19, #T_16a50_row12_col16 {\n",
       "  background-color: #6a8bef;\n",
       "  color: #f1f1f1;\n",
       "}\n",
       "#T_16a50_row2_col1, #T_16a50_row4_col13, #T_16a50_row15_col13, #T_16a50_row17_col13 {\n",
       "  background-color: #516ddb;\n",
       "  color: #f1f1f1;\n",
       "}\n",
       "#T_16a50_row2_col5 {\n",
       "  background-color: #eed0c0;\n",
       "  color: #000000;\n",
       "}\n",
       "#T_16a50_row2_col11 {\n",
       "  background-color: #edd1c2;\n",
       "  color: #000000;\n",
       "}\n",
       "#T_16a50_row2_col16, #T_16a50_row5_col6, #T_16a50_row11_col6 {\n",
       "  background-color: #455cce;\n",
       "  color: #f1f1f1;\n",
       "}\n",
       "#T_16a50_row3_col0, #T_16a50_row4_col0, #T_16a50_row7_col13, #T_16a50_row8_col6, #T_16a50_row9_col6, #T_16a50_row10_col0, #T_16a50_row11_col14, #T_16a50_row13_col6, #T_16a50_row16_col13, #T_16a50_row18_col6, #T_16a50_row19_col6 {\n",
       "  background-color: #506bda;\n",
       "  color: #f1f1f1;\n",
       "}\n",
       "#T_16a50_row3_col1, #T_16a50_row10_col1 {\n",
       "  background-color: #c6d6f1;\n",
       "  color: #000000;\n",
       "}\n",
       "#T_16a50_row3_col4, #T_16a50_row4_col14, #T_16a50_row8_col16, #T_16a50_row10_col4, #T_16a50_row14_col4, #T_16a50_row15_col14, #T_16a50_row18_col16, #T_16a50_row19_col16 {\n",
       "  background-color: #7597f6;\n",
       "  color: #f1f1f1;\n",
       "}\n",
       "#T_16a50_row3_col5, #T_16a50_row3_col11, #T_16a50_row10_col5, #T_16a50_row10_col11, #T_16a50_row14_col5, #T_16a50_row14_col11 {\n",
       "  background-color: #9ebeff;\n",
       "  color: #000000;\n",
       "}\n",
       "#T_16a50_row3_col6, #T_16a50_row8_col19, #T_16a50_row10_col6, #T_16a50_row14_col6, #T_16a50_row18_col19 {\n",
       "  background-color: #4e68d8;\n",
       "  color: #f1f1f1;\n",
       "}\n",
       "#T_16a50_row3_col7, #T_16a50_row3_col17, #T_16a50_row10_col7, #T_16a50_row10_col17, #T_16a50_row14_col7, #T_16a50_row14_col17 {\n",
       "  background-color: #5a78e4;\n",
       "  color: #f1f1f1;\n",
       "}\n",
       "#T_16a50_row3_col9, #T_16a50_row5_col16, #T_16a50_row10_col9, #T_16a50_row12_col0, #T_16a50_row12_col7, #T_16a50_row12_col17, #T_16a50_row14_col9, #T_16a50_row16_col9 {\n",
       "  background-color: #5673e0;\n",
       "  color: #f1f1f1;\n",
       "}\n",
       "#T_16a50_row3_col12, #T_16a50_row4_col3, #T_16a50_row4_col10, #T_16a50_row10_col12, #T_16a50_row13_col3, #T_16a50_row13_col10, #T_16a50_row14_col12, #T_16a50_row15_col3, #T_16a50_row15_col10 {\n",
       "  background-color: #85a8fc;\n",
       "  color: #f1f1f1;\n",
       "}\n",
       "#T_16a50_row3_col13, #T_16a50_row4_col6, #T_16a50_row5_col9, #T_16a50_row5_col14, #T_16a50_row7_col6, #T_16a50_row10_col13, #T_16a50_row11_col9, #T_16a50_row14_col13, #T_16a50_row15_col0, #T_16a50_row15_col6, #T_16a50_row16_col6, #T_16a50_row17_col6 {\n",
       "  background-color: #4f69d9;\n",
       "  color: #f1f1f1;\n",
       "}\n",
       "#T_16a50_row3_col18, #T_16a50_row10_col18, #T_16a50_row11_col0, #T_16a50_row14_col18 {\n",
       "  background-color: #4055c8;\n",
       "  color: #f1f1f1;\n",
       "}\n",
       "#T_16a50_row4_col2, #T_16a50_row6_col9, #T_16a50_row7_col9, #T_16a50_row11_col12, #T_16a50_row11_col16, #T_16a50_row13_col9, #T_16a50_row14_col2, #T_16a50_row15_col9, #T_16a50_row17_col9, #T_16a50_row18_col9, #T_16a50_row19_col9 {\n",
       "  background-color: #5875e1;\n",
       "  color: #f1f1f1;\n",
       "}\n",
       "#T_16a50_row4_col7, #T_16a50_row4_col17, #T_16a50_row13_col17, #T_16a50_row15_col17, #T_16a50_row17_col7 {\n",
       "  background-color: #5d7ce6;\n",
       "  color: #f1f1f1;\n",
       "}\n",
       "#T_16a50_row4_col9 {\n",
       "  background-color: #dedcdb;\n",
       "  color: #000000;\n",
       "}\n",
       "#T_16a50_row4_col12, #T_16a50_row18_col2 {\n",
       "  background-color: #8db0fe;\n",
       "  color: #000000;\n",
       "}\n",
       "#T_16a50_row4_col15, #T_16a50_row15_col4 {\n",
       "  background-color: #d85646;\n",
       "  color: #f1f1f1;\n",
       "}\n",
       "#T_16a50_row4_col16, #T_16a50_row8_col15, #T_16a50_row12_col4, #T_16a50_row13_col16, #T_16a50_row15_col16, #T_16a50_row16_col14, #T_16a50_row17_col2, #T_16a50_row17_col16 {\n",
       "  background-color: #7295f4;\n",
       "  color: #f1f1f1;\n",
       "}\n",
       "#T_16a50_row4_col18, #T_16a50_row6_col18, #T_16a50_row7_col18, #T_16a50_row9_col18, #T_16a50_row13_col18, #T_16a50_row15_col18, #T_16a50_row16_col18, #T_16a50_row17_col0, #T_16a50_row17_col18, #T_16a50_row19_col18 {\n",
       "  background-color: #4257c9;\n",
       "  color: #f1f1f1;\n",
       "}\n",
       "#T_16a50_row4_col19, #T_16a50_row8_col4, #T_16a50_row8_col14, #T_16a50_row9_col2, #T_16a50_row18_col1, #T_16a50_row18_col4 {\n",
       "  background-color: #799cf8;\n",
       "  color: #f1f1f1;\n",
       "}\n",
       "#T_16a50_row5_col1, #T_16a50_row12_col14 {\n",
       "  background-color: #688aef;\n",
       "  color: #f1f1f1;\n",
       "}\n",
       "#T_16a50_row5_col2 {\n",
       "  background-color: #dbdcde;\n",
       "  color: #000000;\n",
       "}\n",
       "#T_16a50_row5_col3, #T_16a50_row5_col10, #T_16a50_row11_col1, #T_16a50_row11_col3, #T_16a50_row11_col10, #T_16a50_row11_col15 {\n",
       "  background-color: #6180e9;\n",
       "  color: #f1f1f1;\n",
       "}\n",
       "#T_16a50_row5_col15, #T_16a50_row6_col1, #T_16a50_row8_col7, #T_16a50_row8_col17, #T_16a50_row9_col7, #T_16a50_row15_col2, #T_16a50_row18_col7, #T_16a50_row19_col7 {\n",
       "  background-color: #5f7fe8;\n",
       "  color: #f1f1f1;\n",
       "}\n",
       "#T_16a50_row5_col17, #T_16a50_row11_col17 {\n",
       "  background-color: #4961d2;\n",
       "  color: #f1f1f1;\n",
       "}\n",
       "#T_16a50_row5_col19, #T_16a50_row11_col19, #T_16a50_row13_col0, #T_16a50_row14_col0 {\n",
       "  background-color: #485fd1;\n",
       "  color: #f1f1f1;\n",
       "}\n",
       "#T_16a50_row6_col3, #T_16a50_row6_col10 {\n",
       "  background-color: #86a9fc;\n",
       "  color: #f1f1f1;\n",
       "}\n",
       "#T_16a50_row6_col5, #T_16a50_row6_col11 {\n",
       "  background-color: #b6cefa;\n",
       "  color: #000000;\n",
       "}\n",
       "#T_16a50_row6_col13, #T_16a50_row8_col13, #T_16a50_row9_col13, #T_16a50_row17_col1, #T_16a50_row18_col13, #T_16a50_row19_col13 {\n",
       "  background-color: #536edd;\n",
       "  color: #f1f1f1;\n",
       "}\n",
       "#T_16a50_row6_col14, #T_16a50_row7_col4, #T_16a50_row13_col14, #T_16a50_row16_col4, #T_16a50_row17_col4 {\n",
       "  background-color: #7699f6;\n",
       "  color: #f1f1f1;\n",
       "}\n",
       "#T_16a50_row6_col15, #T_16a50_row7_col2, #T_16a50_row7_col16, #T_16a50_row9_col15, #T_16a50_row13_col15, #T_16a50_row18_col15, #T_16a50_row19_col15 {\n",
       "  background-color: #7093f3;\n",
       "  color: #f1f1f1;\n",
       "}\n",
       "#T_16a50_row7_col0, #T_16a50_row9_col0, #T_16a50_row12_col19 {\n",
       "  background-color: #4b64d5;\n",
       "  color: #f1f1f1;\n",
       "}\n",
       "#T_16a50_row7_col1, #T_16a50_row7_col12, #T_16a50_row12_col11 {\n",
       "  background-color: #8badfd;\n",
       "  color: #000000;\n",
       "}\n",
       "#T_16a50_row7_col5, #T_16a50_row7_col11 {\n",
       "  background-color: #abc8fd;\n",
       "  color: #000000;\n",
       "}\n",
       "#T_16a50_row8_col5, #T_16a50_row8_col11 {\n",
       "  background-color: #bcd2f7;\n",
       "  color: #000000;\n",
       "}\n",
       "#T_16a50_row8_col9 {\n",
       "  background-color: #5977e3;\n",
       "  color: #f1f1f1;\n",
       "}\n",
       "#T_16a50_row8_col12, #T_16a50_row19_col12 {\n",
       "  background-color: #93b5fe;\n",
       "  color: #000000;\n",
       "}\n",
       "#T_16a50_row9_col3, #T_16a50_row9_col10, #T_16a50_row18_col3, #T_16a50_row18_col10, #T_16a50_row19_col3, #T_16a50_row19_col10 {\n",
       "  background-color: #88abfd;\n",
       "  color: #000000;\n",
       "}\n",
       "#T_16a50_row9_col4 {\n",
       "  background-color: #ead4c8;\n",
       "  color: #000000;\n",
       "}\n",
       "#T_16a50_row9_col5, #T_16a50_row9_col11 {\n",
       "  background-color: #b7cff9;\n",
       "  color: #000000;\n",
       "}\n",
       "#T_16a50_row11_col2 {\n",
       "  background-color: #d9dce1;\n",
       "  color: #000000;\n",
       "}\n",
       "#T_16a50_row11_col4 {\n",
       "  background-color: #6687ed;\n",
       "  color: #f1f1f1;\n",
       "}\n",
       "#T_16a50_row12_col15 {\n",
       "  background-color: #6b8df0;\n",
       "  color: #f1f1f1;\n",
       "}\n",
       "#T_16a50_row12_col18 {\n",
       "  background-color: #3f53c6;\n",
       "  color: #f1f1f1;\n",
       "}\n",
       "#T_16a50_row13_col2 {\n",
       "  background-color: #7da0f9;\n",
       "  color: #f1f1f1;\n",
       "}\n",
       "#T_16a50_row13_col12, #T_16a50_row15_col12 {\n",
       "  background-color: #8fb1fe;\n",
       "  color: #000000;\n",
       "}\n",
       "#T_16a50_row14_col1, #T_16a50_row17_col12 {\n",
       "  background-color: #8caffe;\n",
       "  color: #000000;\n",
       "}\n",
       "#T_16a50_row14_col3, #T_16a50_row14_col10 {\n",
       "  background-color: #80a3fa;\n",
       "  color: #f1f1f1;\n",
       "}\n",
       "#T_16a50_row15_col5, #T_16a50_row15_col11 {\n",
       "  background-color: #b1cbfc;\n",
       "  color: #000000;\n",
       "}\n",
       "#T_16a50_row16_col2 {\n",
       "  background-color: #6788ee;\n",
       "  color: #f1f1f1;\n",
       "}\n",
       "#T_16a50_row16_col3, #T_16a50_row16_col10, #T_16a50_row19_col2 {\n",
       "  background-color: #82a6fb;\n",
       "  color: #f1f1f1;\n",
       "}\n",
       "#T_16a50_row16_col5 {\n",
       "  background-color: #a7c5fe;\n",
       "  color: #000000;\n",
       "}\n",
       "#T_16a50_row16_col11 {\n",
       "  background-color: #a9c6fd;\n",
       "  color: #000000;\n",
       "}\n",
       "#T_16a50_row17_col5, #T_16a50_row17_col11 {\n",
       "  background-color: #aec9fc;\n",
       "  color: #000000;\n",
       "}\n",
       "#T_16a50_row19_col4 {\n",
       "  background-color: #a1c0ff;\n",
       "  color: #000000;\n",
       "}\n",
       "</style>\n",
       "<table id=\"T_16a50\">\n",
       "  <thead>\n",
       "    <tr>\n",
       "      <th class=\"blank level0\" >&nbsp;</th>\n",
       "      <th id=\"T_16a50_level0_col0\" class=\"col_heading level0 col0\" >price</th>\n",
       "      <th id=\"T_16a50_level0_col1\" class=\"col_heading level0 col1\" >space</th>\n",
       "      <th id=\"T_16a50_level0_col2\" class=\"col_heading level0 col2\" >is_apartment</th>\n",
       "      <th id=\"T_16a50_level0_col3\" class=\"col_heading level0 col3\" >is_duplex</th>\n",
       "      <th id=\"T_16a50_level0_col4\" class=\"col_heading level0 col4\" >is_house</th>\n",
       "      <th id=\"T_16a50_level0_col5\" class=\"col_heading level0 col5\" >APARTMENT</th>\n",
       "      <th id=\"T_16a50_level0_col6\" class=\"col_heading level0 col6\" >ATTIC</th>\n",
       "      <th id=\"T_16a50_level0_col7\" class=\"col_heading level0 col7\" >ATTIC_FLAT</th>\n",
       "      <th id=\"T_16a50_level0_col8\" class=\"col_heading level0 col8\" >BACHELOR_FLAT</th>\n",
       "      <th id=\"T_16a50_level0_col9\" class=\"col_heading level0 col9\" >BIFAMILIAR_HOUSE</th>\n",
       "      <th id=\"T_16a50_level0_col10\" class=\"col_heading level0 col10\" >DUPLEX</th>\n",
       "      <th id=\"T_16a50_level0_col11\" class=\"col_heading level0 col11\" >FLAT</th>\n",
       "      <th id=\"T_16a50_level0_col12\" class=\"col_heading level0 col12\" >FURNISHED_FLAT</th>\n",
       "      <th id=\"T_16a50_level0_col13\" class=\"col_heading level0 col13\" >LOFT</th>\n",
       "      <th id=\"T_16a50_level0_col14\" class=\"col_heading level0 col14\" >ROOF_FLAT</th>\n",
       "      <th id=\"T_16a50_level0_col15\" class=\"col_heading level0 col15\" >ROW_HOUSE</th>\n",
       "      <th id=\"T_16a50_level0_col16\" class=\"col_heading level0 col16\" >SINGLE_ROOM</th>\n",
       "      <th id=\"T_16a50_level0_col17\" class=\"col_heading level0 col17\" >STUDIO</th>\n",
       "      <th id=\"T_16a50_level0_col18\" class=\"col_heading level0 col18\" >TERRACE_FLAT</th>\n",
       "      <th id=\"T_16a50_level0_col19\" class=\"col_heading level0 col19\" >VILLA</th>\n",
       "    </tr>\n",
       "  </thead>\n",
       "  <tbody>\n",
       "    <tr>\n",
       "      <th id=\"T_16a50_level0_row0\" class=\"row_heading level0 row0\" >price</th>\n",
       "      <td id=\"T_16a50_row0_col0\" class=\"data row0 col0\" >1.000000</td>\n",
       "      <td id=\"T_16a50_row0_col1\" class=\"data row0 col1\" >0.130818</td>\n",
       "      <td id=\"T_16a50_row0_col2\" class=\"data row0 col2\" >-0.040999</td>\n",
       "      <td id=\"T_16a50_row0_col3\" class=\"data row0 col3\" >0.032242</td>\n",
       "      <td id=\"T_16a50_row0_col4\" class=\"data row0 col4\" >0.035898</td>\n",
       "      <td id=\"T_16a50_row0_col5\" class=\"data row0 col5\" >-0.027656</td>\n",
       "      <td id=\"T_16a50_row0_col6\" class=\"data row0 col6\" >-0.012218</td>\n",
       "      <td id=\"T_16a50_row0_col7\" class=\"data row0 col7\" >0.016550</td>\n",
       "      <td id=\"T_16a50_row0_col8\" class=\"data row0 col8\" >-0.000231</td>\n",
       "      <td id=\"T_16a50_row0_col9\" class=\"data row0 col9\" >0.017905</td>\n",
       "      <td id=\"T_16a50_row0_col10\" class=\"data row0 col10\" >0.032242</td>\n",
       "      <td id=\"T_16a50_row0_col11\" class=\"data row0 col11\" >-0.018159</td>\n",
       "      <td id=\"T_16a50_row0_col12\" class=\"data row0 col12\" >0.052532</td>\n",
       "      <td id=\"T_16a50_row0_col13\" class=\"data row0 col13\" >0.005107</td>\n",
       "      <td id=\"T_16a50_row0_col14\" class=\"data row0 col14\" >0.006134</td>\n",
       "      <td id=\"T_16a50_row0_col15\" class=\"data row0 col15\" >0.028452</td>\n",
       "      <td id=\"T_16a50_row0_col16\" class=\"data row0 col16\" >-0.024823</td>\n",
       "      <td id=\"T_16a50_row0_col17\" class=\"data row0 col17\" >-0.013890</td>\n",
       "      <td id=\"T_16a50_row0_col18\" class=\"data row0 col18\" >0.001884</td>\n",
       "      <td id=\"T_16a50_row0_col19\" class=\"data row0 col19\" >0.021388</td>\n",
       "    </tr>\n",
       "    <tr>\n",
       "      <th id=\"T_16a50_level0_row1\" class=\"row_heading level0 row1\" >space</th>\n",
       "      <td id=\"T_16a50_row1_col0\" class=\"data row1 col0\" >0.130818</td>\n",
       "      <td id=\"T_16a50_row1_col1\" class=\"data row1 col1\" >1.000000</td>\n",
       "      <td id=\"T_16a50_row1_col2\" class=\"data row1 col2\" >-0.129729</td>\n",
       "      <td id=\"T_16a50_row1_col3\" class=\"data row1 col3\" >0.287626</td>\n",
       "      <td id=\"T_16a50_row1_col4\" class=\"data row1 col4\" >0.202538</td>\n",
       "      <td id=\"T_16a50_row1_col5\" class=\"data row1 col5\" >-0.046219</td>\n",
       "      <td id=\"T_16a50_row1_col6\" class=\"data row1 col6\" >-0.079560</td>\n",
       "      <td id=\"T_16a50_row1_col7\" class=\"data row1 col7\" >0.077122</td>\n",
       "      <td id=\"T_16a50_row1_col8\" class=\"data row1 col8\" >-0.004281</td>\n",
       "      <td id=\"T_16a50_row1_col9\" class=\"data row1 col9\" >0.131518</td>\n",
       "      <td id=\"T_16a50_row1_col10\" class=\"data row1 col10\" >0.287626</td>\n",
       "      <td id=\"T_16a50_row1_col11\" class=\"data row1 col11\" >-0.071248</td>\n",
       "      <td id=\"T_16a50_row1_col12\" class=\"data row1 col12\" >0.009600</td>\n",
       "      <td id=\"T_16a50_row1_col13\" class=\"data row1 col13\" >0.048819</td>\n",
       "      <td id=\"T_16a50_row1_col14\" class=\"data row1 col14\" >0.078471</td>\n",
       "      <td id=\"T_16a50_row1_col15\" class=\"data row1 col15\" >0.155293</td>\n",
       "      <td id=\"T_16a50_row1_col16\" class=\"data row1 col16\" >-0.223986</td>\n",
       "      <td id=\"T_16a50_row1_col17\" class=\"data row1 col17\" >-0.127795</td>\n",
       "      <td id=\"T_16a50_row1_col18\" class=\"data row1 col18\" >0.012588</td>\n",
       "      <td id=\"T_16a50_row1_col19\" class=\"data row1 col19\" >0.094406</td>\n",
       "    </tr>\n",
       "    <tr>\n",
       "      <th id=\"T_16a50_level0_row2\" class=\"row_heading level0 row2\" >is_apartment</th>\n",
       "      <td id=\"T_16a50_row2_col0\" class=\"data row2 col0\" >-0.040999</td>\n",
       "      <td id=\"T_16a50_row2_col1\" class=\"data row2 col1\" >-0.129729</td>\n",
       "      <td id=\"T_16a50_row2_col2\" class=\"data row2 col2\" >1.000000</td>\n",
       "      <td id=\"T_16a50_row2_col3\" class=\"data row2 col3\" >-0.317157</td>\n",
       "      <td id=\"T_16a50_row2_col4\" class=\"data row2 col4\" >-0.241076</td>\n",
       "      <td id=\"T_16a50_row2_col5\" class=\"data row2 col5\" >0.304123</td>\n",
       "      <td id=\"T_16a50_row2_col6\" class=\"data row2 col6\" >-0.066672</td>\n",
       "      <td id=\"T_16a50_row2_col7\" class=\"data row2 col7\" >-0.138909</td>\n",
       "      <td id=\"T_16a50_row2_col8\" class=\"data row2 col8\" >-0.012999</td>\n",
       "      <td id=\"T_16a50_row2_col9\" class=\"data row2 col9\" >-0.108945</td>\n",
       "      <td id=\"T_16a50_row2_col10\" class=\"data row2 col10\" >-0.317157</td>\n",
       "      <td id=\"T_16a50_row2_col11\" class=\"data row2 col11\" >0.295703</td>\n",
       "      <td id=\"T_16a50_row2_col12\" class=\"data row2 col12\" >-0.372489</td>\n",
       "      <td id=\"T_16a50_row2_col13\" class=\"data row2 col13\" >-0.088829</td>\n",
       "      <td id=\"T_16a50_row2_col14\" class=\"data row2 col14\" >-0.241861</td>\n",
       "      <td id=\"T_16a50_row2_col15\" class=\"data row2 col15\" >-0.209258</td>\n",
       "      <td id=\"T_16a50_row2_col16\" class=\"data row2 col16\" >-0.176435</td>\n",
       "      <td id=\"T_16a50_row2_col17\" class=\"data row2 col17\" >-0.134332</td>\n",
       "      <td id=\"T_16a50_row2_col18\" class=\"data row2 col18\" >-0.028819</td>\n",
       "      <td id=\"T_16a50_row2_col19\" class=\"data row2 col19\" >-0.067531</td>\n",
       "    </tr>\n",
       "    <tr>\n",
       "      <th id=\"T_16a50_level0_row3\" class=\"row_heading level0 row3\" >is_duplex</th>\n",
       "      <td id=\"T_16a50_row3_col0\" class=\"data row3 col0\" >0.032242</td>\n",
       "      <td id=\"T_16a50_row3_col1\" class=\"data row3 col1\" >0.287626</td>\n",
       "      <td id=\"T_16a50_row3_col2\" class=\"data row3 col2\" >-0.317157</td>\n",
       "      <td id=\"T_16a50_row3_col3\" class=\"data row3 col3\" >1.000000</td>\n",
       "      <td id=\"T_16a50_row3_col4\" class=\"data row3 col4\" >-0.017295</td>\n",
       "      <td id=\"T_16a50_row3_col5\" class=\"data row3 col5\" >-0.157018</td>\n",
       "      <td id=\"T_16a50_row3_col6\" class=\"data row3 col6\" >-0.009264</td>\n",
       "      <td id=\"T_16a50_row3_col7\" class=\"data row3 col7\" >-0.021853</td>\n",
       "      <td id=\"T_16a50_row3_col8\" class=\"data row3 col8\" >-0.002166</td>\n",
       "      <td id=\"T_16a50_row3_col9\" class=\"data row3 col9\" >-0.007816</td>\n",
       "      <td id=\"T_16a50_row3_col10\" class=\"data row3 col10\" >1.000000</td>\n",
       "      <td id=\"T_16a50_row3_col11\" class=\"data row3 col11\" >-0.152670</td>\n",
       "      <td id=\"T_16a50_row3_col12\" class=\"data row3 col12\" >-0.059082</td>\n",
       "      <td id=\"T_16a50_row3_col13\" class=\"data row3 col13\" >-0.013905</td>\n",
       "      <td id=\"T_16a50_row3_col14\" class=\"data row3 col14\" >-0.036903</td>\n",
       "      <td id=\"T_16a50_row3_col15\" class=\"data row3 col15\" >-0.015012</td>\n",
       "      <td id=\"T_16a50_row3_col16\" class=\"data row3 col16\" >-0.025787</td>\n",
       "      <td id=\"T_16a50_row3_col17\" class=\"data row3 col17\" >-0.019005</td>\n",
       "      <td id=\"T_16a50_row3_col18\" class=\"data row3 col18\" >-0.005630</td>\n",
       "      <td id=\"T_16a50_row3_col19\" class=\"data row3 col19\" >-0.004845</td>\n",
       "    </tr>\n",
       "    <tr>\n",
       "      <th id=\"T_16a50_level0_row4\" class=\"row_heading level0 row4\" >is_house</th>\n",
       "      <td id=\"T_16a50_row4_col0\" class=\"data row4 col0\" >0.035898</td>\n",
       "      <td id=\"T_16a50_row4_col1\" class=\"data row4 col1\" >0.202538</td>\n",
       "      <td id=\"T_16a50_row4_col2\" class=\"data row4 col2\" >-0.241076</td>\n",
       "      <td id=\"T_16a50_row4_col3\" class=\"data row4 col3\" >-0.017295</td>\n",
       "      <td id=\"T_16a50_row4_col4\" class=\"data row4 col4\" >1.000000</td>\n",
       "      <td id=\"T_16a50_row4_col5\" class=\"data row4 col5\" >-0.073317</td>\n",
       "      <td id=\"T_16a50_row4_col6\" class=\"data row4 col6\" >-0.004325</td>\n",
       "      <td id=\"T_16a50_row4_col7\" class=\"data row4 col7\" >-0.010204</td>\n",
       "      <td id=\"T_16a50_row4_col8\" class=\"data row4 col8\" >-0.001011</td>\n",
       "      <td id=\"T_16a50_row4_col9\" class=\"data row4 col9\" >0.451911</td>\n",
       "      <td id=\"T_16a50_row4_col10\" class=\"data row4 col10\" >-0.017295</td>\n",
       "      <td id=\"T_16a50_row4_col11\" class=\"data row4 col11\" >-0.071287</td>\n",
       "      <td id=\"T_16a50_row4_col12\" class=\"data row4 col12\" >-0.027587</td>\n",
       "      <td id=\"T_16a50_row4_col13\" class=\"data row4 col13\" >-0.006493</td>\n",
       "      <td id=\"T_16a50_row4_col14\" class=\"data row4 col14\" >-0.017231</td>\n",
       "      <td id=\"T_16a50_row4_col15\" class=\"data row4 col15\" >0.868015</td>\n",
       "      <td id=\"T_16a50_row4_col16\" class=\"data row4 col16\" >-0.012041</td>\n",
       "      <td id=\"T_16a50_row4_col17\" class=\"data row4 col17\" >-0.008874</td>\n",
       "      <td id=\"T_16a50_row4_col18\" class=\"data row4 col18\" >-0.002629</td>\n",
       "      <td id=\"T_16a50_row4_col19\" class=\"data row4 col19\" >0.138929</td>\n",
       "    </tr>\n",
       "    <tr>\n",
       "      <th id=\"T_16a50_level0_row5\" class=\"row_heading level0 row5\" >APARTMENT</th>\n",
       "      <td id=\"T_16a50_row5_col0\" class=\"data row5 col0\" >-0.027656</td>\n",
       "      <td id=\"T_16a50_row5_col1\" class=\"data row5 col1\" >-0.046219</td>\n",
       "      <td id=\"T_16a50_row5_col2\" class=\"data row5 col2\" >0.304123</td>\n",
       "      <td id=\"T_16a50_row5_col3\" class=\"data row5 col3\" >-0.157018</td>\n",
       "      <td id=\"T_16a50_row5_col4\" class=\"data row5 col4\" >-0.073317</td>\n",
       "      <td id=\"T_16a50_row5_col5\" class=\"data row5 col5\" >1.000000</td>\n",
       "      <td id=\"T_16a50_row5_col6\" class=\"data row5 col6\" >-0.039270</td>\n",
       "      <td id=\"T_16a50_row5_col7\" class=\"data row5 col7\" >-0.092638</td>\n",
       "      <td id=\"T_16a50_row5_col8\" class=\"data row5 col8\" >-0.009182</td>\n",
       "      <td id=\"T_16a50_row5_col9\" class=\"data row5 col9\" >-0.033133</td>\n",
       "      <td id=\"T_16a50_row5_col10\" class=\"data row5 col10\" >-0.157018</td>\n",
       "      <td id=\"T_16a50_row5_col11\" class=\"data row5 col11\" >-0.647201</td>\n",
       "      <td id=\"T_16a50_row5_col12\" class=\"data row5 col12\" >-0.250459</td>\n",
       "      <td id=\"T_16a50_row5_col13\" class=\"data row5 col13\" >-0.058945</td>\n",
       "      <td id=\"T_16a50_row5_col14\" class=\"data row5 col14\" >-0.156439</td>\n",
       "      <td id=\"T_16a50_row5_col15\" class=\"data row5 col15\" >-0.063640</td>\n",
       "      <td id=\"T_16a50_row5_col16\" class=\"data row5 col16\" >-0.109317</td>\n",
       "      <td id=\"T_16a50_row5_col17\" class=\"data row5 col17\" >-0.080566</td>\n",
       "      <td id=\"T_16a50_row5_col18\" class=\"data row5 col18\" >-0.023865</td>\n",
       "      <td id=\"T_16a50_row5_col19\" class=\"data row5 col19\" >-0.020538</td>\n",
       "    </tr>\n",
       "    <tr>\n",
       "      <th id=\"T_16a50_level0_row6\" class=\"row_heading level0 row6\" >ATTIC</th>\n",
       "      <td id=\"T_16a50_row6_col0\" class=\"data row6 col0\" >-0.012218</td>\n",
       "      <td id=\"T_16a50_row6_col1\" class=\"data row6 col1\" >-0.079560</td>\n",
       "      <td id=\"T_16a50_row6_col2\" class=\"data row6 col2\" >-0.066672</td>\n",
       "      <td id=\"T_16a50_row6_col3\" class=\"data row6 col3\" >-0.009264</td>\n",
       "      <td id=\"T_16a50_row6_col4\" class=\"data row6 col4\" >-0.004325</td>\n",
       "      <td id=\"T_16a50_row6_col5\" class=\"data row6 col5\" >-0.039270</td>\n",
       "      <td id=\"T_16a50_row6_col6\" class=\"data row6 col6\" >1.000000</td>\n",
       "      <td id=\"T_16a50_row6_col7\" class=\"data row6 col7\" >-0.005465</td>\n",
       "      <td id=\"T_16a50_row6_col8\" class=\"data row6 col8\" >-0.000542</td>\n",
       "      <td id=\"T_16a50_row6_col9\" class=\"data row6 col9\" >-0.001955</td>\n",
       "      <td id=\"T_16a50_row6_col10\" class=\"data row6 col10\" >-0.009264</td>\n",
       "      <td id=\"T_16a50_row6_col11\" class=\"data row6 col11\" >-0.038183</td>\n",
       "      <td id=\"T_16a50_row6_col12\" class=\"data row6 col12\" >-0.014776</td>\n",
       "      <td id=\"T_16a50_row6_col13\" class=\"data row6 col13\" >-0.003478</td>\n",
       "      <td id=\"T_16a50_row6_col14\" class=\"data row6 col14\" >-0.009229</td>\n",
       "      <td id=\"T_16a50_row6_col15\" class=\"data row6 col15\" >-0.003755</td>\n",
       "      <td id=\"T_16a50_row6_col16\" class=\"data row6 col16\" >-0.006449</td>\n",
       "      <td id=\"T_16a50_row6_col17\" class=\"data row6 col17\" >-0.004753</td>\n",
       "      <td id=\"T_16a50_row6_col18\" class=\"data row6 col18\" >-0.001408</td>\n",
       "      <td id=\"T_16a50_row6_col19\" class=\"data row6 col19\" >-0.001212</td>\n",
       "    </tr>\n",
       "    <tr>\n",
       "      <th id=\"T_16a50_level0_row7\" class=\"row_heading level0 row7\" >ATTIC_FLAT</th>\n",
       "      <td id=\"T_16a50_row7_col0\" class=\"data row7 col0\" >0.016550</td>\n",
       "      <td id=\"T_16a50_row7_col1\" class=\"data row7 col1\" >0.077122</td>\n",
       "      <td id=\"T_16a50_row7_col2\" class=\"data row7 col2\" >-0.138909</td>\n",
       "      <td id=\"T_16a50_row7_col3\" class=\"data row7 col3\" >-0.021853</td>\n",
       "      <td id=\"T_16a50_row7_col4\" class=\"data row7 col4\" >-0.010204</td>\n",
       "      <td id=\"T_16a50_row7_col5\" class=\"data row7 col5\" >-0.092638</td>\n",
       "      <td id=\"T_16a50_row7_col6\" class=\"data row7 col6\" >-0.005465</td>\n",
       "      <td id=\"T_16a50_row7_col7\" class=\"data row7 col7\" >1.000000</td>\n",
       "      <td id=\"T_16a50_row7_col8\" class=\"data row7 col8\" >-0.001278</td>\n",
       "      <td id=\"T_16a50_row7_col9\" class=\"data row7 col9\" >-0.004611</td>\n",
       "      <td id=\"T_16a50_row7_col10\" class=\"data row7 col10\" >-0.021853</td>\n",
       "      <td id=\"T_16a50_row7_col11\" class=\"data row7 col11\" >-0.090074</td>\n",
       "      <td id=\"T_16a50_row7_col12\" class=\"data row7 col12\" >-0.034857</td>\n",
       "      <td id=\"T_16a50_row7_col13\" class=\"data row7 col13\" >-0.008204</td>\n",
       "      <td id=\"T_16a50_row7_col14\" class=\"data row7 col14\" >-0.021772</td>\n",
       "      <td id=\"T_16a50_row7_col15\" class=\"data row7 col15\" >-0.008857</td>\n",
       "      <td id=\"T_16a50_row7_col16\" class=\"data row7 col16\" >-0.015214</td>\n",
       "      <td id=\"T_16a50_row7_col17\" class=\"data row7 col17\" >-0.011213</td>\n",
       "      <td id=\"T_16a50_row7_col18\" class=\"data row7 col18\" >-0.003321</td>\n",
       "      <td id=\"T_16a50_row7_col19\" class=\"data row7 col19\" >-0.002858</td>\n",
       "    </tr>\n",
       "    <tr>\n",
       "      <th id=\"T_16a50_level0_row8\" class=\"row_heading level0 row8\" >BACHELOR_FLAT</th>\n",
       "      <td id=\"T_16a50_row8_col0\" class=\"data row8 col0\" >-0.000231</td>\n",
       "      <td id=\"T_16a50_row8_col1\" class=\"data row8 col1\" >-0.004281</td>\n",
       "      <td id=\"T_16a50_row8_col2\" class=\"data row8 col2\" >-0.012999</td>\n",
       "      <td id=\"T_16a50_row8_col3\" class=\"data row8 col3\" >-0.002166</td>\n",
       "      <td id=\"T_16a50_row8_col4\" class=\"data row8 col4\" >-0.001011</td>\n",
       "      <td id=\"T_16a50_row8_col5\" class=\"data row8 col5\" >-0.009182</td>\n",
       "      <td id=\"T_16a50_row8_col6\" class=\"data row8 col6\" >-0.000542</td>\n",
       "      <td id=\"T_16a50_row8_col7\" class=\"data row8 col7\" >-0.001278</td>\n",
       "      <td id=\"T_16a50_row8_col8\" class=\"data row8 col8\" >1.000000</td>\n",
       "      <td id=\"T_16a50_row8_col9\" class=\"data row8 col9\" >-0.000457</td>\n",
       "      <td id=\"T_16a50_row8_col10\" class=\"data row8 col10\" >-0.002166</td>\n",
       "      <td id=\"T_16a50_row8_col11\" class=\"data row8 col11\" >-0.008928</td>\n",
       "      <td id=\"T_16a50_row8_col12\" class=\"data row8 col12\" >-0.003455</td>\n",
       "      <td id=\"T_16a50_row8_col13\" class=\"data row8 col13\" >-0.000813</td>\n",
       "      <td id=\"T_16a50_row8_col14\" class=\"data row8 col14\" >-0.002158</td>\n",
       "      <td id=\"T_16a50_row8_col15\" class=\"data row8 col15\" >-0.000878</td>\n",
       "      <td id=\"T_16a50_row8_col16\" class=\"data row8 col16\" >-0.001508</td>\n",
       "      <td id=\"T_16a50_row8_col17\" class=\"data row8 col17\" >-0.001111</td>\n",
       "      <td id=\"T_16a50_row8_col18\" class=\"data row8 col18\" >-0.000329</td>\n",
       "      <td id=\"T_16a50_row8_col19\" class=\"data row8 col19\" >-0.000283</td>\n",
       "    </tr>\n",
       "    <tr>\n",
       "      <th id=\"T_16a50_level0_row9\" class=\"row_heading level0 row9\" >BIFAMILIAR_HOUSE</th>\n",
       "      <td id=\"T_16a50_row9_col0\" class=\"data row9 col0\" >0.017905</td>\n",
       "      <td id=\"T_16a50_row9_col1\" class=\"data row9 col1\" >0.131518</td>\n",
       "      <td id=\"T_16a50_row9_col2\" class=\"data row9 col2\" >-0.108945</td>\n",
       "      <td id=\"T_16a50_row9_col3\" class=\"data row9 col3\" >-0.007816</td>\n",
       "      <td id=\"T_16a50_row9_col4\" class=\"data row9 col4\" >0.451911</td>\n",
       "      <td id=\"T_16a50_row9_col5\" class=\"data row9 col5\" >-0.033133</td>\n",
       "      <td id=\"T_16a50_row9_col6\" class=\"data row9 col6\" >-0.001955</td>\n",
       "      <td id=\"T_16a50_row9_col7\" class=\"data row9 col7\" >-0.004611</td>\n",
       "      <td id=\"T_16a50_row9_col8\" class=\"data row9 col8\" >-0.000457</td>\n",
       "      <td id=\"T_16a50_row9_col9\" class=\"data row9 col9\" >1.000000</td>\n",
       "      <td id=\"T_16a50_row9_col10\" class=\"data row9 col10\" >-0.007816</td>\n",
       "      <td id=\"T_16a50_row9_col11\" class=\"data row9 col11\" >-0.032215</td>\n",
       "      <td id=\"T_16a50_row9_col12\" class=\"data row9 col12\" >-0.012467</td>\n",
       "      <td id=\"T_16a50_row9_col13\" class=\"data row9 col13\" >-0.002934</td>\n",
       "      <td id=\"T_16a50_row9_col14\" class=\"data row9 col14\" >-0.007787</td>\n",
       "      <td id=\"T_16a50_row9_col15\" class=\"data row9 col15\" >-0.003168</td>\n",
       "      <td id=\"T_16a50_row9_col16\" class=\"data row9 col16\" >-0.005441</td>\n",
       "      <td id=\"T_16a50_row9_col17\" class=\"data row9 col17\" >-0.004010</td>\n",
       "      <td id=\"T_16a50_row9_col18\" class=\"data row9 col18\" >-0.001188</td>\n",
       "      <td id=\"T_16a50_row9_col19\" class=\"data row9 col19\" >-0.001022</td>\n",
       "    </tr>\n",
       "    <tr>\n",
       "      <th id=\"T_16a50_level0_row10\" class=\"row_heading level0 row10\" >DUPLEX</th>\n",
       "      <td id=\"T_16a50_row10_col0\" class=\"data row10 col0\" >0.032242</td>\n",
       "      <td id=\"T_16a50_row10_col1\" class=\"data row10 col1\" >0.287626</td>\n",
       "      <td id=\"T_16a50_row10_col2\" class=\"data row10 col2\" >-0.317157</td>\n",
       "      <td id=\"T_16a50_row10_col3\" class=\"data row10 col3\" >1.000000</td>\n",
       "      <td id=\"T_16a50_row10_col4\" class=\"data row10 col4\" >-0.017295</td>\n",
       "      <td id=\"T_16a50_row10_col5\" class=\"data row10 col5\" >-0.157018</td>\n",
       "      <td id=\"T_16a50_row10_col6\" class=\"data row10 col6\" >-0.009264</td>\n",
       "      <td id=\"T_16a50_row10_col7\" class=\"data row10 col7\" >-0.021853</td>\n",
       "      <td id=\"T_16a50_row10_col8\" class=\"data row10 col8\" >-0.002166</td>\n",
       "      <td id=\"T_16a50_row10_col9\" class=\"data row10 col9\" >-0.007816</td>\n",
       "      <td id=\"T_16a50_row10_col10\" class=\"data row10 col10\" >1.000000</td>\n",
       "      <td id=\"T_16a50_row10_col11\" class=\"data row10 col11\" >-0.152670</td>\n",
       "      <td id=\"T_16a50_row10_col12\" class=\"data row10 col12\" >-0.059082</td>\n",
       "      <td id=\"T_16a50_row10_col13\" class=\"data row10 col13\" >-0.013905</td>\n",
       "      <td id=\"T_16a50_row10_col14\" class=\"data row10 col14\" >-0.036903</td>\n",
       "      <td id=\"T_16a50_row10_col15\" class=\"data row10 col15\" >-0.015012</td>\n",
       "      <td id=\"T_16a50_row10_col16\" class=\"data row10 col16\" >-0.025787</td>\n",
       "      <td id=\"T_16a50_row10_col17\" class=\"data row10 col17\" >-0.019005</td>\n",
       "      <td id=\"T_16a50_row10_col18\" class=\"data row10 col18\" >-0.005630</td>\n",
       "      <td id=\"T_16a50_row10_col19\" class=\"data row10 col19\" >-0.004845</td>\n",
       "    </tr>\n",
       "    <tr>\n",
       "      <th id=\"T_16a50_level0_row11\" class=\"row_heading level0 row11\" >FLAT</th>\n",
       "      <td id=\"T_16a50_row11_col0\" class=\"data row11 col0\" >-0.018159</td>\n",
       "      <td id=\"T_16a50_row11_col1\" class=\"data row11 col1\" >-0.071248</td>\n",
       "      <td id=\"T_16a50_row11_col2\" class=\"data row11 col2\" >0.295703</td>\n",
       "      <td id=\"T_16a50_row11_col3\" class=\"data row11 col3\" >-0.152670</td>\n",
       "      <td id=\"T_16a50_row11_col4\" class=\"data row11 col4\" >-0.071287</td>\n",
       "      <td id=\"T_16a50_row11_col5\" class=\"data row11 col5\" >-0.647201</td>\n",
       "      <td id=\"T_16a50_row11_col6\" class=\"data row11 col6\" >-0.038183</td>\n",
       "      <td id=\"T_16a50_row11_col7\" class=\"data row11 col7\" >-0.090074</td>\n",
       "      <td id=\"T_16a50_row11_col8\" class=\"data row11 col8\" >-0.008928</td>\n",
       "      <td id=\"T_16a50_row11_col9\" class=\"data row11 col9\" >-0.032215</td>\n",
       "      <td id=\"T_16a50_row11_col10\" class=\"data row11 col10\" >-0.152670</td>\n",
       "      <td id=\"T_16a50_row11_col11\" class=\"data row11 col11\" >1.000000</td>\n",
       "      <td id=\"T_16a50_row11_col12\" class=\"data row11 col12\" >-0.243525</td>\n",
       "      <td id=\"T_16a50_row11_col13\" class=\"data row11 col13\" >-0.057313</td>\n",
       "      <td id=\"T_16a50_row11_col14\" class=\"data row11 col14\" >-0.152108</td>\n",
       "      <td id=\"T_16a50_row11_col15\" class=\"data row11 col15\" >-0.061878</td>\n",
       "      <td id=\"T_16a50_row11_col16\" class=\"data row11 col16\" >-0.106290</td>\n",
       "      <td id=\"T_16a50_row11_col17\" class=\"data row11 col17\" >-0.078336</td>\n",
       "      <td id=\"T_16a50_row11_col18\" class=\"data row11 col18\" >-0.023204</td>\n",
       "      <td id=\"T_16a50_row11_col19\" class=\"data row11 col19\" >-0.019969</td>\n",
       "    </tr>\n",
       "    <tr>\n",
       "      <th id=\"T_16a50_level0_row12\" class=\"row_heading level0 row12\" >FURNISHED_FLAT</th>\n",
       "      <td id=\"T_16a50_row12_col0\" class=\"data row12 col0\" >0.052532</td>\n",
       "      <td id=\"T_16a50_row12_col1\" class=\"data row12 col1\" >0.009600</td>\n",
       "      <td id=\"T_16a50_row12_col2\" class=\"data row12 col2\" >-0.372489</td>\n",
       "      <td id=\"T_16a50_row12_col3\" class=\"data row12 col3\" >-0.059082</td>\n",
       "      <td id=\"T_16a50_row12_col4\" class=\"data row12 col4\" >-0.027587</td>\n",
       "      <td id=\"T_16a50_row12_col5\" class=\"data row12 col5\" >-0.250459</td>\n",
       "      <td id=\"T_16a50_row12_col6\" class=\"data row12 col6\" >-0.014776</td>\n",
       "      <td id=\"T_16a50_row12_col7\" class=\"data row12 col7\" >-0.034857</td>\n",
       "      <td id=\"T_16a50_row12_col8\" class=\"data row12 col8\" >-0.003455</td>\n",
       "      <td id=\"T_16a50_row12_col9\" class=\"data row12 col9\" >-0.012467</td>\n",
       "      <td id=\"T_16a50_row12_col10\" class=\"data row12 col10\" >-0.059082</td>\n",
       "      <td id=\"T_16a50_row12_col11\" class=\"data row12 col11\" >-0.243525</td>\n",
       "      <td id=\"T_16a50_row12_col12\" class=\"data row12 col12\" >1.000000</td>\n",
       "      <td id=\"T_16a50_row12_col13\" class=\"data row12 col13\" >-0.022180</td>\n",
       "      <td id=\"T_16a50_row12_col14\" class=\"data row12 col14\" >-0.058864</td>\n",
       "      <td id=\"T_16a50_row12_col15\" class=\"data row12 col15\" >-0.023946</td>\n",
       "      <td id=\"T_16a50_row12_col16\" class=\"data row12 col16\" >-0.041133</td>\n",
       "      <td id=\"T_16a50_row12_col17\" class=\"data row12 col17\" >-0.030315</td>\n",
       "      <td id=\"T_16a50_row12_col18\" class=\"data row12 col18\" >-0.008980</td>\n",
       "      <td id=\"T_16a50_row12_col19\" class=\"data row12 col19\" >-0.007728</td>\n",
       "    </tr>\n",
       "    <tr>\n",
       "      <th id=\"T_16a50_level0_row13\" class=\"row_heading level0 row13\" >LOFT</th>\n",
       "      <td id=\"T_16a50_row13_col0\" class=\"data row13 col0\" >0.005107</td>\n",
       "      <td id=\"T_16a50_row13_col1\" class=\"data row13 col1\" >0.048819</td>\n",
       "      <td id=\"T_16a50_row13_col2\" class=\"data row13 col2\" >-0.088829</td>\n",
       "      <td id=\"T_16a50_row13_col3\" class=\"data row13 col3\" >-0.013905</td>\n",
       "      <td id=\"T_16a50_row13_col4\" class=\"data row13 col4\" >-0.006493</td>\n",
       "      <td id=\"T_16a50_row13_col5\" class=\"data row13 col5\" >-0.058945</td>\n",
       "      <td id=\"T_16a50_row13_col6\" class=\"data row13 col6\" >-0.003478</td>\n",
       "      <td id=\"T_16a50_row13_col7\" class=\"data row13 col7\" >-0.008204</td>\n",
       "      <td id=\"T_16a50_row13_col8\" class=\"data row13 col8\" >-0.000813</td>\n",
       "      <td id=\"T_16a50_row13_col9\" class=\"data row13 col9\" >-0.002934</td>\n",
       "      <td id=\"T_16a50_row13_col10\" class=\"data row13 col10\" >-0.013905</td>\n",
       "      <td id=\"T_16a50_row13_col11\" class=\"data row13 col11\" >-0.057313</td>\n",
       "      <td id=\"T_16a50_row13_col12\" class=\"data row13 col12\" >-0.022180</td>\n",
       "      <td id=\"T_16a50_row13_col13\" class=\"data row13 col13\" >1.000000</td>\n",
       "      <td id=\"T_16a50_row13_col14\" class=\"data row13 col14\" >-0.013854</td>\n",
       "      <td id=\"T_16a50_row13_col15\" class=\"data row13 col15\" >-0.005636</td>\n",
       "      <td id=\"T_16a50_row13_col16\" class=\"data row13 col16\" >-0.009681</td>\n",
       "      <td id=\"T_16a50_row13_col17\" class=\"data row13 col17\" >-0.007135</td>\n",
       "      <td id=\"T_16a50_row13_col18\" class=\"data row13 col18\" >-0.002113</td>\n",
       "      <td id=\"T_16a50_row13_col19\" class=\"data row13 col19\" >-0.001819</td>\n",
       "    </tr>\n",
       "    <tr>\n",
       "      <th id=\"T_16a50_level0_row14\" class=\"row_heading level0 row14\" >ROOF_FLAT</th>\n",
       "      <td id=\"T_16a50_row14_col0\" class=\"data row14 col0\" >0.006134</td>\n",
       "      <td id=\"T_16a50_row14_col1\" class=\"data row14 col1\" >0.078471</td>\n",
       "      <td id=\"T_16a50_row14_col2\" class=\"data row14 col2\" >-0.241861</td>\n",
       "      <td id=\"T_16a50_row14_col3\" class=\"data row14 col3\" >-0.036903</td>\n",
       "      <td id=\"T_16a50_row14_col4\" class=\"data row14 col4\" >-0.017231</td>\n",
       "      <td id=\"T_16a50_row14_col5\" class=\"data row14 col5\" >-0.156439</td>\n",
       "      <td id=\"T_16a50_row14_col6\" class=\"data row14 col6\" >-0.009229</td>\n",
       "      <td id=\"T_16a50_row14_col7\" class=\"data row14 col7\" >-0.021772</td>\n",
       "      <td id=\"T_16a50_row14_col8\" class=\"data row14 col8\" >-0.002158</td>\n",
       "      <td id=\"T_16a50_row14_col9\" class=\"data row14 col9\" >-0.007787</td>\n",
       "      <td id=\"T_16a50_row14_col10\" class=\"data row14 col10\" >-0.036903</td>\n",
       "      <td id=\"T_16a50_row14_col11\" class=\"data row14 col11\" >-0.152108</td>\n",
       "      <td id=\"T_16a50_row14_col12\" class=\"data row14 col12\" >-0.058864</td>\n",
       "      <td id=\"T_16a50_row14_col13\" class=\"data row14 col13\" >-0.013854</td>\n",
       "      <td id=\"T_16a50_row14_col14\" class=\"data row14 col14\" >1.000000</td>\n",
       "      <td id=\"T_16a50_row14_col15\" class=\"data row14 col15\" >-0.014957</td>\n",
       "      <td id=\"T_16a50_row14_col16\" class=\"data row14 col16\" >-0.025692</td>\n",
       "      <td id=\"T_16a50_row14_col17\" class=\"data row14 col17\" >-0.018935</td>\n",
       "      <td id=\"T_16a50_row14_col18\" class=\"data row14 col18\" >-0.005609</td>\n",
       "      <td id=\"T_16a50_row14_col19\" class=\"data row14 col19\" >-0.004827</td>\n",
       "    </tr>\n",
       "    <tr>\n",
       "      <th id=\"T_16a50_level0_row15\" class=\"row_heading level0 row15\" >ROW_HOUSE</th>\n",
       "      <td id=\"T_16a50_row15_col0\" class=\"data row15 col0\" >0.028452</td>\n",
       "      <td id=\"T_16a50_row15_col1\" class=\"data row15 col1\" >0.155293</td>\n",
       "      <td id=\"T_16a50_row15_col2\" class=\"data row15 col2\" >-0.209258</td>\n",
       "      <td id=\"T_16a50_row15_col3\" class=\"data row15 col3\" >-0.015012</td>\n",
       "      <td id=\"T_16a50_row15_col4\" class=\"data row15 col4\" >0.868015</td>\n",
       "      <td id=\"T_16a50_row15_col5\" class=\"data row15 col5\" >-0.063640</td>\n",
       "      <td id=\"T_16a50_row15_col6\" class=\"data row15 col6\" >-0.003755</td>\n",
       "      <td id=\"T_16a50_row15_col7\" class=\"data row15 col7\" >-0.008857</td>\n",
       "      <td id=\"T_16a50_row15_col8\" class=\"data row15 col8\" >-0.000878</td>\n",
       "      <td id=\"T_16a50_row15_col9\" class=\"data row15 col9\" >-0.003168</td>\n",
       "      <td id=\"T_16a50_row15_col10\" class=\"data row15 col10\" >-0.015012</td>\n",
       "      <td id=\"T_16a50_row15_col11\" class=\"data row15 col11\" >-0.061878</td>\n",
       "      <td id=\"T_16a50_row15_col12\" class=\"data row15 col12\" >-0.023946</td>\n",
       "      <td id=\"T_16a50_row15_col13\" class=\"data row15 col13\" >-0.005636</td>\n",
       "      <td id=\"T_16a50_row15_col14\" class=\"data row15 col14\" >-0.014957</td>\n",
       "      <td id=\"T_16a50_row15_col15\" class=\"data row15 col15\" >1.000000</td>\n",
       "      <td id=\"T_16a50_row15_col16\" class=\"data row15 col16\" >-0.010452</td>\n",
       "      <td id=\"T_16a50_row15_col17\" class=\"data row15 col17\" >-0.007703</td>\n",
       "      <td id=\"T_16a50_row15_col18\" class=\"data row15 col18\" >-0.002282</td>\n",
       "      <td id=\"T_16a50_row15_col19\" class=\"data row15 col19\" >-0.001964</td>\n",
       "    </tr>\n",
       "    <tr>\n",
       "      <th id=\"T_16a50_level0_row16\" class=\"row_heading level0 row16\" >SINGLE_ROOM</th>\n",
       "      <td id=\"T_16a50_row16_col0\" class=\"data row16 col0\" >-0.024823</td>\n",
       "      <td id=\"T_16a50_row16_col1\" class=\"data row16 col1\" >-0.223986</td>\n",
       "      <td id=\"T_16a50_row16_col2\" class=\"data row16 col2\" >-0.176435</td>\n",
       "      <td id=\"T_16a50_row16_col3\" class=\"data row16 col3\" >-0.025787</td>\n",
       "      <td id=\"T_16a50_row16_col4\" class=\"data row16 col4\" >-0.012041</td>\n",
       "      <td id=\"T_16a50_row16_col5\" class=\"data row16 col5\" >-0.109317</td>\n",
       "      <td id=\"T_16a50_row16_col6\" class=\"data row16 col6\" >-0.006449</td>\n",
       "      <td id=\"T_16a50_row16_col7\" class=\"data row16 col7\" >-0.015214</td>\n",
       "      <td id=\"T_16a50_row16_col8\" class=\"data row16 col8\" >-0.001508</td>\n",
       "      <td id=\"T_16a50_row16_col9\" class=\"data row16 col9\" >-0.005441</td>\n",
       "      <td id=\"T_16a50_row16_col10\" class=\"data row16 col10\" >-0.025787</td>\n",
       "      <td id=\"T_16a50_row16_col11\" class=\"data row16 col11\" >-0.106290</td>\n",
       "      <td id=\"T_16a50_row16_col12\" class=\"data row16 col12\" >-0.041133</td>\n",
       "      <td id=\"T_16a50_row16_col13\" class=\"data row16 col13\" >-0.009681</td>\n",
       "      <td id=\"T_16a50_row16_col14\" class=\"data row16 col14\" >-0.025692</td>\n",
       "      <td id=\"T_16a50_row16_col15\" class=\"data row16 col15\" >-0.010452</td>\n",
       "      <td id=\"T_16a50_row16_col16\" class=\"data row16 col16\" >1.000000</td>\n",
       "      <td id=\"T_16a50_row16_col17\" class=\"data row16 col17\" >-0.013231</td>\n",
       "      <td id=\"T_16a50_row16_col18\" class=\"data row16 col18\" >-0.003919</td>\n",
       "      <td id=\"T_16a50_row16_col19\" class=\"data row16 col19\" >-0.003373</td>\n",
       "    </tr>\n",
       "    <tr>\n",
       "      <th id=\"T_16a50_level0_row17\" class=\"row_heading level0 row17\" >STUDIO</th>\n",
       "      <td id=\"T_16a50_row17_col0\" class=\"data row17 col0\" >-0.013890</td>\n",
       "      <td id=\"T_16a50_row17_col1\" class=\"data row17 col1\" >-0.127795</td>\n",
       "      <td id=\"T_16a50_row17_col2\" class=\"data row17 col2\" >-0.134332</td>\n",
       "      <td id=\"T_16a50_row17_col3\" class=\"data row17 col3\" >-0.019005</td>\n",
       "      <td id=\"T_16a50_row17_col4\" class=\"data row17 col4\" >-0.008874</td>\n",
       "      <td id=\"T_16a50_row17_col5\" class=\"data row17 col5\" >-0.080566</td>\n",
       "      <td id=\"T_16a50_row17_col6\" class=\"data row17 col6\" >-0.004753</td>\n",
       "      <td id=\"T_16a50_row17_col7\" class=\"data row17 col7\" >-0.011213</td>\n",
       "      <td id=\"T_16a50_row17_col8\" class=\"data row17 col8\" >-0.001111</td>\n",
       "      <td id=\"T_16a50_row17_col9\" class=\"data row17 col9\" >-0.004010</td>\n",
       "      <td id=\"T_16a50_row17_col10\" class=\"data row17 col10\" >-0.019005</td>\n",
       "      <td id=\"T_16a50_row17_col11\" class=\"data row17 col11\" >-0.078336</td>\n",
       "      <td id=\"T_16a50_row17_col12\" class=\"data row17 col12\" >-0.030315</td>\n",
       "      <td id=\"T_16a50_row17_col13\" class=\"data row17 col13\" >-0.007135</td>\n",
       "      <td id=\"T_16a50_row17_col14\" class=\"data row17 col14\" >-0.018935</td>\n",
       "      <td id=\"T_16a50_row17_col15\" class=\"data row17 col15\" >-0.007703</td>\n",
       "      <td id=\"T_16a50_row17_col16\" class=\"data row17 col16\" >-0.013231</td>\n",
       "      <td id=\"T_16a50_row17_col17\" class=\"data row17 col17\" >1.000000</td>\n",
       "      <td id=\"T_16a50_row17_col18\" class=\"data row17 col18\" >-0.002889</td>\n",
       "      <td id=\"T_16a50_row17_col19\" class=\"data row17 col19\" >-0.002486</td>\n",
       "    </tr>\n",
       "    <tr>\n",
       "      <th id=\"T_16a50_level0_row18\" class=\"row_heading level0 row18\" >TERRACE_FLAT</th>\n",
       "      <td id=\"T_16a50_row18_col0\" class=\"data row18 col0\" >0.001884</td>\n",
       "      <td id=\"T_16a50_row18_col1\" class=\"data row18 col1\" >0.012588</td>\n",
       "      <td id=\"T_16a50_row18_col2\" class=\"data row18 col2\" >-0.028819</td>\n",
       "      <td id=\"T_16a50_row18_col3\" class=\"data row18 col3\" >-0.005630</td>\n",
       "      <td id=\"T_16a50_row18_col4\" class=\"data row18 col4\" >-0.002629</td>\n",
       "      <td id=\"T_16a50_row18_col5\" class=\"data row18 col5\" >-0.023865</td>\n",
       "      <td id=\"T_16a50_row18_col6\" class=\"data row18 col6\" >-0.001408</td>\n",
       "      <td id=\"T_16a50_row18_col7\" class=\"data row18 col7\" >-0.003321</td>\n",
       "      <td id=\"T_16a50_row18_col8\" class=\"data row18 col8\" >-0.000329</td>\n",
       "      <td id=\"T_16a50_row18_col9\" class=\"data row18 col9\" >-0.001188</td>\n",
       "      <td id=\"T_16a50_row18_col10\" class=\"data row18 col10\" >-0.005630</td>\n",
       "      <td id=\"T_16a50_row18_col11\" class=\"data row18 col11\" >-0.023204</td>\n",
       "      <td id=\"T_16a50_row18_col12\" class=\"data row18 col12\" >-0.008980</td>\n",
       "      <td id=\"T_16a50_row18_col13\" class=\"data row18 col13\" >-0.002113</td>\n",
       "      <td id=\"T_16a50_row18_col14\" class=\"data row18 col14\" >-0.005609</td>\n",
       "      <td id=\"T_16a50_row18_col15\" class=\"data row18 col15\" >-0.002282</td>\n",
       "      <td id=\"T_16a50_row18_col16\" class=\"data row18 col16\" >-0.003919</td>\n",
       "      <td id=\"T_16a50_row18_col17\" class=\"data row18 col17\" >-0.002889</td>\n",
       "      <td id=\"T_16a50_row18_col18\" class=\"data row18 col18\" >1.000000</td>\n",
       "      <td id=\"T_16a50_row18_col19\" class=\"data row18 col19\" >-0.000736</td>\n",
       "    </tr>\n",
       "    <tr>\n",
       "      <th id=\"T_16a50_level0_row19\" class=\"row_heading level0 row19\" >VILLA</th>\n",
       "      <td id=\"T_16a50_row19_col0\" class=\"data row19 col0\" >0.021388</td>\n",
       "      <td id=\"T_16a50_row19_col1\" class=\"data row19 col1\" >0.094406</td>\n",
       "      <td id=\"T_16a50_row19_col2\" class=\"data row19 col2\" >-0.067531</td>\n",
       "      <td id=\"T_16a50_row19_col3\" class=\"data row19 col3\" >-0.004845</td>\n",
       "      <td id=\"T_16a50_row19_col4\" class=\"data row19 col4\" >0.138929</td>\n",
       "      <td id=\"T_16a50_row19_col5\" class=\"data row19 col5\" >-0.020538</td>\n",
       "      <td id=\"T_16a50_row19_col6\" class=\"data row19 col6\" >-0.001212</td>\n",
       "      <td id=\"T_16a50_row19_col7\" class=\"data row19 col7\" >-0.002858</td>\n",
       "      <td id=\"T_16a50_row19_col8\" class=\"data row19 col8\" >-0.000283</td>\n",
       "      <td id=\"T_16a50_row19_col9\" class=\"data row19 col9\" >-0.001022</td>\n",
       "      <td id=\"T_16a50_row19_col10\" class=\"data row19 col10\" >-0.004845</td>\n",
       "      <td id=\"T_16a50_row19_col11\" class=\"data row19 col11\" >-0.019969</td>\n",
       "      <td id=\"T_16a50_row19_col12\" class=\"data row19 col12\" >-0.007728</td>\n",
       "      <td id=\"T_16a50_row19_col13\" class=\"data row19 col13\" >-0.001819</td>\n",
       "      <td id=\"T_16a50_row19_col14\" class=\"data row19 col14\" >-0.004827</td>\n",
       "      <td id=\"T_16a50_row19_col15\" class=\"data row19 col15\" >-0.001964</td>\n",
       "      <td id=\"T_16a50_row19_col16\" class=\"data row19 col16\" >-0.003373</td>\n",
       "      <td id=\"T_16a50_row19_col17\" class=\"data row19 col17\" >-0.002486</td>\n",
       "      <td id=\"T_16a50_row19_col18\" class=\"data row19 col18\" >-0.000736</td>\n",
       "      <td id=\"T_16a50_row19_col19\" class=\"data row19 col19\" >1.000000</td>\n",
       "    </tr>\n",
       "  </tbody>\n",
       "</table>\n"
      ],
      "text/plain": [
       "<pandas.io.formats.style.Styler at 0x13d744880>"
      ]
     },
     "execution_count": 28,
     "metadata": {},
     "output_type": "execute_result"
    }
   ],
   "source": [
    "residential_df.join(pd.get_dummies(residential_df[\"categories\"]).applymap(int)).drop(\n",
    "    columns=[\"date\", \"categories\"]\n",
    ").corr().style.background_gradient(cmap=\"coolwarm\")"
   ]
  },
  {
   "cell_type": "code",
   "execution_count": 29,
   "metadata": {},
   "outputs": [
    {
     "data": {
      "text/html": [
       "<div>\n",
       "<style scoped>\n",
       "    .dataframe tbody tr th:only-of-type {\n",
       "        vertical-align: middle;\n",
       "    }\n",
       "\n",
       "    .dataframe tbody tr th {\n",
       "        vertical-align: top;\n",
       "    }\n",
       "\n",
       "    .dataframe thead th {\n",
       "        text-align: right;\n",
       "    }\n",
       "</style>\n",
       "<table border=\"1\" class=\"dataframe\">\n",
       "  <thead>\n",
       "    <tr style=\"text-align: right;\">\n",
       "      <th></th>\n",
       "      <th>date</th>\n",
       "      <th>price</th>\n",
       "      <th>space</th>\n",
       "      <th>categories</th>\n",
       "      <th>is_apartment</th>\n",
       "      <th>is_duplex</th>\n",
       "      <th>is_house</th>\n",
       "      <th>size</th>\n",
       "    </tr>\n",
       "  </thead>\n",
       "  <tbody>\n",
       "    <tr>\n",
       "      <th>0</th>\n",
       "      <td>2018-04-07</td>\n",
       "      <td>2650.0</td>\n",
       "      <td>190.0</td>\n",
       "      <td>DUPLEX</td>\n",
       "      <td>0</td>\n",
       "      <td>1</td>\n",
       "      <td>0</td>\n",
       "      <td>bg</td>\n",
       "    </tr>\n",
       "    <tr>\n",
       "      <th>1</th>\n",
       "      <td>2018-03-15</td>\n",
       "      <td>2850.0</td>\n",
       "      <td>190.0</td>\n",
       "      <td>DUPLEX</td>\n",
       "      <td>0</td>\n",
       "      <td>1</td>\n",
       "      <td>0</td>\n",
       "      <td>bg</td>\n",
       "    </tr>\n",
       "    <tr>\n",
       "      <th>2</th>\n",
       "      <td>2020-06-05</td>\n",
       "      <td>4600.0</td>\n",
       "      <td>170.0</td>\n",
       "      <td>FURNISHED_FLAT</td>\n",
       "      <td>1</td>\n",
       "      <td>0</td>\n",
       "      <td>0</td>\n",
       "      <td>bg</td>\n",
       "    </tr>\n",
       "    <tr>\n",
       "      <th>6</th>\n",
       "      <td>2018-03-13</td>\n",
       "      <td>1370.0</td>\n",
       "      <td>NaN</td>\n",
       "      <td>APARTMENT</td>\n",
       "      <td>1</td>\n",
       "      <td>0</td>\n",
       "      <td>0</td>\n",
       "      <td>sm</td>\n",
       "    </tr>\n",
       "    <tr>\n",
       "      <th>8</th>\n",
       "      <td>2018-11-06</td>\n",
       "      <td>1110.0</td>\n",
       "      <td>NaN</td>\n",
       "      <td>APARTMENT</td>\n",
       "      <td>1</td>\n",
       "      <td>0</td>\n",
       "      <td>0</td>\n",
       "      <td>sm</td>\n",
       "    </tr>\n",
       "    <tr>\n",
       "      <th>...</th>\n",
       "      <td>...</td>\n",
       "      <td>...</td>\n",
       "      <td>...</td>\n",
       "      <td>...</td>\n",
       "      <td>...</td>\n",
       "      <td>...</td>\n",
       "      <td>...</td>\n",
       "      <td>...</td>\n",
       "    </tr>\n",
       "    <tr>\n",
       "      <th>43537</th>\n",
       "      <td>2021-02-04</td>\n",
       "      <td>1320.0</td>\n",
       "      <td>75.0</td>\n",
       "      <td>FLAT</td>\n",
       "      <td>1</td>\n",
       "      <td>0</td>\n",
       "      <td>0</td>\n",
       "      <td>md</td>\n",
       "    </tr>\n",
       "    <tr>\n",
       "      <th>43538</th>\n",
       "      <td>2020-08-10</td>\n",
       "      <td>1950.0</td>\n",
       "      <td>120.0</td>\n",
       "      <td>LOFT</td>\n",
       "      <td>1</td>\n",
       "      <td>0</td>\n",
       "      <td>0</td>\n",
       "      <td>bg</td>\n",
       "    </tr>\n",
       "    <tr>\n",
       "      <th>43539</th>\n",
       "      <td>2020-08-14</td>\n",
       "      <td>1990.0</td>\n",
       "      <td>70.0</td>\n",
       "      <td>DUPLEX</td>\n",
       "      <td>1</td>\n",
       "      <td>1</td>\n",
       "      <td>0</td>\n",
       "      <td>md</td>\n",
       "    </tr>\n",
       "    <tr>\n",
       "      <th>43542</th>\n",
       "      <td>2020-08-18</td>\n",
       "      <td>1540.0</td>\n",
       "      <td>75.0</td>\n",
       "      <td>FLAT</td>\n",
       "      <td>1</td>\n",
       "      <td>0</td>\n",
       "      <td>0</td>\n",
       "      <td>md</td>\n",
       "    </tr>\n",
       "    <tr>\n",
       "      <th>43543</th>\n",
       "      <td>2020-08-19</td>\n",
       "      <td>1820.0</td>\n",
       "      <td>NaN</td>\n",
       "      <td>ROOF_FLAT</td>\n",
       "      <td>1</td>\n",
       "      <td>0</td>\n",
       "      <td>0</td>\n",
       "      <td>sm</td>\n",
       "    </tr>\n",
       "  </tbody>\n",
       "</table>\n",
       "<p>31582 rows × 8 columns</p>\n",
       "</div>"
      ],
      "text/plain": [
       "            date   price  space      categories  is_apartment  is_duplex  \\\n",
       "0     2018-04-07  2650.0  190.0          DUPLEX             0          1   \n",
       "1     2018-03-15  2850.0  190.0          DUPLEX             0          1   \n",
       "2     2020-06-05  4600.0  170.0  FURNISHED_FLAT             1          0   \n",
       "6     2018-03-13  1370.0    NaN       APARTMENT             1          0   \n",
       "8     2018-11-06  1110.0    NaN       APARTMENT             1          0   \n",
       "...          ...     ...    ...             ...           ...        ...   \n",
       "43537 2021-02-04  1320.0   75.0            FLAT             1          0   \n",
       "43538 2020-08-10  1950.0  120.0            LOFT             1          0   \n",
       "43539 2020-08-14  1990.0   70.0          DUPLEX             1          1   \n",
       "43542 2020-08-18  1540.0   75.0            FLAT             1          0   \n",
       "43543 2020-08-19  1820.0    NaN       ROOF_FLAT             1          0   \n",
       "\n",
       "       is_house size  \n",
       "0             0   bg  \n",
       "1             0   bg  \n",
       "2             0   bg  \n",
       "6             0   sm  \n",
       "8             0   sm  \n",
       "...         ...  ...  \n",
       "43537         0   md  \n",
       "43538         0   bg  \n",
       "43539         0   md  \n",
       "43542         0   md  \n",
       "43543         0   sm  \n",
       "\n",
       "[31582 rows x 8 columns]"
      ]
     },
     "execution_count": 29,
     "metadata": {},
     "output_type": "execute_result"
    }
   ],
   "source": [
    "residential_df"
   ]
  },
  {
   "cell_type": "code",
   "execution_count": 30,
   "metadata": {},
   "outputs": [
    {
     "data": {
      "text/plain": [
       "<Axes: >"
      ]
     },
     "execution_count": 30,
     "metadata": {},
     "output_type": "execute_result"
    },
    {
     "data": {
      "image/png": "[encoded data removed]",
      "text/plain": [
       "<Figure size 640x480 with 1 Axes>"
      ]
     },
     "metadata": {},
     "output_type": "display_data"
    }
   ],
   "source": [
    "residential_df[\"space\"].hist(bins=50)"
   ]
  },
  {
   "cell_type": "markdown",
   "metadata": {},
   "source": [
    "## Modelling"
   ]
  },
  {
   "cell_type": "code",
   "execution_count": 104,
   "metadata": {},
   "outputs": [
    {
     "data": {
      "text/html": [
       "<style type=\"text/css\">\n",
       "#T_612ae_row11_col1 {\n",
       "  background-color: lightgreen;\n",
       "}\n",
       "</style>\n",
       "<table id=\"T_612ae\">\n",
       "  <thead>\n",
       "    <tr>\n",
       "      <th class=\"blank level0\" >&nbsp;</th>\n",
       "      <th id=\"T_612ae_level0_col0\" class=\"col_heading level0 col0\" >Description</th>\n",
       "      <th id=\"T_612ae_level0_col1\" class=\"col_heading level0 col1\" >Value</th>\n",
       "    </tr>\n",
       "  </thead>\n",
       "  <tbody>\n",
       "    <tr>\n",
       "      <th id=\"T_612ae_level0_row0\" class=\"row_heading level0 row0\" >0</th>\n",
       "      <td id=\"T_612ae_row0_col0\" class=\"data row0 col0\" >Session id</td>\n",
       "      <td id=\"T_612ae_row0_col1\" class=\"data row0 col1\" >123</td>\n",
       "    </tr>\n",
       "    <tr>\n",
       "      <th id=\"T_612ae_level0_row1\" class=\"row_heading level0 row1\" >1</th>\n",
       "      <td id=\"T_612ae_row1_col0\" class=\"data row1 col0\" >Target</td>\n",
       "      <td id=\"T_612ae_row1_col1\" class=\"data row1 col1\" >price</td>\n",
       "    </tr>\n",
       "    <tr>\n",
       "      <th id=\"T_612ae_level0_row2\" class=\"row_heading level0 row2\" >2</th>\n",
       "      <td id=\"T_612ae_row2_col0\" class=\"data row2 col0\" >Target type</td>\n",
       "      <td id=\"T_612ae_row2_col1\" class=\"data row2 col1\" >Regression</td>\n",
       "    </tr>\n",
       "    <tr>\n",
       "      <th id=\"T_612ae_level0_row3\" class=\"row_heading level0 row3\" >3</th>\n",
       "      <td id=\"T_612ae_row3_col0\" class=\"data row3 col0\" >Original data shape</td>\n",
       "      <td id=\"T_612ae_row3_col1\" class=\"data row3 col1\" >(31582, 8)</td>\n",
       "    </tr>\n",
       "    <tr>\n",
       "      <th id=\"T_612ae_level0_row4\" class=\"row_heading level0 row4\" >4</th>\n",
       "      <td id=\"T_612ae_row4_col0\" class=\"data row4 col0\" >Transformed data shape</td>\n",
       "      <td id=\"T_612ae_row4_col1\" class=\"data row4 col1\" >(31582, 26)</td>\n",
       "    </tr>\n",
       "    <tr>\n",
       "      <th id=\"T_612ae_level0_row5\" class=\"row_heading level0 row5\" >5</th>\n",
       "      <td id=\"T_612ae_row5_col0\" class=\"data row5 col0\" >Transformed train set shape</td>\n",
       "      <td id=\"T_612ae_row5_col1\" class=\"data row5 col1\" >(22107, 26)</td>\n",
       "    </tr>\n",
       "    <tr>\n",
       "      <th id=\"T_612ae_level0_row6\" class=\"row_heading level0 row6\" >6</th>\n",
       "      <td id=\"T_612ae_row6_col0\" class=\"data row6 col0\" >Transformed test set shape</td>\n",
       "      <td id=\"T_612ae_row6_col1\" class=\"data row6 col1\" >(9475, 26)</td>\n",
       "    </tr>\n",
       "    <tr>\n",
       "      <th id=\"T_612ae_level0_row7\" class=\"row_heading level0 row7\" >7</th>\n",
       "      <td id=\"T_612ae_row7_col0\" class=\"data row7 col0\" >Numeric features</td>\n",
       "      <td id=\"T_612ae_row7_col1\" class=\"data row7 col1\" >4</td>\n",
       "    </tr>\n",
       "    <tr>\n",
       "      <th id=\"T_612ae_level0_row8\" class=\"row_heading level0 row8\" >8</th>\n",
       "      <td id=\"T_612ae_row8_col0\" class=\"data row8 col0\" >Date features</td>\n",
       "      <td id=\"T_612ae_row8_col1\" class=\"data row8 col1\" >1</td>\n",
       "    </tr>\n",
       "    <tr>\n",
       "      <th id=\"T_612ae_level0_row9\" class=\"row_heading level0 row9\" >9</th>\n",
       "      <td id=\"T_612ae_row9_col0\" class=\"data row9 col0\" >Categorical features</td>\n",
       "      <td id=\"T_612ae_row9_col1\" class=\"data row9 col1\" >2</td>\n",
       "    </tr>\n",
       "    <tr>\n",
       "      <th id=\"T_612ae_level0_row10\" class=\"row_heading level0 row10\" >10</th>\n",
       "      <td id=\"T_612ae_row10_col0\" class=\"data row10 col0\" >Rows with missing values</td>\n",
       "      <td id=\"T_612ae_row10_col1\" class=\"data row10 col1\" >4.5%</td>\n",
       "    </tr>\n",
       "    <tr>\n",
       "      <th id=\"T_612ae_level0_row11\" class=\"row_heading level0 row11\" >11</th>\n",
       "      <td id=\"T_612ae_row11_col0\" class=\"data row11 col0\" >Preprocess</td>\n",
       "      <td id=\"T_612ae_row11_col1\" class=\"data row11 col1\" >True</td>\n",
       "    </tr>\n",
       "    <tr>\n",
       "      <th id=\"T_612ae_level0_row12\" class=\"row_heading level0 row12\" >12</th>\n",
       "      <td id=\"T_612ae_row12_col0\" class=\"data row12 col0\" >Imputation type</td>\n",
       "      <td id=\"T_612ae_row12_col1\" class=\"data row12 col1\" >simple</td>\n",
       "    </tr>\n",
       "    <tr>\n",
       "      <th id=\"T_612ae_level0_row13\" class=\"row_heading level0 row13\" >13</th>\n",
       "      <td id=\"T_612ae_row13_col0\" class=\"data row13 col0\" >Numeric imputation</td>\n",
       "      <td id=\"T_612ae_row13_col1\" class=\"data row13 col1\" >mean</td>\n",
       "    </tr>\n",
       "    <tr>\n",
       "      <th id=\"T_612ae_level0_row14\" class=\"row_heading level0 row14\" >14</th>\n",
       "      <td id=\"T_612ae_row14_col0\" class=\"data row14 col0\" >Categorical imputation</td>\n",
       "      <td id=\"T_612ae_row14_col1\" class=\"data row14 col1\" >mode</td>\n",
       "    </tr>\n",
       "    <tr>\n",
       "      <th id=\"T_612ae_level0_row15\" class=\"row_heading level0 row15\" >15</th>\n",
       "      <td id=\"T_612ae_row15_col0\" class=\"data row15 col0\" >Maximum one-hot encoding</td>\n",
       "      <td id=\"T_612ae_row15_col1\" class=\"data row15 col1\" >25</td>\n",
       "    </tr>\n",
       "    <tr>\n",
       "      <th id=\"T_612ae_level0_row16\" class=\"row_heading level0 row16\" >16</th>\n",
       "      <td id=\"T_612ae_row16_col0\" class=\"data row16 col0\" >Encoding method</td>\n",
       "      <td id=\"T_612ae_row16_col1\" class=\"data row16 col1\" >None</td>\n",
       "    </tr>\n",
       "    <tr>\n",
       "      <th id=\"T_612ae_level0_row17\" class=\"row_heading level0 row17\" >17</th>\n",
       "      <td id=\"T_612ae_row17_col0\" class=\"data row17 col0\" >Fold Generator</td>\n",
       "      <td id=\"T_612ae_row17_col1\" class=\"data row17 col1\" >KFold</td>\n",
       "    </tr>\n",
       "    <tr>\n",
       "      <th id=\"T_612ae_level0_row18\" class=\"row_heading level0 row18\" >18</th>\n",
       "      <td id=\"T_612ae_row18_col0\" class=\"data row18 col0\" >Fold Number</td>\n",
       "      <td id=\"T_612ae_row18_col1\" class=\"data row18 col1\" >10</td>\n",
       "    </tr>\n",
       "    <tr>\n",
       "      <th id=\"T_612ae_level0_row19\" class=\"row_heading level0 row19\" >19</th>\n",
       "      <td id=\"T_612ae_row19_col0\" class=\"data row19 col0\" >CPU Jobs</td>\n",
       "      <td id=\"T_612ae_row19_col1\" class=\"data row19 col1\" >-1</td>\n",
       "    </tr>\n",
       "    <tr>\n",
       "      <th id=\"T_612ae_level0_row20\" class=\"row_heading level0 row20\" >20</th>\n",
       "      <td id=\"T_612ae_row20_col0\" class=\"data row20 col0\" >Use GPU</td>\n",
       "      <td id=\"T_612ae_row20_col1\" class=\"data row20 col1\" >False</td>\n",
       "    </tr>\n",
       "    <tr>\n",
       "      <th id=\"T_612ae_level0_row21\" class=\"row_heading level0 row21\" >21</th>\n",
       "      <td id=\"T_612ae_row21_col0\" class=\"data row21 col0\" >Log Experiment</td>\n",
       "      <td id=\"T_612ae_row21_col1\" class=\"data row21 col1\" >MlflowLogger</td>\n",
       "    </tr>\n",
       "    <tr>\n",
       "      <th id=\"T_612ae_level0_row22\" class=\"row_heading level0 row22\" >22</th>\n",
       "      <td id=\"T_612ae_row22_col0\" class=\"data row22 col0\" >Experiment Name</td>\n",
       "      <td id=\"T_612ae_row22_col1\" class=\"data row22 col1\" >price_forecast</td>\n",
       "    </tr>\n",
       "    <tr>\n",
       "      <th id=\"T_612ae_level0_row23\" class=\"row_heading level0 row23\" >23</th>\n",
       "      <td id=\"T_612ae_row23_col0\" class=\"data row23 col0\" >USI</td>\n",
       "      <td id=\"T_612ae_row23_col1\" class=\"data row23 col1\" >e95d</td>\n",
       "    </tr>\n",
       "  </tbody>\n",
       "</table>\n"
      ],
      "text/plain": [
       "<pandas.io.formats.style.Styler at 0x2926a3f40>"
      ]
     },
     "metadata": {},
     "output_type": "display_data"
    },
    {
     "data": {
      "text/plain": [
       "<pycaret.regression.oop.RegressionExperiment at 0x17f98d480>"
      ]
     },
     "execution_count": 104,
     "metadata": {},
     "output_type": "execute_result"
    }
   ],
   "source": [
    "from pycaret.regression import RegressionExperiment\n",
    "\n",
    "s = RegressionExperiment()\n",
    "s.setup(\n",
    "    residential_df,\n",
    "    target=\"price\",\n",
    "    session_id=123,\n",
    "    log_experiment=True,\n",
    "    experiment_name=\"price_forecast\",\n",
    ")"
   ]
  },
  {
   "cell_type": "markdown",
   "metadata": {},
   "source": [
    "run `mlflow ui` in the terminal"
   ]
  },
  {
   "cell_type": "code",
   "execution_count": 105,
   "metadata": {},
   "outputs": [
    {
     "data": {
      "text/html": [],
      "text/plain": [
       "<IPython.core.display.HTML object>"
      ]
     },
     "metadata": {},
     "output_type": "display_data"
    },
    {
     "data": {
      "text/html": [
       "<style type=\"text/css\">\n",
       "#T_c4852 th {\n",
       "  text-align: left;\n",
       "}\n",
       "#T_c4852_row0_col0, #T_c4852_row0_col1, #T_c4852_row0_col5, #T_c4852_row0_col6, #T_c4852_row1_col0, #T_c4852_row1_col1, #T_c4852_row1_col2, #T_c4852_row1_col3, #T_c4852_row1_col4, #T_c4852_row1_col5, #T_c4852_row1_col6, #T_c4852_row2_col0, #T_c4852_row2_col1, #T_c4852_row2_col2, #T_c4852_row2_col3, #T_c4852_row2_col4, #T_c4852_row2_col5, #T_c4852_row2_col6, #T_c4852_row3_col0, #T_c4852_row3_col2, #T_c4852_row3_col3, #T_c4852_row3_col4, #T_c4852_row3_col5, #T_c4852_row4_col0, #T_c4852_row4_col1, #T_c4852_row4_col2, #T_c4852_row4_col3, #T_c4852_row4_col4, #T_c4852_row4_col5, #T_c4852_row4_col6, #T_c4852_row5_col0, #T_c4852_row5_col1, #T_c4852_row5_col2, #T_c4852_row5_col3, #T_c4852_row5_col4, #T_c4852_row5_col5, #T_c4852_row5_col6, #T_c4852_row6_col0, #T_c4852_row6_col1, #T_c4852_row6_col2, #T_c4852_row6_col3, #T_c4852_row6_col4, #T_c4852_row6_col5, #T_c4852_row6_col6, #T_c4852_row7_col0, #T_c4852_row7_col1, #T_c4852_row7_col2, #T_c4852_row7_col3, #T_c4852_row7_col4, #T_c4852_row7_col5, #T_c4852_row7_col6, #T_c4852_row8_col0, #T_c4852_row8_col1, #T_c4852_row8_col2, #T_c4852_row8_col3, #T_c4852_row8_col4, #T_c4852_row8_col6 {\n",
       "  text-align: left;\n",
       "}\n",
       "#T_c4852_row0_col2, #T_c4852_row0_col3, #T_c4852_row0_col4, #T_c4852_row3_col1, #T_c4852_row3_col6, #T_c4852_row8_col5 {\n",
       "  text-align: left;\n",
       "  background-color: yellow;\n",
       "}\n",
       "#T_c4852_row0_col7, #T_c4852_row2_col7, #T_c4852_row3_col7, #T_c4852_row4_col7, #T_c4852_row5_col7, #T_c4852_row6_col7, #T_c4852_row7_col7, #T_c4852_row8_col7 {\n",
       "  text-align: left;\n",
       "  background-color: lightgrey;\n",
       "}\n",
       "#T_c4852_row1_col7 {\n",
       "  text-align: left;\n",
       "  background-color: yellow;\n",
       "  background-color: lightgrey;\n",
       "}\n",
       "</style>\n",
       "<table id=\"T_c4852\">\n",
       "  <thead>\n",
       "    <tr>\n",
       "      <th class=\"blank level0\" >&nbsp;</th>\n",
       "      <th id=\"T_c4852_level0_col0\" class=\"col_heading level0 col0\" >Model</th>\n",
       "      <th id=\"T_c4852_level0_col1\" class=\"col_heading level0 col1\" >MAE</th>\n",
       "      <th id=\"T_c4852_level0_col2\" class=\"col_heading level0 col2\" >MSE</th>\n",
       "      <th id=\"T_c4852_level0_col3\" class=\"col_heading level0 col3\" >RMSE</th>\n",
       "      <th id=\"T_c4852_level0_col4\" class=\"col_heading level0 col4\" >R2</th>\n",
       "      <th id=\"T_c4852_level0_col5\" class=\"col_heading level0 col5\" >RMSLE</th>\n",
       "      <th id=\"T_c4852_level0_col6\" class=\"col_heading level0 col6\" >MAPE</th>\n",
       "      <th id=\"T_c4852_level0_col7\" class=\"col_heading level0 col7\" >TT (Sec)</th>\n",
       "    </tr>\n",
       "  </thead>\n",
       "  <tbody>\n",
       "    <tr>\n",
       "      <th id=\"T_c4852_level0_row0\" class=\"row_heading level0 row0\" >lr</th>\n",
       "      <td id=\"T_c4852_row0_col0\" class=\"data row0 col0\" >Linear Regression</td>\n",
       "      <td id=\"T_c4852_row0_col1\" class=\"data row0 col1\" >349.1622</td>\n",
       "      <td id=\"T_c4852_row0_col2\" class=\"data row0 col2\" >34433930.7886</td>\n",
       "      <td id=\"T_c4852_row0_col3\" class=\"data row0 col3\" >2327.1295</td>\n",
       "      <td id=\"T_c4852_row0_col4\" class=\"data row0 col4\" >0.5791</td>\n",
       "      <td id=\"T_c4852_row0_col5\" class=\"data row0 col5\" >0.2821</td>\n",
       "      <td id=\"T_c4852_row0_col6\" class=\"data row0 col6\" >0.2348</td>\n",
       "      <td id=\"T_c4852_row0_col7\" class=\"data row0 col7\" >0.2170</td>\n",
       "    </tr>\n",
       "    <tr>\n",
       "      <th id=\"T_c4852_level0_row1\" class=\"row_heading level0 row1\" >ridge</th>\n",
       "      <td id=\"T_c4852_row1_col0\" class=\"data row1 col0\" >Ridge Regression</td>\n",
       "      <td id=\"T_c4852_row1_col1\" class=\"data row1 col1\" >349.2550</td>\n",
       "      <td id=\"T_c4852_row1_col2\" class=\"data row1 col2\" >34434066.6190</td>\n",
       "      <td id=\"T_c4852_row1_col3\" class=\"data row1 col3\" >2327.2324</td>\n",
       "      <td id=\"T_c4852_row1_col4\" class=\"data row1 col4\" >0.5790</td>\n",
       "      <td id=\"T_c4852_row1_col5\" class=\"data row1 col5\" >0.2820</td>\n",
       "      <td id=\"T_c4852_row1_col6\" class=\"data row1 col6\" >0.2349</td>\n",
       "      <td id=\"T_c4852_row1_col7\" class=\"data row1 col7\" >0.0220</td>\n",
       "    </tr>\n",
       "    <tr>\n",
       "      <th id=\"T_c4852_level0_row2\" class=\"row_heading level0 row2\" >lasso</th>\n",
       "      <td id=\"T_c4852_row2_col0\" class=\"data row2 col0\" >Lasso Regression</td>\n",
       "      <td id=\"T_c4852_row2_col1\" class=\"data row2 col1\" >350.1105</td>\n",
       "      <td id=\"T_c4852_row2_col2\" class=\"data row2 col2\" >34436463.9904</td>\n",
       "      <td id=\"T_c4852_row2_col3\" class=\"data row2 col3\" >2328.7818</td>\n",
       "      <td id=\"T_c4852_row2_col4\" class=\"data row2 col4\" >0.5770</td>\n",
       "      <td id=\"T_c4852_row2_col5\" class=\"data row2 col5\" >0.2831</td>\n",
       "      <td id=\"T_c4852_row2_col6\" class=\"data row2 col6\" >0.2357</td>\n",
       "      <td id=\"T_c4852_row2_col7\" class=\"data row2 col7\" >0.0280</td>\n",
       "    </tr>\n",
       "    <tr>\n",
       "      <th id=\"T_c4852_level0_row3\" class=\"row_heading level0 row3\" >huber</th>\n",
       "      <td id=\"T_c4852_row3_col0\" class=\"data row3 col0\" >Huber Regressor</td>\n",
       "      <td id=\"T_c4852_row3_col1\" class=\"data row3 col1\" >340.6559</td>\n",
       "      <td id=\"T_c4852_row3_col2\" class=\"data row3 col2\" >34454901.5832</td>\n",
       "      <td id=\"T_c4852_row3_col3\" class=\"data row3 col3\" >2343.5986</td>\n",
       "      <td id=\"T_c4852_row3_col4\" class=\"data row3 col4\" >0.5569</td>\n",
       "      <td id=\"T_c4852_row3_col5\" class=\"data row3 col5\" >0.2758</td>\n",
       "      <td id=\"T_c4852_row3_col6\" class=\"data row3 col6\" >0.2184</td>\n",
       "      <td id=\"T_c4852_row3_col7\" class=\"data row3 col7\" >0.0830</td>\n",
       "    </tr>\n",
       "    <tr>\n",
       "      <th id=\"T_c4852_level0_row4\" class=\"row_heading level0 row4\" >catboost</th>\n",
       "      <td id=\"T_c4852_row4_col0\" class=\"data row4 col0\" >CatBoost Regressor</td>\n",
       "      <td id=\"T_c4852_row4_col1\" class=\"data row4 col1\" >357.9713</td>\n",
       "      <td id=\"T_c4852_row4_col2\" class=\"data row4 col2\" >35734663.5042</td>\n",
       "      <td id=\"T_c4852_row4_col3\" class=\"data row4 col3\" >2822.0438</td>\n",
       "      <td id=\"T_c4852_row4_col4\" class=\"data row4 col4\" >-1.1054</td>\n",
       "      <td id=\"T_c4852_row4_col5\" class=\"data row4 col5\" >0.2974</td>\n",
       "      <td id=\"T_c4852_row4_col6\" class=\"data row4 col6\" >0.2620</td>\n",
       "      <td id=\"T_c4852_row4_col7\" class=\"data row4 col7\" >0.5300</td>\n",
       "    </tr>\n",
       "    <tr>\n",
       "      <th id=\"T_c4852_level0_row5\" class=\"row_heading level0 row5\" >knn</th>\n",
       "      <td id=\"T_c4852_row5_col0\" class=\"data row5 col0\" >K Neighbors Regressor</td>\n",
       "      <td id=\"T_c4852_row5_col1\" class=\"data row5 col1\" >378.7605</td>\n",
       "      <td id=\"T_c4852_row5_col2\" class=\"data row5 col2\" >37197061.6672</td>\n",
       "      <td id=\"T_c4852_row5_col3\" class=\"data row5 col3\" >2992.0234</td>\n",
       "      <td id=\"T_c4852_row5_col4\" class=\"data row5 col4\" >-2.7569</td>\n",
       "      <td id=\"T_c4852_row5_col5\" class=\"data row5 col5\" >0.2867</td>\n",
       "      <td id=\"T_c4852_row5_col6\" class=\"data row5 col6\" >0.2797</td>\n",
       "      <td id=\"T_c4852_row5_col7\" class=\"data row5 col7\" >0.0580</td>\n",
       "    </tr>\n",
       "    <tr>\n",
       "      <th id=\"T_c4852_level0_row6\" class=\"row_heading level0 row6\" >lightgbm</th>\n",
       "      <td id=\"T_c4852_row6_col0\" class=\"data row6 col0\" >Light Gradient Boosting Machine</td>\n",
       "      <td id=\"T_c4852_row6_col1\" class=\"data row6 col1\" >442.0202</td>\n",
       "      <td id=\"T_c4852_row6_col2\" class=\"data row6 col2\" >37542536.9674</td>\n",
       "      <td id=\"T_c4852_row6_col3\" class=\"data row6 col3\" >3445.5523</td>\n",
       "      <td id=\"T_c4852_row6_col4\" class=\"data row6 col4\" >-3.4395</td>\n",
       "      <td id=\"T_c4852_row6_col5\" class=\"data row6 col5\" >0.3760</td>\n",
       "      <td id=\"T_c4852_row6_col6\" class=\"data row6 col6\" >0.3334</td>\n",
       "      <td id=\"T_c4852_row6_col7\" class=\"data row6 col7\" >0.3760</td>\n",
       "    </tr>\n",
       "    <tr>\n",
       "      <th id=\"T_c4852_level0_row7\" class=\"row_heading level0 row7\" >rf</th>\n",
       "      <td id=\"T_c4852_row7_col0\" class=\"data row7 col0\" >Random Forest Regressor</td>\n",
       "      <td id=\"T_c4852_row7_col1\" class=\"data row7 col1\" >358.0564</td>\n",
       "      <td id=\"T_c4852_row7_col2\" class=\"data row7 col2\" >41645995.7756</td>\n",
       "      <td id=\"T_c4852_row7_col3\" class=\"data row7 col3\" >3604.1463</td>\n",
       "      <td id=\"T_c4852_row7_col4\" class=\"data row7 col4\" >-9.6134</td>\n",
       "      <td id=\"T_c4852_row7_col5\" class=\"data row7 col5\" >0.2651</td>\n",
       "      <td id=\"T_c4852_row7_col6\" class=\"data row7 col6\" >0.2391</td>\n",
       "      <td id=\"T_c4852_row7_col7\" class=\"data row7 col7\" >0.5650</td>\n",
       "    </tr>\n",
       "    <tr>\n",
       "      <th id=\"T_c4852_level0_row8\" class=\"row_heading level0 row8\" >xgboost</th>\n",
       "      <td id=\"T_c4852_row8_col0\" class=\"data row8 col0\" >Extreme Gradient Boosting</td>\n",
       "      <td id=\"T_c4852_row8_col1\" class=\"data row8 col1\" >353.3843</td>\n",
       "      <td id=\"T_c4852_row8_col2\" class=\"data row8 col2\" >58061869.8422</td>\n",
       "      <td id=\"T_c4852_row8_col3\" class=\"data row8 col3\" >3999.4082</td>\n",
       "      <td id=\"T_c4852_row8_col4\" class=\"data row8 col4\" >-33.5730</td>\n",
       "      <td id=\"T_c4852_row8_col5\" class=\"data row8 col5\" >0.2583</td>\n",
       "      <td id=\"T_c4852_row8_col6\" class=\"data row8 col6\" >0.2465</td>\n",
       "      <td id=\"T_c4852_row8_col7\" class=\"data row8 col7\" >0.0490</td>\n",
       "    </tr>\n",
       "  </tbody>\n",
       "</table>\n"
      ],
      "text/plain": [
       "<pandas.io.formats.style.Styler at 0x292729cf0>"
      ]
     },
     "metadata": {},
     "output_type": "display_data"
    },
    {
     "data": {
      "text/html": [],
      "text/plain": [
       "<IPython.core.display.HTML object>"
      ]
     },
     "metadata": {},
     "output_type": "display_data"
    }
   ],
   "source": [
    "best = s.compare_models(\n",
    "    include=[\n",
    "        \"lr\",\n",
    "        \"ridge\",\n",
    "        \"lasso\",\n",
    "        \"huber\",\n",
    "        \"rf\",\n",
    "        \"catboost\",\n",
    "        \"lightgbm\",\n",
    "        \"knn\",\n",
    "        \"xgboost\",\n",
    "    ]\n",
    ")"
   ]
  },
  {
   "cell_type": "code",
   "execution_count": 106,
   "metadata": {},
   "outputs": [
    {
     "name": "stdout",
     "output_type": "stream",
     "text": [
      "LinearRegression(n_jobs=-1)\n"
     ]
    }
   ],
   "source": [
    "print(best)"
   ]
  },
  {
   "cell_type": "code",
   "execution_count": 107,
   "metadata": {},
   "outputs": [
    {
     "data": {
      "application/vnd.jupyter.widget-view+json": {
       "model_id": "8f1a66a2948944de9e729a3dadd28694",
       "version_major": 2,
       "version_minor": 0
      },
      "text/plain": [
       "interactive(children=(ToggleButtons(description='Plot Type:', icons=('',), options=(('Pipeline Plot', 'pipelin…"
      ]
     },
     "metadata": {},
     "output_type": "display_data"
    }
   ],
   "source": [
    "s.evaluate_model(best)"
   ]
  },
  {
   "cell_type": "code",
   "execution_count": 108,
   "metadata": {},
   "outputs": [
    {
     "data": {
      "text/html": [],
      "text/plain": [
       "<IPython.core.display.HTML object>"
      ]
     },
     "metadata": {},
     "output_type": "display_data"
    },
    {
     "data": {
      "image/png": "[encoded data removed]",
      "text/plain": [
       "<Figure size 800x500 with 1 Axes>"
      ]
     },
     "metadata": {},
     "output_type": "display_data"
    }
   ],
   "source": [
    "s.plot_model(\n",
    "    best,\n",
    "    plot=\"feature\",\n",
    ")"
   ]
  },
  {
   "cell_type": "code",
   "execution_count": 109,
   "metadata": {},
   "outputs": [
    {
     "data": {
      "text/html": [
       "<style type=\"text/css\">\n",
       "</style>\n",
       "<table id=\"T_2d04d\">\n",
       "  <thead>\n",
       "    <tr>\n",
       "      <th class=\"blank level0\" >&nbsp;</th>\n",
       "      <th id=\"T_2d04d_level0_col0\" class=\"col_heading level0 col0\" >Model</th>\n",
       "      <th id=\"T_2d04d_level0_col1\" class=\"col_heading level0 col1\" >MAE</th>\n",
       "      <th id=\"T_2d04d_level0_col2\" class=\"col_heading level0 col2\" >MSE</th>\n",
       "      <th id=\"T_2d04d_level0_col3\" class=\"col_heading level0 col3\" >RMSE</th>\n",
       "      <th id=\"T_2d04d_level0_col4\" class=\"col_heading level0 col4\" >R2</th>\n",
       "      <th id=\"T_2d04d_level0_col5\" class=\"col_heading level0 col5\" >RMSLE</th>\n",
       "      <th id=\"T_2d04d_level0_col6\" class=\"col_heading level0 col6\" >MAPE</th>\n",
       "    </tr>\n",
       "  </thead>\n",
       "  <tbody>\n",
       "    <tr>\n",
       "      <th id=\"T_2d04d_level0_row0\" class=\"row_heading level0 row0\" >0</th>\n",
       "      <td id=\"T_2d04d_row0_col0\" class=\"data row0 col0\" >Linear Regression</td>\n",
       "      <td id=\"T_2d04d_row0_col1\" class=\"data row0 col1\" >304.6656</td>\n",
       "      <td id=\"T_2d04d_row0_col2\" class=\"data row0 col2\" >237831.7255</td>\n",
       "      <td id=\"T_2d04d_row0_col3\" class=\"data row0 col3\" >487.6799</td>\n",
       "      <td id=\"T_2d04d_row0_col4\" class=\"data row0 col4\" >0.6859</td>\n",
       "      <td id=\"T_2d04d_row0_col5\" class=\"data row0 col5\" >0.2604</td>\n",
       "      <td id=\"T_2d04d_row0_col6\" class=\"data row0 col6\" >0.2047</td>\n",
       "    </tr>\n",
       "  </tbody>\n",
       "</table>\n"
      ],
      "text/plain": [
       "<pandas.io.formats.style.Styler at 0x292790880>"
      ]
     },
     "metadata": {},
     "output_type": "display_data"
    },
    {
     "data": {
      "text/html": [
       "<div>\n",
       "<style scoped>\n",
       "    .dataframe tbody tr th:only-of-type {\n",
       "        vertical-align: middle;\n",
       "    }\n",
       "\n",
       "    .dataframe tbody tr th {\n",
       "        vertical-align: top;\n",
       "    }\n",
       "\n",
       "    .dataframe thead th {\n",
       "        text-align: right;\n",
       "    }\n",
       "</style>\n",
       "<table border=\"1\" class=\"dataframe\">\n",
       "  <thead>\n",
       "    <tr style=\"text-align: right;\">\n",
       "      <th></th>\n",
       "      <th>date</th>\n",
       "      <th>space</th>\n",
       "      <th>categories</th>\n",
       "      <th>is_apartment</th>\n",
       "      <th>is_duplex</th>\n",
       "      <th>is_house</th>\n",
       "      <th>size</th>\n",
       "      <th>price</th>\n",
       "      <th>prediction_label</th>\n",
       "    </tr>\n",
       "  </thead>\n",
       "  <tbody>\n",
       "    <tr>\n",
       "      <th>34346</th>\n",
       "      <td>2020-03-11</td>\n",
       "      <td>60.0</td>\n",
       "      <td>FLAT</td>\n",
       "      <td>1</td>\n",
       "      <td>0</td>\n",
       "      <td>0</td>\n",
       "      <td>md</td>\n",
       "      <td>1220.0</td>\n",
       "      <td>1384.637613</td>\n",
       "    </tr>\n",
       "    <tr>\n",
       "      <th>30106</th>\n",
       "      <td>2019-09-30</td>\n",
       "      <td>105.0</td>\n",
       "      <td>APARTMENT</td>\n",
       "      <td>1</td>\n",
       "      <td>0</td>\n",
       "      <td>0</td>\n",
       "      <td>bg</td>\n",
       "      <td>2790.0</td>\n",
       "      <td>2166.754530</td>\n",
       "    </tr>\n",
       "    <tr>\n",
       "      <th>28664</th>\n",
       "      <td>2019-11-06</td>\n",
       "      <td>128.0</td>\n",
       "      <td>ATTIC_FLAT</td>\n",
       "      <td>0</td>\n",
       "      <td>0</td>\n",
       "      <td>0</td>\n",
       "      <td>bg</td>\n",
       "      <td>2880.0</td>\n",
       "      <td>3081.387911</td>\n",
       "    </tr>\n",
       "    <tr>\n",
       "      <th>39871</th>\n",
       "      <td>2019-08-07</td>\n",
       "      <td>158.0</td>\n",
       "      <td>DUPLEX</td>\n",
       "      <td>0</td>\n",
       "      <td>1</td>\n",
       "      <td>0</td>\n",
       "      <td>bg</td>\n",
       "      <td>2650.0</td>\n",
       "      <td>3160.361971</td>\n",
       "    </tr>\n",
       "    <tr>\n",
       "      <th>35500</th>\n",
       "      <td>2019-01-22</td>\n",
       "      <td>81.0</td>\n",
       "      <td>APARTMENT</td>\n",
       "      <td>1</td>\n",
       "      <td>0</td>\n",
       "      <td>0</td>\n",
       "      <td>md</td>\n",
       "      <td>1450.0</td>\n",
       "      <td>1495.122299</td>\n",
       "    </tr>\n",
       "    <tr>\n",
       "      <th>...</th>\n",
       "      <td>...</td>\n",
       "      <td>...</td>\n",
       "      <td>...</td>\n",
       "      <td>...</td>\n",
       "      <td>...</td>\n",
       "      <td>...</td>\n",
       "      <td>...</td>\n",
       "      <td>...</td>\n",
       "      <td>...</td>\n",
       "    </tr>\n",
       "    <tr>\n",
       "      <th>1404</th>\n",
       "      <td>2020-06-02</td>\n",
       "      <td>86.0</td>\n",
       "      <td>FLAT</td>\n",
       "      <td>1</td>\n",
       "      <td>0</td>\n",
       "      <td>0</td>\n",
       "      <td>md</td>\n",
       "      <td>1950.0</td>\n",
       "      <td>1900.814004</td>\n",
       "    </tr>\n",
       "    <tr>\n",
       "      <th>40436</th>\n",
       "      <td>2021-10-22</td>\n",
       "      <td>31.0</td>\n",
       "      <td>FLAT</td>\n",
       "      <td>1</td>\n",
       "      <td>0</td>\n",
       "      <td>0</td>\n",
       "      <td>sm</td>\n",
       "      <td>700.0</td>\n",
       "      <td>799.810315</td>\n",
       "    </tr>\n",
       "    <tr>\n",
       "      <th>40129</th>\n",
       "      <td>2021-01-04</td>\n",
       "      <td>35.0</td>\n",
       "      <td>FLAT</td>\n",
       "      <td>1</td>\n",
       "      <td>0</td>\n",
       "      <td>0</td>\n",
       "      <td>sm</td>\n",
       "      <td>1000.0</td>\n",
       "      <td>829.831389</td>\n",
       "    </tr>\n",
       "    <tr>\n",
       "      <th>26537</th>\n",
       "      <td>2018-08-20</td>\n",
       "      <td>NaN</td>\n",
       "      <td>APARTMENT</td>\n",
       "      <td>1</td>\n",
       "      <td>0</td>\n",
       "      <td>0</td>\n",
       "      <td>sm</td>\n",
       "      <td>1220.0</td>\n",
       "      <td>1476.656701</td>\n",
       "    </tr>\n",
       "    <tr>\n",
       "      <th>18054</th>\n",
       "      <td>2019-05-13</td>\n",
       "      <td>59.0</td>\n",
       "      <td>APARTMENT</td>\n",
       "      <td>1</td>\n",
       "      <td>0</td>\n",
       "      <td>0</td>\n",
       "      <td>md</td>\n",
       "      <td>1030.0</td>\n",
       "      <td>1210.073416</td>\n",
       "    </tr>\n",
       "  </tbody>\n",
       "</table>\n",
       "<p>9475 rows × 9 columns</p>\n",
       "</div>"
      ],
      "text/plain": [
       "            date  space  categories  is_apartment  is_duplex  is_house size  \\\n",
       "34346 2020-03-11   60.0        FLAT             1          0         0   md   \n",
       "30106 2019-09-30  105.0   APARTMENT             1          0         0   bg   \n",
       "28664 2019-11-06  128.0  ATTIC_FLAT             0          0         0   bg   \n",
       "39871 2019-08-07  158.0      DUPLEX             0          1         0   bg   \n",
       "35500 2019-01-22   81.0   APARTMENT             1          0         0   md   \n",
       "...          ...    ...         ...           ...        ...       ...  ...   \n",
       "1404  2020-06-02   86.0        FLAT             1          0         0   md   \n",
       "40436 2021-10-22   31.0        FLAT             1          0         0   sm   \n",
       "40129 2021-01-04   35.0        FLAT             1          0         0   sm   \n",
       "26537 2018-08-20    NaN   APARTMENT             1          0         0   sm   \n",
       "18054 2019-05-13   59.0   APARTMENT             1          0         0   md   \n",
       "\n",
       "        price  prediction_label  \n",
       "34346  1220.0       1384.637613  \n",
       "30106  2790.0       2166.754530  \n",
       "28664  2880.0       3081.387911  \n",
       "39871  2650.0       3160.361971  \n",
       "35500  1450.0       1495.122299  \n",
       "...       ...               ...  \n",
       "1404   1950.0       1900.814004  \n",
       "40436   700.0        799.810315  \n",
       "40129  1000.0        829.831389  \n",
       "26537  1220.0       1476.656701  \n",
       "18054  1030.0       1210.073416  \n",
       "\n",
       "[9475 rows x 9 columns]"
      ]
     },
     "execution_count": 109,
     "metadata": {},
     "output_type": "execute_result"
    }
   ],
   "source": [
    "s.predict_model(best)"
   ]
  },
  {
   "cell_type": "code",
   "execution_count": 121,
   "metadata": {},
   "outputs": [
    {
     "data": {
      "text/html": [],
      "text/plain": [
       "<IPython.core.display.HTML object>"
      ]
     },
     "metadata": {},
     "output_type": "display_data"
    },
    {
     "data": {
      "text/html": [
       "<style type=\"text/css\">\n",
       "#T_b1647_row10_col0, #T_b1647_row10_col1, #T_b1647_row10_col2, #T_b1647_row10_col3, #T_b1647_row10_col4, #T_b1647_row10_col5 {\n",
       "  background: yellow;\n",
       "}\n",
       "</style>\n",
       "<table id=\"T_b1647\">\n",
       "  <thead>\n",
       "    <tr>\n",
       "      <th class=\"blank level0\" >&nbsp;</th>\n",
       "      <th id=\"T_b1647_level0_col0\" class=\"col_heading level0 col0\" >MAE</th>\n",
       "      <th id=\"T_b1647_level0_col1\" class=\"col_heading level0 col1\" >MSE</th>\n",
       "      <th id=\"T_b1647_level0_col2\" class=\"col_heading level0 col2\" >RMSE</th>\n",
       "      <th id=\"T_b1647_level0_col3\" class=\"col_heading level0 col3\" >R2</th>\n",
       "      <th id=\"T_b1647_level0_col4\" class=\"col_heading level0 col4\" >RMSLE</th>\n",
       "      <th id=\"T_b1647_level0_col5\" class=\"col_heading level0 col5\" >MAPE</th>\n",
       "    </tr>\n",
       "    <tr>\n",
       "      <th class=\"index_name level0\" >Fold</th>\n",
       "      <th class=\"blank col0\" >&nbsp;</th>\n",
       "      <th class=\"blank col1\" >&nbsp;</th>\n",
       "      <th class=\"blank col2\" >&nbsp;</th>\n",
       "      <th class=\"blank col3\" >&nbsp;</th>\n",
       "      <th class=\"blank col4\" >&nbsp;</th>\n",
       "      <th class=\"blank col5\" >&nbsp;</th>\n",
       "    </tr>\n",
       "  </thead>\n",
       "  <tbody>\n",
       "    <tr>\n",
       "      <th id=\"T_b1647_level0_row0\" class=\"row_heading level0 row0\" >0</th>\n",
       "      <td id=\"T_b1647_row0_col0\" class=\"data row0 col0\" >311.8760</td>\n",
       "      <td id=\"T_b1647_row0_col1\" class=\"data row0 col1\" >2062104.2500</td>\n",
       "      <td id=\"T_b1647_row0_col2\" class=\"data row0 col2\" >1436.0029</td>\n",
       "      <td id=\"T_b1647_row0_col3\" class=\"data row0 col3\" >-1.6998</td>\n",
       "      <td id=\"T_b1647_row0_col4\" class=\"data row0 col4\" >0.2597</td>\n",
       "      <td id=\"T_b1647_row0_col5\" class=\"data row0 col5\" >0.2129</td>\n",
       "    </tr>\n",
       "    <tr>\n",
       "      <th id=\"T_b1647_level0_row1\" class=\"row_heading level0 row1\" >1</th>\n",
       "      <td id=\"T_b1647_row1_col0\" class=\"data row1 col0\" >286.5372</td>\n",
       "      <td id=\"T_b1647_row1_col1\" class=\"data row1 col1\" >453844.8750</td>\n",
       "      <td id=\"T_b1647_row1_col2\" class=\"data row1 col2\" >673.6801</td>\n",
       "      <td id=\"T_b1647_row1_col3\" class=\"data row1 col3\" >0.4151</td>\n",
       "      <td id=\"T_b1647_row1_col4\" class=\"data row1 col4\" >0.2861</td>\n",
       "      <td id=\"T_b1647_row1_col5\" class=\"data row1 col5\" >0.5098</td>\n",
       "    </tr>\n",
       "    <tr>\n",
       "      <th id=\"T_b1647_level0_row2\" class=\"row_heading level0 row2\" >2</th>\n",
       "      <td id=\"T_b1647_row2_col0\" class=\"data row2 col0\" >284.5359</td>\n",
       "      <td id=\"T_b1647_row2_col1\" class=\"data row2 col1\" >588220.3125</td>\n",
       "      <td id=\"T_b1647_row2_col2\" class=\"data row2 col2\" >766.9552</td>\n",
       "      <td id=\"T_b1647_row2_col3\" class=\"data row2 col3\" >0.4860</td>\n",
       "      <td id=\"T_b1647_row2_col4\" class=\"data row2 col4\" >0.2612</td>\n",
       "      <td id=\"T_b1647_row2_col5\" class=\"data row2 col5\" >0.1902</td>\n",
       "    </tr>\n",
       "    <tr>\n",
       "      <th id=\"T_b1647_level0_row3\" class=\"row_heading level0 row3\" >3</th>\n",
       "      <td id=\"T_b1647_row3_col0\" class=\"data row3 col0\" >669.6142</td>\n",
       "      <td id=\"T_b1647_row3_col1\" class=\"data row3 col1\" >341687584.0000</td>\n",
       "      <td id=\"T_b1647_row3_col2\" class=\"data row3 col2\" >18484.7930</td>\n",
       "      <td id=\"T_b1647_row3_col3\" class=\"data row3 col3\" >0.0002</td>\n",
       "      <td id=\"T_b1647_row3_col4\" class=\"data row3 col4\" >0.2760</td>\n",
       "      <td id=\"T_b1647_row3_col5\" class=\"data row3 col5\" >0.1765</td>\n",
       "    </tr>\n",
       "    <tr>\n",
       "      <th id=\"T_b1647_level0_row4\" class=\"row_heading level0 row4\" >4</th>\n",
       "      <td id=\"T_b1647_row4_col0\" class=\"data row4 col0\" >271.1600</td>\n",
       "      <td id=\"T_b1647_row4_col1\" class=\"data row4 col1\" >199669.6562</td>\n",
       "      <td id=\"T_b1647_row4_col2\" class=\"data row4 col2\" >446.8441</td>\n",
       "      <td id=\"T_b1647_row4_col3\" class=\"data row4 col3\" >0.6904</td>\n",
       "      <td id=\"T_b1647_row4_col4\" class=\"data row4 col4\" >0.2460</td>\n",
       "      <td id=\"T_b1647_row4_col5\" class=\"data row4 col5\" >0.1858</td>\n",
       "    </tr>\n",
       "    <tr>\n",
       "      <th id=\"T_b1647_level0_row5\" class=\"row_heading level0 row5\" >5</th>\n",
       "      <td id=\"T_b1647_row5_col0\" class=\"data row5 col0\" >274.9736</td>\n",
       "      <td id=\"T_b1647_row5_col1\" class=\"data row5 col1\" >197996.4531</td>\n",
       "      <td id=\"T_b1647_row5_col2\" class=\"data row5 col2\" >444.9679</td>\n",
       "      <td id=\"T_b1647_row5_col3\" class=\"data row5 col3\" >0.7449</td>\n",
       "      <td id=\"T_b1647_row5_col4\" class=\"data row5 col4\" >0.2584</td>\n",
       "      <td id=\"T_b1647_row5_col5\" class=\"data row5 col5\" >0.1983</td>\n",
       "    </tr>\n",
       "    <tr>\n",
       "      <th id=\"T_b1647_level0_row6\" class=\"row_heading level0 row6\" >6</th>\n",
       "      <td id=\"T_b1647_row6_col0\" class=\"data row6 col0\" >260.7278</td>\n",
       "      <td id=\"T_b1647_row6_col1\" class=\"data row6 col1\" >184903.4375</td>\n",
       "      <td id=\"T_b1647_row6_col2\" class=\"data row6 col2\" >430.0040</td>\n",
       "      <td id=\"T_b1647_row6_col3\" class=\"data row6 col3\" >0.7356</td>\n",
       "      <td id=\"T_b1647_row6_col4\" class=\"data row6 col4\" >0.2411</td>\n",
       "      <td id=\"T_b1647_row6_col5\" class=\"data row6 col5\" >0.1828</td>\n",
       "    </tr>\n",
       "    <tr>\n",
       "      <th id=\"T_b1647_level0_row7\" class=\"row_heading level0 row7\" >7</th>\n",
       "      <td id=\"T_b1647_row7_col0\" class=\"data row7 col0\" >600.9196</td>\n",
       "      <td id=\"T_b1647_row7_col1\" class=\"data row7 col1\" >232475552.0000</td>\n",
       "      <td id=\"T_b1647_row7_col2\" class=\"data row7 col2\" >15247.1494</td>\n",
       "      <td id=\"T_b1647_row7_col3\" class=\"data row7 col3\" >-336.0075</td>\n",
       "      <td id=\"T_b1647_row7_col4\" class=\"data row7 col4\" >0.2717</td>\n",
       "      <td id=\"T_b1647_row7_col5\" class=\"data row7 col5\" >0.4331</td>\n",
       "    </tr>\n",
       "    <tr>\n",
       "      <th id=\"T_b1647_level0_row8\" class=\"row_heading level0 row8\" >8</th>\n",
       "      <td id=\"T_b1647_row8_col0\" class=\"data row8 col0\" >304.4755</td>\n",
       "      <td id=\"T_b1647_row8_col1\" class=\"data row8 col1\" >2551284.2500</td>\n",
       "      <td id=\"T_b1647_row8_col2\" class=\"data row8 col2\" >1597.2740</td>\n",
       "      <td id=\"T_b1647_row8_col3\" class=\"data row8 col3\" >-1.8034</td>\n",
       "      <td id=\"T_b1647_row8_col4\" class=\"data row8 col4\" >0.2437</td>\n",
       "      <td id=\"T_b1647_row8_col5\" class=\"data row8 col5\" >0.1976</td>\n",
       "    </tr>\n",
       "    <tr>\n",
       "      <th id=\"T_b1647_level0_row9\" class=\"row_heading level0 row9\" >9</th>\n",
       "      <td id=\"T_b1647_row9_col0\" class=\"data row9 col0\" >269.0232</td>\n",
       "      <td id=\"T_b1647_row9_col1\" class=\"data row9 col1\" >217539.1875</td>\n",
       "      <td id=\"T_b1647_row9_col2\" class=\"data row9 col2\" >466.4109</td>\n",
       "      <td id=\"T_b1647_row9_col3\" class=\"data row9 col3\" >0.7084</td>\n",
       "      <td id=\"T_b1647_row9_col4\" class=\"data row9 col4\" >0.2387</td>\n",
       "      <td id=\"T_b1647_row9_col5\" class=\"data row9 col5\" >0.1780</td>\n",
       "    </tr>\n",
       "    <tr>\n",
       "      <th id=\"T_b1647_level0_row10\" class=\"row_heading level0 row10\" >Mean</th>\n",
       "      <td id=\"T_b1647_row10_col0\" class=\"data row10 col0\" >353.3843</td>\n",
       "      <td id=\"T_b1647_row10_col1\" class=\"data row10 col1\" >58061869.8422</td>\n",
       "      <td id=\"T_b1647_row10_col2\" class=\"data row10 col2\" >3999.4082</td>\n",
       "      <td id=\"T_b1647_row10_col3\" class=\"data row10 col3\" >-33.5730</td>\n",
       "      <td id=\"T_b1647_row10_col4\" class=\"data row10 col4\" >0.2583</td>\n",
       "      <td id=\"T_b1647_row10_col5\" class=\"data row10 col5\" >0.2465</td>\n",
       "    </tr>\n",
       "    <tr>\n",
       "      <th id=\"T_b1647_level0_row11\" class=\"row_heading level0 row11\" >Std</th>\n",
       "      <td id=\"T_b1647_row11_col0\" class=\"data row11 col0\" >142.5517</td>\n",
       "      <td id=\"T_b1647_row11_col1\" class=\"data row11 col1\" >117087554.3892</td>\n",
       "      <td id=\"T_b1647_row11_col2\" class=\"data row11 col2\" >6485.8773</td>\n",
       "      <td id=\"T_b1647_row11_col3\" class=\"data row11 col3\" >100.8158</td>\n",
       "      <td id=\"T_b1647_row11_col4\" class=\"data row11 col4\" >0.0152</td>\n",
       "      <td id=\"T_b1647_row11_col5\" class=\"data row11 col5\" >0.1142</td>\n",
       "    </tr>\n",
       "  </tbody>\n",
       "</table>\n"
      ],
      "text/plain": [
       "<pandas.io.formats.style.Styler at 0x283e90880>"
      ]
     },
     "metadata": {},
     "output_type": "display_data"
    },
    {
     "data": {
      "text/html": [],
      "text/plain": [
       "<IPython.core.display.HTML object>"
      ]
     },
     "metadata": {},
     "output_type": "display_data"
    },
    {
     "ename": "ModuleNotFoundError",
     "evalue": "\n'skopt' is a soft dependency and not included in the pycaret installation. Please run: `pip install scikit-optimize` to install.\nAlternately, you can install this by running `pip install pycaret[tuners]`",
     "output_type": "error",
     "traceback": [
      "\u001b[0;31m---------------------------------------------------------------------------\u001b[0m",
      "\u001b[0;31mModuleNotFoundError\u001b[0m                       Traceback (most recent call last)",
      "Cell \u001b[0;32mIn[121], line 2\u001b[0m\n\u001b[1;32m      1\u001b[0m mdl \u001b[39m=\u001b[39m s\u001b[39m.\u001b[39mcreate_model(\u001b[39m\"\u001b[39m\u001b[39mxgboost\u001b[39m\u001b[39m\"\u001b[39m)\n\u001b[0;32m----> 2\u001b[0m tuned_model \u001b[39m=\u001b[39m s\u001b[39m.\u001b[39;49mtune_model(mdl, optimize\u001b[39m=\u001b[39;49m\u001b[39m\"\u001b[39;49m\u001b[39mRMSE\u001b[39;49m\u001b[39m\"\u001b[39;49m, search_library \u001b[39m=\u001b[39;49m \u001b[39m'\u001b[39;49m\u001b[39mscikit-optimize\u001b[39;49m\u001b[39m'\u001b[39;49m)\n\u001b[1;32m      3\u001b[0m s\u001b[39m.\u001b[39mevaluate_model(tuned_model)\n",
      "File \u001b[0;32m/opt/homebrew/Caskroom/miniforge/base/envs/dev/lib/python3.10/site-packages/pycaret/regression/oop.py:1499\u001b[0m, in \u001b[0;36mRegressionExperiment.tune_model\u001b[0;34m(self, estimator, fold, round, n_iter, custom_grid, optimize, custom_scorer, search_library, search_algorithm, early_stopping, early_stopping_max_iters, choose_better, fit_kwargs, groups, return_tuner, verbose, tuner_verbose, return_train_score, **kwargs)\u001b[0m\n\u001b[1;32m   1307\u001b[0m \u001b[39mdef\u001b[39;00m \u001b[39mtune_model\u001b[39m(\n\u001b[1;32m   1308\u001b[0m     \u001b[39mself\u001b[39m,\n\u001b[1;32m   1309\u001b[0m     estimator,\n\u001b[0;32m   (...)\u001b[0m\n\u001b[1;32m   1327\u001b[0m     \u001b[39m*\u001b[39m\u001b[39m*\u001b[39mkwargs,\n\u001b[1;32m   1328\u001b[0m ):\n\u001b[1;32m   1329\u001b[0m \u001b[39m    \u001b[39m\u001b[39m\"\"\"\u001b[39;00m\n\u001b[1;32m   1330\u001b[0m \u001b[39m    This function tunes the hyperparameters of a given estimator. The output of\u001b[39;00m\n\u001b[1;32m   1331\u001b[0m \u001b[39m    this function is a score grid with CV scores by fold of the best selected\u001b[39;00m\n\u001b[0;32m   (...)\u001b[0m\n\u001b[1;32m   1496\u001b[0m \n\u001b[1;32m   1497\u001b[0m \u001b[39m    \"\"\"\u001b[39;00m\n\u001b[0;32m-> 1499\u001b[0m     \u001b[39mreturn\u001b[39;00m \u001b[39msuper\u001b[39;49m()\u001b[39m.\u001b[39;49mtune_model(\n\u001b[1;32m   1500\u001b[0m         estimator\u001b[39m=\u001b[39;49mestimator,\n\u001b[1;32m   1501\u001b[0m         fold\u001b[39m=\u001b[39;49mfold,\n\u001b[1;32m   1502\u001b[0m         \u001b[39mround\u001b[39;49m\u001b[39m=\u001b[39;49m\u001b[39mround\u001b[39;49m,\n\u001b[1;32m   1503\u001b[0m         n_iter\u001b[39m=\u001b[39;49mn_iter,\n\u001b[1;32m   1504\u001b[0m         custom_grid\u001b[39m=\u001b[39;49mcustom_grid,\n\u001b[1;32m   1505\u001b[0m         optimize\u001b[39m=\u001b[39;49moptimize,\n\u001b[1;32m   1506\u001b[0m         custom_scorer\u001b[39m=\u001b[39;49mcustom_scorer,\n\u001b[1;32m   1507\u001b[0m         search_library\u001b[39m=\u001b[39;49msearch_library,\n\u001b[1;32m   1508\u001b[0m         search_algorithm\u001b[39m=\u001b[39;49msearch_algorithm,\n\u001b[1;32m   1509\u001b[0m         early_stopping\u001b[39m=\u001b[39;49mearly_stopping,\n\u001b[1;32m   1510\u001b[0m         early_stopping_max_iters\u001b[39m=\u001b[39;49mearly_stopping_max_iters,\n\u001b[1;32m   1511\u001b[0m         choose_better\u001b[39m=\u001b[39;49mchoose_better,\n\u001b[1;32m   1512\u001b[0m         fit_kwargs\u001b[39m=\u001b[39;49mfit_kwargs,\n\u001b[1;32m   1513\u001b[0m         groups\u001b[39m=\u001b[39;49mgroups,\n\u001b[1;32m   1514\u001b[0m         return_tuner\u001b[39m=\u001b[39;49mreturn_tuner,\n\u001b[1;32m   1515\u001b[0m         verbose\u001b[39m=\u001b[39;49mverbose,\n\u001b[1;32m   1516\u001b[0m         tuner_verbose\u001b[39m=\u001b[39;49mtuner_verbose,\n\u001b[1;32m   1517\u001b[0m         return_train_score\u001b[39m=\u001b[39;49mreturn_train_score,\n\u001b[1;32m   1518\u001b[0m         \u001b[39m*\u001b[39;49m\u001b[39m*\u001b[39;49mkwargs,\n\u001b[1;32m   1519\u001b[0m     )\n",
      "File \u001b[0;32m/opt/homebrew/Caskroom/miniforge/base/envs/dev/lib/python3.10/site-packages/pycaret/internal/pycaret_experiment/supervised_experiment.py:2045\u001b[0m, in \u001b[0;36m_SupervisedExperiment.tune_model\u001b[0;34m(self, estimator, fold, round, n_iter, custom_grid, optimize, custom_scorer, search_library, search_algorithm, early_stopping, early_stopping_max_iters, choose_better, fit_kwargs, groups, return_tuner, verbose, tuner_verbose, return_train_score, **kwargs)\u001b[0m\n\u001b[1;32m   2040\u001b[0m     \u001b[39mraise\u001b[39;00m \u001b[39mValueError\u001b[39;00m(\n\u001b[1;32m   2041\u001b[0m         \u001b[39mf\u001b[39m\u001b[39m\"\u001b[39m\u001b[39msearch_library parameter must be one of \u001b[39m\u001b[39m{\u001b[39;00m\u001b[39m'\u001b[39m\u001b[39m, \u001b[39m\u001b[39m'\u001b[39m\u001b[39m.\u001b[39mjoin(possible_search_libraries)\u001b[39m}\u001b[39;00m\u001b[39m\"\u001b[39m\n\u001b[1;32m   2042\u001b[0m     )\n\u001b[1;32m   2044\u001b[0m \u001b[39mif\u001b[39;00m search_library \u001b[39m==\u001b[39m \u001b[39m\"\u001b[39m\u001b[39mscikit-optimize\u001b[39m\u001b[39m\"\u001b[39m:\n\u001b[0;32m-> 2045\u001b[0m     _check_soft_dependencies(\n\u001b[1;32m   2046\u001b[0m         \u001b[39m\"\u001b[39;49m\u001b[39mskopt\u001b[39;49m\u001b[39m\"\u001b[39;49m,\n\u001b[1;32m   2047\u001b[0m         extra\u001b[39m=\u001b[39;49m\u001b[39m\"\u001b[39;49m\u001b[39mtuners\u001b[39;49m\u001b[39m\"\u001b[39;49m,\n\u001b[1;32m   2048\u001b[0m         severity\u001b[39m=\u001b[39;49m\u001b[39m\"\u001b[39;49m\u001b[39merror\u001b[39;49m\u001b[39m\"\u001b[39;49m,\n\u001b[1;32m   2049\u001b[0m         install_name\u001b[39m=\u001b[39;49m\u001b[39m\"\u001b[39;49m\u001b[39mscikit-optimize\u001b[39;49m\u001b[39m\"\u001b[39;49m,\n\u001b[1;32m   2050\u001b[0m     )\n\u001b[1;32m   2051\u001b[0m     \u001b[39mimport\u001b[39;00m \u001b[39mskopt\u001b[39;00m\n\u001b[1;32m   2053\u001b[0m     \u001b[39mif\u001b[39;00m \u001b[39mnot\u001b[39;00m search_algorithm:\n",
      "File \u001b[0;32m/opt/homebrew/Caskroom/miniforge/base/envs/dev/lib/python3.10/site-packages/pycaret/utils/_dependencies.py:152\u001b[0m, in \u001b[0;36m_check_soft_dependencies\u001b[0;34m(package, severity, extra, install_name)\u001b[0m\n\u001b[1;32m    150\u001b[0m \u001b[39mif\u001b[39;00m severity \u001b[39m==\u001b[39m \u001b[39m\"\u001b[39m\u001b[39merror\u001b[39m\u001b[39m\"\u001b[39m:\n\u001b[1;32m    151\u001b[0m     logger\u001b[39m.\u001b[39mexception(\u001b[39mf\u001b[39m\u001b[39m\"\u001b[39m\u001b[39m{\u001b[39;00mmsg\u001b[39m}\u001b[39;00m\u001b[39m\"\u001b[39m)\n\u001b[0;32m--> 152\u001b[0m     \u001b[39mraise\u001b[39;00m \u001b[39mModuleNotFoundError\u001b[39;00m(msg)\n\u001b[1;32m    153\u001b[0m \u001b[39melif\u001b[39;00m severity \u001b[39m==\u001b[39m \u001b[39m\"\u001b[39m\u001b[39mwarning\u001b[39m\u001b[39m\"\u001b[39m:\n\u001b[1;32m    154\u001b[0m     logger\u001b[39m.\u001b[39mwarning(\u001b[39mf\u001b[39m\u001b[39m\"\u001b[39m\u001b[39m{\u001b[39;00mmsg\u001b[39m}\u001b[39;00m\u001b[39m\"\u001b[39m)\n",
      "\u001b[0;31mModuleNotFoundError\u001b[0m: \n'skopt' is a soft dependency and not included in the pycaret installation. Please run: `pip install scikit-optimize` to install.\nAlternately, you can install this by running `pip install pycaret[tuners]`"
     ]
    }
   ],
   "source": [
    "mdl = s.create_model(\"lr\")\n",
    "tuned_model = s.tune_model(mdl, optimize=\"RMSE\", search_library=\"scikit-optimize\")\n",
    "s.evaluate_model(tuned_model)"
   ]
  },
  {
   "cell_type": "code",
   "execution_count": 114,
   "metadata": {},
   "outputs": [
    {
     "data": {
      "text/html": [
       "<style type=\"text/css\">\n",
       "</style>\n",
       "<table id=\"T_e8420\">\n",
       "  <thead>\n",
       "    <tr>\n",
       "      <th class=\"blank level0\" >&nbsp;</th>\n",
       "      <th id=\"T_e8420_level0_col0\" class=\"col_heading level0 col0\" >Model</th>\n",
       "      <th id=\"T_e8420_level0_col1\" class=\"col_heading level0 col1\" >MAE</th>\n",
       "      <th id=\"T_e8420_level0_col2\" class=\"col_heading level0 col2\" >MSE</th>\n",
       "      <th id=\"T_e8420_level0_col3\" class=\"col_heading level0 col3\" >RMSE</th>\n",
       "      <th id=\"T_e8420_level0_col4\" class=\"col_heading level0 col4\" >R2</th>\n",
       "      <th id=\"T_e8420_level0_col5\" class=\"col_heading level0 col5\" >RMSLE</th>\n",
       "      <th id=\"T_e8420_level0_col6\" class=\"col_heading level0 col6\" >MAPE</th>\n",
       "    </tr>\n",
       "  </thead>\n",
       "  <tbody>\n",
       "    <tr>\n",
       "      <th id=\"T_e8420_level0_row0\" class=\"row_heading level0 row0\" >0</th>\n",
       "      <td id=\"T_e8420_row0_col0\" class=\"data row0 col0\" >Extreme Gradient Boosting</td>\n",
       "      <td id=\"T_e8420_row0_col1\" class=\"data row0 col1\" >308.6646</td>\n",
       "      <td id=\"T_e8420_row0_col2\" class=\"data row0 col2\" >246935.8125</td>\n",
       "      <td id=\"T_e8420_row0_col3\" class=\"data row0 col3\" >496.9264</td>\n",
       "      <td id=\"T_e8420_row0_col4\" class=\"data row0 col4\" >0.6739</td>\n",
       "      <td id=\"T_e8420_row0_col5\" class=\"data row0 col5\" >0.2655</td>\n",
       "      <td id=\"T_e8420_row0_col6\" class=\"data row0 col6\" >0.2140</td>\n",
       "    </tr>\n",
       "  </tbody>\n",
       "</table>\n"
      ],
      "text/plain": [
       "<pandas.io.formats.style.Styler at 0x292465a80>"
      ]
     },
     "metadata": {},
     "output_type": "display_data"
    },
    {
     "data": {
      "text/html": [
       "<div>\n",
       "<style scoped>\n",
       "    .dataframe tbody tr th:only-of-type {\n",
       "        vertical-align: middle;\n",
       "    }\n",
       "\n",
       "    .dataframe tbody tr th {\n",
       "        vertical-align: top;\n",
       "    }\n",
       "\n",
       "    .dataframe thead th {\n",
       "        text-align: right;\n",
       "    }\n",
       "</style>\n",
       "<table border=\"1\" class=\"dataframe\">\n",
       "  <thead>\n",
       "    <tr style=\"text-align: right;\">\n",
       "      <th></th>\n",
       "      <th>date</th>\n",
       "      <th>space</th>\n",
       "      <th>categories</th>\n",
       "      <th>is_apartment</th>\n",
       "      <th>is_duplex</th>\n",
       "      <th>is_house</th>\n",
       "      <th>size</th>\n",
       "      <th>price</th>\n",
       "      <th>prediction_label</th>\n",
       "    </tr>\n",
       "  </thead>\n",
       "  <tbody>\n",
       "    <tr>\n",
       "      <th>34346</th>\n",
       "      <td>2020-03-11</td>\n",
       "      <td>60.0</td>\n",
       "      <td>FLAT</td>\n",
       "      <td>1</td>\n",
       "      <td>0</td>\n",
       "      <td>0</td>\n",
       "      <td>md</td>\n",
       "      <td>1220.0</td>\n",
       "      <td>1428.913208</td>\n",
       "    </tr>\n",
       "    <tr>\n",
       "      <th>30106</th>\n",
       "      <td>2019-09-30</td>\n",
       "      <td>105.0</td>\n",
       "      <td>APARTMENT</td>\n",
       "      <td>1</td>\n",
       "      <td>0</td>\n",
       "      <td>0</td>\n",
       "      <td>bg</td>\n",
       "      <td>2790.0</td>\n",
       "      <td>2293.295410</td>\n",
       "    </tr>\n",
       "    <tr>\n",
       "      <th>28664</th>\n",
       "      <td>2019-11-06</td>\n",
       "      <td>128.0</td>\n",
       "      <td>ATTIC_FLAT</td>\n",
       "      <td>0</td>\n",
       "      <td>0</td>\n",
       "      <td>0</td>\n",
       "      <td>bg</td>\n",
       "      <td>2880.0</td>\n",
       "      <td>2878.078369</td>\n",
       "    </tr>\n",
       "    <tr>\n",
       "      <th>39871</th>\n",
       "      <td>2019-08-07</td>\n",
       "      <td>158.0</td>\n",
       "      <td>DUPLEX</td>\n",
       "      <td>0</td>\n",
       "      <td>1</td>\n",
       "      <td>0</td>\n",
       "      <td>bg</td>\n",
       "      <td>2650.0</td>\n",
       "      <td>3410.446045</td>\n",
       "    </tr>\n",
       "    <tr>\n",
       "      <th>35500</th>\n",
       "      <td>2019-01-22</td>\n",
       "      <td>81.0</td>\n",
       "      <td>APARTMENT</td>\n",
       "      <td>1</td>\n",
       "      <td>0</td>\n",
       "      <td>0</td>\n",
       "      <td>md</td>\n",
       "      <td>1450.0</td>\n",
       "      <td>1597.831421</td>\n",
       "    </tr>\n",
       "    <tr>\n",
       "      <th>...</th>\n",
       "      <td>...</td>\n",
       "      <td>...</td>\n",
       "      <td>...</td>\n",
       "      <td>...</td>\n",
       "      <td>...</td>\n",
       "      <td>...</td>\n",
       "      <td>...</td>\n",
       "      <td>...</td>\n",
       "      <td>...</td>\n",
       "    </tr>\n",
       "    <tr>\n",
       "      <th>1404</th>\n",
       "      <td>2020-06-02</td>\n",
       "      <td>86.0</td>\n",
       "      <td>FLAT</td>\n",
       "      <td>1</td>\n",
       "      <td>0</td>\n",
       "      <td>0</td>\n",
       "      <td>md</td>\n",
       "      <td>1950.0</td>\n",
       "      <td>1753.320068</td>\n",
       "    </tr>\n",
       "    <tr>\n",
       "      <th>40436</th>\n",
       "      <td>2021-10-22</td>\n",
       "      <td>31.0</td>\n",
       "      <td>FLAT</td>\n",
       "      <td>1</td>\n",
       "      <td>0</td>\n",
       "      <td>0</td>\n",
       "      <td>sm</td>\n",
       "      <td>700.0</td>\n",
       "      <td>932.196594</td>\n",
       "    </tr>\n",
       "    <tr>\n",
       "      <th>40129</th>\n",
       "      <td>2021-01-04</td>\n",
       "      <td>35.0</td>\n",
       "      <td>FLAT</td>\n",
       "      <td>1</td>\n",
       "      <td>0</td>\n",
       "      <td>0</td>\n",
       "      <td>sm</td>\n",
       "      <td>1000.0</td>\n",
       "      <td>885.017578</td>\n",
       "    </tr>\n",
       "    <tr>\n",
       "      <th>26537</th>\n",
       "      <td>2018-08-20</td>\n",
       "      <td>NaN</td>\n",
       "      <td>APARTMENT</td>\n",
       "      <td>1</td>\n",
       "      <td>0</td>\n",
       "      <td>0</td>\n",
       "      <td>sm</td>\n",
       "      <td>1220.0</td>\n",
       "      <td>1343.855469</td>\n",
       "    </tr>\n",
       "    <tr>\n",
       "      <th>18054</th>\n",
       "      <td>2019-05-13</td>\n",
       "      <td>59.0</td>\n",
       "      <td>APARTMENT</td>\n",
       "      <td>1</td>\n",
       "      <td>0</td>\n",
       "      <td>0</td>\n",
       "      <td>md</td>\n",
       "      <td>1030.0</td>\n",
       "      <td>1470.363159</td>\n",
       "    </tr>\n",
       "  </tbody>\n",
       "</table>\n",
       "<p>9475 rows × 9 columns</p>\n",
       "</div>"
      ],
      "text/plain": [
       "            date  space  categories  is_apartment  is_duplex  is_house size  \\\n",
       "34346 2020-03-11   60.0        FLAT             1          0         0   md   \n",
       "30106 2019-09-30  105.0   APARTMENT             1          0         0   bg   \n",
       "28664 2019-11-06  128.0  ATTIC_FLAT             0          0         0   bg   \n",
       "39871 2019-08-07  158.0      DUPLEX             0          1         0   bg   \n",
       "35500 2019-01-22   81.0   APARTMENT             1          0         0   md   \n",
       "...          ...    ...         ...           ...        ...       ...  ...   \n",
       "1404  2020-06-02   86.0        FLAT             1          0         0   md   \n",
       "40436 2021-10-22   31.0        FLAT             1          0         0   sm   \n",
       "40129 2021-01-04   35.0        FLAT             1          0         0   sm   \n",
       "26537 2018-08-20    NaN   APARTMENT             1          0         0   sm   \n",
       "18054 2019-05-13   59.0   APARTMENT             1          0         0   md   \n",
       "\n",
       "        price  prediction_label  \n",
       "34346  1220.0       1428.913208  \n",
       "30106  2790.0       2293.295410  \n",
       "28664  2880.0       2878.078369  \n",
       "39871  2650.0       3410.446045  \n",
       "35500  1450.0       1597.831421  \n",
       "...       ...               ...  \n",
       "1404   1950.0       1753.320068  \n",
       "40436   700.0        932.196594  \n",
       "40129  1000.0        885.017578  \n",
       "26537  1220.0       1343.855469  \n",
       "18054  1030.0       1470.363159  \n",
       "\n",
       "[9475 rows x 9 columns]"
      ]
     },
     "execution_count": 114,
     "metadata": {},
     "output_type": "execute_result"
    }
   ],
   "source": []
  },
  {
   "cell_type": "code",
   "execution_count": 119,
   "metadata": {},
   "outputs": [
    {
     "data": {
      "text/html": [
       "<style type=\"text/css\">\n",
       "</style>\n",
       "<table id=\"T_c7b1b\">\n",
       "  <thead>\n",
       "    <tr>\n",
       "      <th class=\"blank level0\" >&nbsp;</th>\n",
       "      <th id=\"T_c7b1b_level0_col0\" class=\"col_heading level0 col0\" >Model</th>\n",
       "      <th id=\"T_c7b1b_level0_col1\" class=\"col_heading level0 col1\" >MAE</th>\n",
       "      <th id=\"T_c7b1b_level0_col2\" class=\"col_heading level0 col2\" >MSE</th>\n",
       "      <th id=\"T_c7b1b_level0_col3\" class=\"col_heading level0 col3\" >RMSE</th>\n",
       "      <th id=\"T_c7b1b_level0_col4\" class=\"col_heading level0 col4\" >R2</th>\n",
       "      <th id=\"T_c7b1b_level0_col5\" class=\"col_heading level0 col5\" >RMSLE</th>\n",
       "      <th id=\"T_c7b1b_level0_col6\" class=\"col_heading level0 col6\" >MAPE</th>\n",
       "    </tr>\n",
       "  </thead>\n",
       "  <tbody>\n",
       "    <tr>\n",
       "      <th id=\"T_c7b1b_level0_row0\" class=\"row_heading level0 row0\" >0</th>\n",
       "      <td id=\"T_c7b1b_row0_col0\" class=\"data row0 col0\" >Extreme Gradient Boosting</td>\n",
       "      <td id=\"T_c7b1b_row0_col1\" class=\"data row0 col1\" >308.6646</td>\n",
       "      <td id=\"T_c7b1b_row0_col2\" class=\"data row0 col2\" >246935.8125</td>\n",
       "      <td id=\"T_c7b1b_row0_col3\" class=\"data row0 col3\" >496.9264</td>\n",
       "      <td id=\"T_c7b1b_row0_col4\" class=\"data row0 col4\" >0.6739</td>\n",
       "      <td id=\"T_c7b1b_row0_col5\" class=\"data row0 col5\" >0.2655</td>\n",
       "      <td id=\"T_c7b1b_row0_col6\" class=\"data row0 col6\" >0.2140</td>\n",
       "    </tr>\n",
       "  </tbody>\n",
       "</table>\n"
      ],
      "text/plain": [
       "<pandas.io.formats.style.Styler at 0x2929422f0>"
      ]
     },
     "metadata": {},
     "output_type": "display_data"
    },
    {
     "data": {
      "text/html": [
       "<div>\n",
       "<style scoped>\n",
       "    .dataframe tbody tr th:only-of-type {\n",
       "        vertical-align: middle;\n",
       "    }\n",
       "\n",
       "    .dataframe tbody tr th {\n",
       "        vertical-align: top;\n",
       "    }\n",
       "\n",
       "    .dataframe thead th {\n",
       "        text-align: right;\n",
       "    }\n",
       "</style>\n",
       "<table border=\"1\" class=\"dataframe\">\n",
       "  <thead>\n",
       "    <tr style=\"text-align: right;\">\n",
       "      <th></th>\n",
       "      <th>date</th>\n",
       "      <th>space</th>\n",
       "      <th>categories</th>\n",
       "      <th>is_apartment</th>\n",
       "      <th>is_duplex</th>\n",
       "      <th>is_house</th>\n",
       "      <th>size</th>\n",
       "      <th>price</th>\n",
       "      <th>prediction_label</th>\n",
       "    </tr>\n",
       "  </thead>\n",
       "  <tbody>\n",
       "    <tr>\n",
       "      <th>34346</th>\n",
       "      <td>2020-03-11</td>\n",
       "      <td>60.0</td>\n",
       "      <td>FLAT</td>\n",
       "      <td>1</td>\n",
       "      <td>0</td>\n",
       "      <td>0</td>\n",
       "      <td>md</td>\n",
       "      <td>1220.0</td>\n",
       "      <td>1428.913208</td>\n",
       "    </tr>\n",
       "    <tr>\n",
       "      <th>30106</th>\n",
       "      <td>2019-09-30</td>\n",
       "      <td>105.0</td>\n",
       "      <td>APARTMENT</td>\n",
       "      <td>1</td>\n",
       "      <td>0</td>\n",
       "      <td>0</td>\n",
       "      <td>bg</td>\n",
       "      <td>2790.0</td>\n",
       "      <td>2293.295410</td>\n",
       "    </tr>\n",
       "    <tr>\n",
       "      <th>28664</th>\n",
       "      <td>2019-11-06</td>\n",
       "      <td>128.0</td>\n",
       "      <td>ATTIC_FLAT</td>\n",
       "      <td>0</td>\n",
       "      <td>0</td>\n",
       "      <td>0</td>\n",
       "      <td>bg</td>\n",
       "      <td>2880.0</td>\n",
       "      <td>2878.078369</td>\n",
       "    </tr>\n",
       "    <tr>\n",
       "      <th>39871</th>\n",
       "      <td>2019-08-07</td>\n",
       "      <td>158.0</td>\n",
       "      <td>DUPLEX</td>\n",
       "      <td>0</td>\n",
       "      <td>1</td>\n",
       "      <td>0</td>\n",
       "      <td>bg</td>\n",
       "      <td>2650.0</td>\n",
       "      <td>3410.446045</td>\n",
       "    </tr>\n",
       "    <tr>\n",
       "      <th>35500</th>\n",
       "      <td>2019-01-22</td>\n",
       "      <td>81.0</td>\n",
       "      <td>APARTMENT</td>\n",
       "      <td>1</td>\n",
       "      <td>0</td>\n",
       "      <td>0</td>\n",
       "      <td>md</td>\n",
       "      <td>1450.0</td>\n",
       "      <td>1597.831421</td>\n",
       "    </tr>\n",
       "    <tr>\n",
       "      <th>...</th>\n",
       "      <td>...</td>\n",
       "      <td>...</td>\n",
       "      <td>...</td>\n",
       "      <td>...</td>\n",
       "      <td>...</td>\n",
       "      <td>...</td>\n",
       "      <td>...</td>\n",
       "      <td>...</td>\n",
       "      <td>...</td>\n",
       "    </tr>\n",
       "    <tr>\n",
       "      <th>1404</th>\n",
       "      <td>2020-06-02</td>\n",
       "      <td>86.0</td>\n",
       "      <td>FLAT</td>\n",
       "      <td>1</td>\n",
       "      <td>0</td>\n",
       "      <td>0</td>\n",
       "      <td>md</td>\n",
       "      <td>1950.0</td>\n",
       "      <td>1753.320068</td>\n",
       "    </tr>\n",
       "    <tr>\n",
       "      <th>40436</th>\n",
       "      <td>2021-10-22</td>\n",
       "      <td>31.0</td>\n",
       "      <td>FLAT</td>\n",
       "      <td>1</td>\n",
       "      <td>0</td>\n",
       "      <td>0</td>\n",
       "      <td>sm</td>\n",
       "      <td>700.0</td>\n",
       "      <td>932.196594</td>\n",
       "    </tr>\n",
       "    <tr>\n",
       "      <th>40129</th>\n",
       "      <td>2021-01-04</td>\n",
       "      <td>35.0</td>\n",
       "      <td>FLAT</td>\n",
       "      <td>1</td>\n",
       "      <td>0</td>\n",
       "      <td>0</td>\n",
       "      <td>sm</td>\n",
       "      <td>1000.0</td>\n",
       "      <td>885.017578</td>\n",
       "    </tr>\n",
       "    <tr>\n",
       "      <th>26537</th>\n",
       "      <td>2018-08-20</td>\n",
       "      <td>NaN</td>\n",
       "      <td>APARTMENT</td>\n",
       "      <td>1</td>\n",
       "      <td>0</td>\n",
       "      <td>0</td>\n",
       "      <td>sm</td>\n",
       "      <td>1220.0</td>\n",
       "      <td>1343.855469</td>\n",
       "    </tr>\n",
       "    <tr>\n",
       "      <th>18054</th>\n",
       "      <td>2019-05-13</td>\n",
       "      <td>59.0</td>\n",
       "      <td>APARTMENT</td>\n",
       "      <td>1</td>\n",
       "      <td>0</td>\n",
       "      <td>0</td>\n",
       "      <td>md</td>\n",
       "      <td>1030.0</td>\n",
       "      <td>1470.363159</td>\n",
       "    </tr>\n",
       "  </tbody>\n",
       "</table>\n",
       "<p>9475 rows × 9 columns</p>\n",
       "</div>"
      ],
      "text/plain": [
       "            date  space  categories  is_apartment  is_duplex  is_house size  \\\n",
       "34346 2020-03-11   60.0        FLAT             1          0         0   md   \n",
       "30106 2019-09-30  105.0   APARTMENT             1          0         0   bg   \n",
       "28664 2019-11-06  128.0  ATTIC_FLAT             0          0         0   bg   \n",
       "39871 2019-08-07  158.0      DUPLEX             0          1         0   bg   \n",
       "35500 2019-01-22   81.0   APARTMENT             1          0         0   md   \n",
       "...          ...    ...         ...           ...        ...       ...  ...   \n",
       "1404  2020-06-02   86.0        FLAT             1          0         0   md   \n",
       "40436 2021-10-22   31.0        FLAT             1          0         0   sm   \n",
       "40129 2021-01-04   35.0        FLAT             1          0         0   sm   \n",
       "26537 2018-08-20    NaN   APARTMENT             1          0         0   sm   \n",
       "18054 2019-05-13   59.0   APARTMENT             1          0         0   md   \n",
       "\n",
       "        price  prediction_label  \n",
       "34346  1220.0       1428.913208  \n",
       "30106  2790.0       2293.295410  \n",
       "28664  2880.0       2878.078369  \n",
       "39871  2650.0       3410.446045  \n",
       "35500  1450.0       1597.831421  \n",
       "...       ...               ...  \n",
       "1404   1950.0       1753.320068  \n",
       "40436   700.0        932.196594  \n",
       "40129  1000.0        885.017578  \n",
       "26537  1220.0       1343.855469  \n",
       "18054  1030.0       1470.363159  \n",
       "\n",
       "[9475 rows x 9 columns]"
      ]
     },
     "execution_count": 119,
     "metadata": {},
     "output_type": "execute_result"
    }
   ],
   "source": [
    "s.predict_model(tuned_model)"
   ]
  },
  {
   "cell_type": "markdown",
   "metadata": {},
   "source": [
    "## Model Price per square meter"
   ]
  },
  {
   "cell_type": "code",
   "execution_count": 97,
   "metadata": {},
   "outputs": [
    {
     "data": {
      "text/plain": [
       "(30148, 24)"
      ]
     },
     "execution_count": 97,
     "metadata": {},
     "output_type": "execute_result"
    }
   ],
   "source": [
    "ts_df = residential_df.dropna(subset=[\"space\"]).reset_index(drop=True)\n",
    "ts_df[\"price_sqm\"] = ts_df.eval(\"price/space\").map(lambda x: int(x * 100) / 100)\n",
    "ts_df = ts_df.join(pd.get_dummies(ts_df[\"categories\"]).applymap(int))\n",
    "ts_df.shape"
   ]
  },
  {
   "cell_type": "code",
   "execution_count": 99,
   "metadata": {},
   "outputs": [
    {
     "data": {
      "application/vnd.plotly.v1+json": {
       "config": {
        "linkText": "Export to plot.ly",
        "plotlyServerURL": "https://plot.ly",
        "showLink": true
       },
       "data": [
        {
         "line": {
          "color": "rgba(255, 153, 51, 1.0)",
          "dash": "solid",
          "shape": "linear",
          "width": 1.3
         },
         "mode": "lines",
         "name": "price_sqm",
         "text": "",
         "type": "scatter",
         "x": [
          "2018-01-31",
          "2018-02-28",
          "2018-03-31",
          "2018-04-30",
          "2018-05-31",
          "2018-06-30",
          "2018-07-31",
          "2018-08-31",
          "2018-09-30",
          "2018-10-31",
          "2018-11-30",
          "2018-12-31",
          "2019-01-31",
          "2019-02-28",
          "2019-03-31",
          "2019-04-30",
          "2019-05-31",
          "2019-06-30",
          "2019-07-31",
          "2019-08-31",
          "2019-09-30",
          "2019-10-31",
          "2019-11-30",
          "2019-12-31",
          "2020-01-31",
          "2020-02-29",
          "2020-03-31",
          "2020-04-30",
          "2020-05-31",
          "2020-06-30",
          "2020-07-31",
          "2020-08-31",
          "2020-09-30",
          "2020-10-31",
          "2020-11-30",
          "2020-12-31",
          "2021-01-31",
          "2021-02-28",
          "2021-03-31",
          "2021-04-30",
          "2021-05-31",
          "2021-06-30",
          "2021-07-31",
          "2021-08-31",
          "2021-09-30",
          "2021-10-31",
          "2021-11-30",
          "2021-12-31"
         ],
         "y": [
          22.14155807365439,
          23.524323483670294,
          22.17384012539185,
          23.90851261620186,
          22.786625683060112,
          26.48983375959079,
          22.22171812080537,
          22.28956354300385,
          22.661583652618138,
          23.25474342928661,
          25.478192918192917,
          21.910055147058824,
          22.24041907514451,
          23.48688775510204,
          24.25916271721959,
          23.44123595505618,
          23.52587921847247,
          24.251836393989983,
          24.03603448275862,
          24.092120743034055,
          23.94095320623917,
          23.76296422487223,
          24.557884615384616,
          22.949710424710425,
          24.309080459770115,
          23.63535508637236,
          24.577716049382715,
          22.688333333333336,
          25.975582255083182,
          22.636011904761904,
          23.112753846153847,
          22.904525660964232,
          23.81687702265372,
          47.14948844884488,
          25.867888307155322,
          23.030094876660343,
          33.72398505603985,
          23.49939114391144,
          23.226998444790045,
          22.232059282371296,
          22.824787985865726,
          23.536241496598638,
          23.19033816425121,
          22.477305295950156,
          22.757374045801527,
          24.325350194552527,
          21.741703204047216,
          22.554265593561368
         ]
        }
       ],
       "layout": {
        "legend": {
         "bgcolor": "#F5F6F9",
         "font": {
          "color": "#4D5663"
         }
        },
        "paper_bgcolor": "#F5F6F9",
        "plot_bgcolor": "#F5F6F9",
        "template": {
         "data": {
          "bar": [
           {
            "error_x": {
             "color": "#2a3f5f"
            },
            "error_y": {
             "color": "#2a3f5f"
            },
            "marker": {
             "line": {
              "color": "#E5ECF6",
              "width": 0.5
             },
             "pattern": {
              "fillmode": "overlay",
              "size": 10,
              "solidity": 0.2
             }
            },
            "type": "bar"
           }
          ],
          "barpolar": [
           {
            "marker": {
             "line": {
              "color": "#E5ECF6",
              "width": 0.5
             },
             "pattern": {
              "fillmode": "overlay",
              "size": 10,
              "solidity": 0.2
             }
            },
            "type": "barpolar"
           }
          ],
          "carpet": [
           {
            "aaxis": {
             "endlinecolor": "#2a3f5f",
             "gridcolor": "white",
             "linecolor": "white",
             "minorgridcolor": "white",
             "startlinecolor": "#2a3f5f"
            },
            "baxis": {
             "endlinecolor": "#2a3f5f",
             "gridcolor": "white",
             "linecolor": "white",
             "minorgridcolor": "white",
             "startlinecolor": "#2a3f5f"
            },
            "type": "carpet"
           }
          ],
          "choropleth": [
           {
            "colorbar": {
             "outlinewidth": 0,
             "ticks": ""
            },
            "type": "choropleth"
           }
          ],
          "contour": [
           {
            "colorbar": {
             "outlinewidth": 0,
             "ticks": ""
            },
            "colorscale": [
             [
              0,
              "#0d0887"
             ],
             [
              0.1111111111111111,
              "#46039f"
             ],
             [
              0.2222222222222222,
              "#7201a8"
             ],
             [
              0.3333333333333333,
              "#9c179e"
             ],
             [
              0.4444444444444444,
              "#bd3786"
             ],
             [
              0.5555555555555556,
              "#d8576b"
             ],
             [
              0.6666666666666666,
              "#ed7953"
             ],
             [
              0.7777777777777778,
              "#fb9f3a"
             ],
             [
              0.8888888888888888,
              "#fdca26"
             ],
             [
              1,
              "#f0f921"
             ]
            ],
            "type": "contour"
           }
          ],
          "contourcarpet": [
           {
            "colorbar": {
             "outlinewidth": 0,
             "ticks": ""
            },
            "type": "contourcarpet"
           }
          ],
          "heatmap": [
           {
            "colorbar": {
             "outlinewidth": 0,
             "ticks": ""
            },
            "colorscale": [
             [
              0,
              "#0d0887"
             ],
             [
              0.1111111111111111,
              "#46039f"
             ],
             [
              0.2222222222222222,
              "#7201a8"
             ],
             [
              0.3333333333333333,
              "#9c179e"
             ],
             [
              0.4444444444444444,
              "#bd3786"
             ],
             [
              0.5555555555555556,
              "#d8576b"
             ],
             [
              0.6666666666666666,
              "#ed7953"
             ],
             [
              0.7777777777777778,
              "#fb9f3a"
             ],
             [
              0.8888888888888888,
              "#fdca26"
             ],
             [
              1,
              "#f0f921"
             ]
            ],
            "type": "heatmap"
           }
          ],
          "heatmapgl": [
           {
            "colorbar": {
             "outlinewidth": 0,
             "ticks": ""
            },
            "colorscale": [
             [
              0,
              "#0d0887"
             ],
             [
              0.1111111111111111,
              "#46039f"
             ],
             [
              0.2222222222222222,
              "#7201a8"
             ],
             [
              0.3333333333333333,
              "#9c179e"
             ],
             [
              0.4444444444444444,
              "#bd3786"
             ],
             [
              0.5555555555555556,
              "#d8576b"
             ],
             [
              0.6666666666666666,
              "#ed7953"
             ],
             [
              0.7777777777777778,
              "#fb9f3a"
             ],
             [
              0.8888888888888888,
              "#fdca26"
             ],
             [
              1,
              "#f0f921"
             ]
            ],
            "type": "heatmapgl"
           }
          ],
          "histogram": [
           {
            "marker": {
             "pattern": {
              "fillmode": "overlay",
              "size": 10,
              "solidity": 0.2
             }
            },
            "type": "histogram"
           }
          ],
          "histogram2d": [
           {
            "colorbar": {
             "outlinewidth": 0,
             "ticks": ""
            },
            "colorscale": [
             [
              0,
              "#0d0887"
             ],
             [
              0.1111111111111111,
              "#46039f"
             ],
             [
              0.2222222222222222,
              "#7201a8"
             ],
             [
              0.3333333333333333,
              "#9c179e"
             ],
             [
              0.4444444444444444,
              "#bd3786"
             ],
             [
              0.5555555555555556,
              "#d8576b"
             ],
             [
              0.6666666666666666,
              "#ed7953"
             ],
             [
              0.7777777777777778,
              "#fb9f3a"
             ],
             [
              0.8888888888888888,
              "#fdca26"
             ],
             [
              1,
              "#f0f921"
             ]
            ],
            "type": "histogram2d"
           }
          ],
          "histogram2dcontour": [
           {
            "colorbar": {
             "outlinewidth": 0,
             "ticks": ""
            },
            "colorscale": [
             [
              0,
              "#0d0887"
             ],
             [
              0.1111111111111111,
              "#46039f"
             ],
             [
              0.2222222222222222,
              "#7201a8"
             ],
             [
              0.3333333333333333,
              "#9c179e"
             ],
             [
              0.4444444444444444,
              "#bd3786"
             ],
             [
              0.5555555555555556,
              "#d8576b"
             ],
             [
              0.6666666666666666,
              "#ed7953"
             ],
             [
              0.7777777777777778,
              "#fb9f3a"
             ],
             [
              0.8888888888888888,
              "#fdca26"
             ],
             [
              1,
              "#f0f921"
             ]
            ],
            "type": "histogram2dcontour"
           }
          ],
          "mesh3d": [
           {
            "colorbar": {
             "outlinewidth": 0,
             "ticks": ""
            },
            "type": "mesh3d"
           }
          ],
          "parcoords": [
           {
            "line": {
             "colorbar": {
              "outlinewidth": 0,
              "ticks": ""
             }
            },
            "type": "parcoords"
           }
          ],
          "pie": [
           {
            "automargin": true,
            "type": "pie"
           }
          ],
          "scatter": [
           {
            "fillpattern": {
             "fillmode": "overlay",
             "size": 10,
             "solidity": 0.2
            },
            "type": "scatter"
           }
          ],
          "scatter3d": [
           {
            "line": {
             "colorbar": {
              "outlinewidth": 0,
              "ticks": ""
             }
            },
            "marker": {
             "colorbar": {
              "outlinewidth": 0,
              "ticks": ""
             }
            },
            "type": "scatter3d"
           }
          ],
          "scattercarpet": [
           {
            "marker": {
             "colorbar": {
              "outlinewidth": 0,
              "ticks": ""
             }
            },
            "type": "scattercarpet"
           }
          ],
          "scattergeo": [
           {
            "marker": {
             "colorbar": {
              "outlinewidth": 0,
              "ticks": ""
             }
            },
            "type": "scattergeo"
           }
          ],
          "scattergl": [
           {
            "marker": {
             "colorbar": {
              "outlinewidth": 0,
              "ticks": ""
             }
            },
            "type": "scattergl"
           }
          ],
          "scattermapbox": [
           {
            "marker": {
             "colorbar": {
              "outlinewidth": 0,
              "ticks": ""
             }
            },
            "type": "scattermapbox"
           }
          ],
          "scatterpolar": [
           {
            "marker": {
             "colorbar": {
              "outlinewidth": 0,
              "ticks": ""
             }
            },
            "type": "scatterpolar"
           }
          ],
          "scatterpolargl": [
           {
            "marker": {
             "colorbar": {
              "outlinewidth": 0,
              "ticks": ""
             }
            },
            "type": "scatterpolargl"
           }
          ],
          "scatterternary": [
           {
            "marker": {
             "colorbar": {
              "outlinewidth": 0,
              "ticks": ""
             }
            },
            "type": "scatterternary"
           }
          ],
          "surface": [
           {
            "colorbar": {
             "outlinewidth": 0,
             "ticks": ""
            },
            "colorscale": [
             [
              0,
              "#0d0887"
             ],
             [
              0.1111111111111111,
              "#46039f"
             ],
             [
              0.2222222222222222,
              "#7201a8"
             ],
             [
              0.3333333333333333,
              "#9c179e"
             ],
             [
              0.4444444444444444,
              "#bd3786"
             ],
             [
              0.5555555555555556,
              "#d8576b"
             ],
             [
              0.6666666666666666,
              "#ed7953"
             ],
             [
              0.7777777777777778,
              "#fb9f3a"
             ],
             [
              0.8888888888888888,
              "#fdca26"
             ],
             [
              1,
              "#f0f921"
             ]
            ],
            "type": "surface"
           }
          ],
          "table": [
           {
            "cells": {
             "fill": {
              "color": "#EBF0F8"
             },
             "line": {
              "color": "white"
             }
            },
            "header": {
             "fill": {
              "color": "#C8D4E3"
             },
             "line": {
              "color": "white"
             }
            },
            "type": "table"
           }
          ]
         },
         "layout": {
          "annotationdefaults": {
           "arrowcolor": "#2a3f5f",
           "arrowhead": 0,
           "arrowwidth": 1
          },
          "autotypenumbers": "strict",
          "coloraxis": {
           "colorbar": {
            "outlinewidth": 0,
            "ticks": ""
           }
          },
          "colorscale": {
           "diverging": [
            [
             0,
             "#8e0152"
            ],
            [
             0.1,
             "#c51b7d"
            ],
            [
             0.2,
             "#de77ae"
            ],
            [
             0.3,
             "#f1b6da"
            ],
            [
             0.4,
             "#fde0ef"
            ],
            [
             0.5,
             "#f7f7f7"
            ],
            [
             0.6,
             "#e6f5d0"
            ],
            [
             0.7,
             "#b8e186"
            ],
            [
             0.8,
             "#7fbc41"
            ],
            [
             0.9,
             "#4d9221"
            ],
            [
             1,
             "#276419"
            ]
           ],
           "sequential": [
            [
             0,
             "#0d0887"
            ],
            [
             0.1111111111111111,
             "#46039f"
            ],
            [
             0.2222222222222222,
             "#7201a8"
            ],
            [
             0.3333333333333333,
             "#9c179e"
            ],
            [
             0.4444444444444444,
             "#bd3786"
            ],
            [
             0.5555555555555556,
             "#d8576b"
            ],
            [
             0.6666666666666666,
             "#ed7953"
            ],
            [
             0.7777777777777778,
             "#fb9f3a"
            ],
            [
             0.8888888888888888,
             "#fdca26"
            ],
            [
             1,
             "#f0f921"
            ]
           ],
           "sequentialminus": [
            [
             0,
             "#0d0887"
            ],
            [
             0.1111111111111111,
             "#46039f"
            ],
            [
             0.2222222222222222,
             "#7201a8"
            ],
            [
             0.3333333333333333,
             "#9c179e"
            ],
            [
             0.4444444444444444,
             "#bd3786"
            ],
            [
             0.5555555555555556,
             "#d8576b"
            ],
            [
             0.6666666666666666,
             "#ed7953"
            ],
            [
             0.7777777777777778,
             "#fb9f3a"
            ],
            [
             0.8888888888888888,
             "#fdca26"
            ],
            [
             1,
             "#f0f921"
            ]
           ]
          },
          "colorway": [
           "#636efa",
           "#EF553B",
           "#00cc96",
           "#ab63fa",
           "#FFA15A",
           "#19d3f3",
           "#FF6692",
           "#B6E880",
           "#FF97FF",
           "#FECB52"
          ],
          "font": {
           "color": "#2a3f5f"
          },
          "geo": {
           "bgcolor": "white",
           "lakecolor": "white",
           "landcolor": "#E5ECF6",
           "showlakes": true,
           "showland": true,
           "subunitcolor": "white"
          },
          "hoverlabel": {
           "align": "left"
          },
          "hovermode": "closest",
          "mapbox": {
           "style": "light"
          },
          "paper_bgcolor": "white",
          "plot_bgcolor": "#E5ECF6",
          "polar": {
           "angularaxis": {
            "gridcolor": "white",
            "linecolor": "white",
            "ticks": ""
           },
           "bgcolor": "#E5ECF6",
           "radialaxis": {
            "gridcolor": "white",
            "linecolor": "white",
            "ticks": ""
           }
          },
          "scene": {
           "xaxis": {
            "backgroundcolor": "#E5ECF6",
            "gridcolor": "white",
            "gridwidth": 2,
            "linecolor": "white",
            "showbackground": true,
            "ticks": "",
            "zerolinecolor": "white"
           },
           "yaxis": {
            "backgroundcolor": "#E5ECF6",
            "gridcolor": "white",
            "gridwidth": 2,
            "linecolor": "white",
            "showbackground": true,
            "ticks": "",
            "zerolinecolor": "white"
           },
           "zaxis": {
            "backgroundcolor": "#E5ECF6",
            "gridcolor": "white",
            "gridwidth": 2,
            "linecolor": "white",
            "showbackground": true,
            "ticks": "",
            "zerolinecolor": "white"
           }
          },
          "shapedefaults": {
           "line": {
            "color": "#2a3f5f"
           }
          },
          "ternary": {
           "aaxis": {
            "gridcolor": "white",
            "linecolor": "white",
            "ticks": ""
           },
           "baxis": {
            "gridcolor": "white",
            "linecolor": "white",
            "ticks": ""
           },
           "bgcolor": "#E5ECF6",
           "caxis": {
            "gridcolor": "white",
            "linecolor": "white",
            "ticks": ""
           }
          },
          "title": {
           "x": 0.05
          },
          "xaxis": {
           "automargin": true,
           "gridcolor": "white",
           "linecolor": "white",
           "ticks": "",
           "title": {
            "standoff": 15
           },
           "zerolinecolor": "white",
           "zerolinewidth": 2
          },
          "yaxis": {
           "automargin": true,
           "gridcolor": "white",
           "linecolor": "white",
           "ticks": "",
           "title": {
            "standoff": 15
           },
           "zerolinecolor": "white",
           "zerolinewidth": 2
          }
         }
        },
        "title": {
         "font": {
          "color": "#4D5663"
         }
        },
        "xaxis": {
         "gridcolor": "#E1E5ED",
         "showgrid": true,
         "tickfont": {
          "color": "#4D5663"
         },
         "title": {
          "font": {
           "color": "#4D5663"
          },
          "text": ""
         },
         "zerolinecolor": "#E1E5ED"
        },
        "yaxis": {
         "gridcolor": "#E1E5ED",
         "showgrid": true,
         "tickfont": {
          "color": "#4D5663"
         },
         "title": {
          "font": {
           "color": "#4D5663"
          },
          "text": ""
         },
         "zerolinecolor": "#E1E5ED"
        }
       }
      },
      "text/html": [
       "<div>                            <div id=\"72821fda-dd71-4da0-86dc-060b778d48d6\" class=\"plotly-graph-div\" style=\"height:525px; width:100%;\"></div>            <script type=\"text/javascript\">                require([\"plotly\"], function(Plotly) {                    window.PLOTLYENV=window.PLOTLYENV || {};\n",
       "                    window.PLOTLYENV.BASE_URL='https://plot.ly';                                    if (document.getElementById(\"72821fda-dd71-4da0-86dc-060b778d48d6\")) {                    Plotly.newPlot(                        \"72821fda-dd71-4da0-86dc-060b778d48d6\",                        [{\"line\":{\"color\":\"rgba(255, 153, 51, 1.0)\",\"dash\":\"solid\",\"shape\":\"linear\",\"width\":1.3},\"mode\":\"lines\",\"name\":\"price_sqm\",\"text\":\"\",\"x\":[\"2018-01-31\",\"2018-02-28\",\"2018-03-31\",\"2018-04-30\",\"2018-05-31\",\"2018-06-30\",\"2018-07-31\",\"2018-08-31\",\"2018-09-30\",\"2018-10-31\",\"2018-11-30\",\"2018-12-31\",\"2019-01-31\",\"2019-02-28\",\"2019-03-31\",\"2019-04-30\",\"2019-05-31\",\"2019-06-30\",\"2019-07-31\",\"2019-08-31\",\"2019-09-30\",\"2019-10-31\",\"2019-11-30\",\"2019-12-31\",\"2020-01-31\",\"2020-02-29\",\"2020-03-31\",\"2020-04-30\",\"2020-05-31\",\"2020-06-30\",\"2020-07-31\",\"2020-08-31\",\"2020-09-30\",\"2020-10-31\",\"2020-11-30\",\"2020-12-31\",\"2021-01-31\",\"2021-02-28\",\"2021-03-31\",\"2021-04-30\",\"2021-05-31\",\"2021-06-30\",\"2021-07-31\",\"2021-08-31\",\"2021-09-30\",\"2021-10-31\",\"2021-11-30\",\"2021-12-31\"],\"y\":[22.14155807365439,23.524323483670294,22.17384012539185,23.90851261620186,22.786625683060112,26.48983375959079,22.22171812080537,22.28956354300385,22.661583652618138,23.25474342928661,25.478192918192917,21.910055147058824,22.24041907514451,23.48688775510204,24.25916271721959,23.44123595505618,23.52587921847247,24.251836393989983,24.03603448275862,24.092120743034055,23.94095320623917,23.76296422487223,24.557884615384616,22.949710424710425,24.309080459770115,23.63535508637236,24.577716049382715,22.688333333333336,25.975582255083182,22.636011904761904,23.112753846153847,22.904525660964232,23.81687702265372,47.14948844884488,25.867888307155322,23.030094876660343,33.72398505603985,23.49939114391144,23.226998444790045,22.232059282371296,22.824787985865726,23.536241496598638,23.19033816425121,22.477305295950156,22.757374045801527,24.325350194552527,21.741703204047216,22.554265593561368],\"type\":\"scatter\"}],                        {\"legend\":{\"bgcolor\":\"#F5F6F9\",\"font\":{\"color\":\"#4D5663\"}},\"paper_bgcolor\":\"#F5F6F9\",\"plot_bgcolor\":\"#F5F6F9\",\"template\":{\"data\":{\"barpolar\":[{\"marker\":{\"line\":{\"color\":\"#E5ECF6\",\"width\":0.5},\"pattern\":{\"fillmode\":\"overlay\",\"size\":10,\"solidity\":0.2}},\"type\":\"barpolar\"}],\"bar\":[{\"error_x\":{\"color\":\"#2a3f5f\"},\"error_y\":{\"color\":\"#2a3f5f\"},\"marker\":{\"line\":{\"color\":\"#E5ECF6\",\"width\":0.5},\"pattern\":{\"fillmode\":\"overlay\",\"size\":10,\"solidity\":0.2}},\"type\":\"bar\"}],\"carpet\":[{\"aaxis\":{\"endlinecolor\":\"#2a3f5f\",\"gridcolor\":\"white\",\"linecolor\":\"white\",\"minorgridcolor\":\"white\",\"startlinecolor\":\"#2a3f5f\"},\"baxis\":{\"endlinecolor\":\"#2a3f5f\",\"gridcolor\":\"white\",\"linecolor\":\"white\",\"minorgridcolor\":\"white\",\"startlinecolor\":\"#2a3f5f\"},\"type\":\"carpet\"}],\"choropleth\":[{\"colorbar\":{\"outlinewidth\":0,\"ticks\":\"\"},\"type\":\"choropleth\"}],\"contourcarpet\":[{\"colorbar\":{\"outlinewidth\":0,\"ticks\":\"\"},\"type\":\"contourcarpet\"}],\"contour\":[{\"colorbar\":{\"outlinewidth\":0,\"ticks\":\"\"},\"colorscale\":[[0.0,\"#0d0887\"],[0.1111111111111111,\"#46039f\"],[0.2222222222222222,\"#7201a8\"],[0.3333333333333333,\"#9c179e\"],[0.4444444444444444,\"#bd3786\"],[0.5555555555555556,\"#d8576b\"],[0.6666666666666666,\"#ed7953\"],[0.7777777777777778,\"#fb9f3a\"],[0.8888888888888888,\"#fdca26\"],[1.0,\"#f0f921\"]],\"type\":\"contour\"}],\"heatmapgl\":[{\"colorbar\":{\"outlinewidth\":0,\"ticks\":\"\"},\"colorscale\":[[0.0,\"#0d0887\"],[0.1111111111111111,\"#46039f\"],[0.2222222222222222,\"#7201a8\"],[0.3333333333333333,\"#9c179e\"],[0.4444444444444444,\"#bd3786\"],[0.5555555555555556,\"#d8576b\"],[0.6666666666666666,\"#ed7953\"],[0.7777777777777778,\"#fb9f3a\"],[0.8888888888888888,\"#fdca26\"],[1.0,\"#f0f921\"]],\"type\":\"heatmapgl\"}],\"heatmap\":[{\"colorbar\":{\"outlinewidth\":0,\"ticks\":\"\"},\"colorscale\":[[0.0,\"#0d0887\"],[0.1111111111111111,\"#46039f\"],[0.2222222222222222,\"#7201a8\"],[0.3333333333333333,\"#9c179e\"],[0.4444444444444444,\"#bd3786\"],[0.5555555555555556,\"#d8576b\"],[0.6666666666666666,\"#ed7953\"],[0.7777777777777778,\"#fb9f3a\"],[0.8888888888888888,\"#fdca26\"],[1.0,\"#f0f921\"]],\"type\":\"heatmap\"}],\"histogram2dcontour\":[{\"colorbar\":{\"outlinewidth\":0,\"ticks\":\"\"},\"colorscale\":[[0.0,\"#0d0887\"],[0.1111111111111111,\"#46039f\"],[0.2222222222222222,\"#7201a8\"],[0.3333333333333333,\"#9c179e\"],[0.4444444444444444,\"#bd3786\"],[0.5555555555555556,\"#d8576b\"],[0.6666666666666666,\"#ed7953\"],[0.7777777777777778,\"#fb9f3a\"],[0.8888888888888888,\"#fdca26\"],[1.0,\"#f0f921\"]],\"type\":\"histogram2dcontour\"}],\"histogram2d\":[{\"colorbar\":{\"outlinewidth\":0,\"ticks\":\"\"},\"colorscale\":[[0.0,\"#0d0887\"],[0.1111111111111111,\"#46039f\"],[0.2222222222222222,\"#7201a8\"],[0.3333333333333333,\"#9c179e\"],[0.4444444444444444,\"#bd3786\"],[0.5555555555555556,\"#d8576b\"],[0.6666666666666666,\"#ed7953\"],[0.7777777777777778,\"#fb9f3a\"],[0.8888888888888888,\"#fdca26\"],[1.0,\"#f0f921\"]],\"type\":\"histogram2d\"}],\"histogram\":[{\"marker\":{\"pattern\":{\"fillmode\":\"overlay\",\"size\":10,\"solidity\":0.2}},\"type\":\"histogram\"}],\"mesh3d\":[{\"colorbar\":{\"outlinewidth\":0,\"ticks\":\"\"},\"type\":\"mesh3d\"}],\"parcoords\":[{\"line\":{\"colorbar\":{\"outlinewidth\":0,\"ticks\":\"\"}},\"type\":\"parcoords\"}],\"pie\":[{\"automargin\":true,\"type\":\"pie\"}],\"scatter3d\":[{\"line\":{\"colorbar\":{\"outlinewidth\":0,\"ticks\":\"\"}},\"marker\":{\"colorbar\":{\"outlinewidth\":0,\"ticks\":\"\"}},\"type\":\"scatter3d\"}],\"scattercarpet\":[{\"marker\":{\"colorbar\":{\"outlinewidth\":0,\"ticks\":\"\"}},\"type\":\"scattercarpet\"}],\"scattergeo\":[{\"marker\":{\"colorbar\":{\"outlinewidth\":0,\"ticks\":\"\"}},\"type\":\"scattergeo\"}],\"scattergl\":[{\"marker\":{\"colorbar\":{\"outlinewidth\":0,\"ticks\":\"\"}},\"type\":\"scattergl\"}],\"scattermapbox\":[{\"marker\":{\"colorbar\":{\"outlinewidth\":0,\"ticks\":\"\"}},\"type\":\"scattermapbox\"}],\"scatterpolargl\":[{\"marker\":{\"colorbar\":{\"outlinewidth\":0,\"ticks\":\"\"}},\"type\":\"scatterpolargl\"}],\"scatterpolar\":[{\"marker\":{\"colorbar\":{\"outlinewidth\":0,\"ticks\":\"\"}},\"type\":\"scatterpolar\"}],\"scatter\":[{\"fillpattern\":{\"fillmode\":\"overlay\",\"size\":10,\"solidity\":0.2},\"type\":\"scatter\"}],\"scatterternary\":[{\"marker\":{\"colorbar\":{\"outlinewidth\":0,\"ticks\":\"\"}},\"type\":\"scatterternary\"}],\"surface\":[{\"colorbar\":{\"outlinewidth\":0,\"ticks\":\"\"},\"colorscale\":[[0.0,\"#0d0887\"],[0.1111111111111111,\"#46039f\"],[0.2222222222222222,\"#7201a8\"],[0.3333333333333333,\"#9c179e\"],[0.4444444444444444,\"#bd3786\"],[0.5555555555555556,\"#d8576b\"],[0.6666666666666666,\"#ed7953\"],[0.7777777777777778,\"#fb9f3a\"],[0.8888888888888888,\"#fdca26\"],[1.0,\"#f0f921\"]],\"type\":\"surface\"}],\"table\":[{\"cells\":{\"fill\":{\"color\":\"#EBF0F8\"},\"line\":{\"color\":\"white\"}},\"header\":{\"fill\":{\"color\":\"#C8D4E3\"},\"line\":{\"color\":\"white\"}},\"type\":\"table\"}]},\"layout\":{\"annotationdefaults\":{\"arrowcolor\":\"#2a3f5f\",\"arrowhead\":0,\"arrowwidth\":1},\"autotypenumbers\":\"strict\",\"coloraxis\":{\"colorbar\":{\"outlinewidth\":0,\"ticks\":\"\"}},\"colorscale\":{\"diverging\":[[0,\"#8e0152\"],[0.1,\"#c51b7d\"],[0.2,\"#de77ae\"],[0.3,\"#f1b6da\"],[0.4,\"#fde0ef\"],[0.5,\"#f7f7f7\"],[0.6,\"#e6f5d0\"],[0.7,\"#b8e186\"],[0.8,\"#7fbc41\"],[0.9,\"#4d9221\"],[1,\"#276419\"]],\"sequential\":[[0.0,\"#0d0887\"],[0.1111111111111111,\"#46039f\"],[0.2222222222222222,\"#7201a8\"],[0.3333333333333333,\"#9c179e\"],[0.4444444444444444,\"#bd3786\"],[0.5555555555555556,\"#d8576b\"],[0.6666666666666666,\"#ed7953\"],[0.7777777777777778,\"#fb9f3a\"],[0.8888888888888888,\"#fdca26\"],[1.0,\"#f0f921\"]],\"sequentialminus\":[[0.0,\"#0d0887\"],[0.1111111111111111,\"#46039f\"],[0.2222222222222222,\"#7201a8\"],[0.3333333333333333,\"#9c179e\"],[0.4444444444444444,\"#bd3786\"],[0.5555555555555556,\"#d8576b\"],[0.6666666666666666,\"#ed7953\"],[0.7777777777777778,\"#fb9f3a\"],[0.8888888888888888,\"#fdca26\"],[1.0,\"#f0f921\"]]},\"colorway\":[\"#636efa\",\"#EF553B\",\"#00cc96\",\"#ab63fa\",\"#FFA15A\",\"#19d3f3\",\"#FF6692\",\"#B6E880\",\"#FF97FF\",\"#FECB52\"],\"font\":{\"color\":\"#2a3f5f\"},\"geo\":{\"bgcolor\":\"white\",\"lakecolor\":\"white\",\"landcolor\":\"#E5ECF6\",\"showlakes\":true,\"showland\":true,\"subunitcolor\":\"white\"},\"hoverlabel\":{\"align\":\"left\"},\"hovermode\":\"closest\",\"mapbox\":{\"style\":\"light\"},\"paper_bgcolor\":\"white\",\"plot_bgcolor\":\"#E5ECF6\",\"polar\":{\"angularaxis\":{\"gridcolor\":\"white\",\"linecolor\":\"white\",\"ticks\":\"\"},\"bgcolor\":\"#E5ECF6\",\"radialaxis\":{\"gridcolor\":\"white\",\"linecolor\":\"white\",\"ticks\":\"\"}},\"scene\":{\"xaxis\":{\"backgroundcolor\":\"#E5ECF6\",\"gridcolor\":\"white\",\"gridwidth\":2,\"linecolor\":\"white\",\"showbackground\":true,\"ticks\":\"\",\"zerolinecolor\":\"white\"},\"yaxis\":{\"backgroundcolor\":\"#E5ECF6\",\"gridcolor\":\"white\",\"gridwidth\":2,\"linecolor\":\"white\",\"showbackground\":true,\"ticks\":\"\",\"zerolinecolor\":\"white\"},\"zaxis\":{\"backgroundcolor\":\"#E5ECF6\",\"gridcolor\":\"white\",\"gridwidth\":2,\"linecolor\":\"white\",\"showbackground\":true,\"ticks\":\"\",\"zerolinecolor\":\"white\"}},\"shapedefaults\":{\"line\":{\"color\":\"#2a3f5f\"}},\"ternary\":{\"aaxis\":{\"gridcolor\":\"white\",\"linecolor\":\"white\",\"ticks\":\"\"},\"baxis\":{\"gridcolor\":\"white\",\"linecolor\":\"white\",\"ticks\":\"\"},\"bgcolor\":\"#E5ECF6\",\"caxis\":{\"gridcolor\":\"white\",\"linecolor\":\"white\",\"ticks\":\"\"}},\"title\":{\"x\":0.05},\"xaxis\":{\"automargin\":true,\"gridcolor\":\"white\",\"linecolor\":\"white\",\"ticks\":\"\",\"title\":{\"standoff\":15},\"zerolinecolor\":\"white\",\"zerolinewidth\":2},\"yaxis\":{\"automargin\":true,\"gridcolor\":\"white\",\"linecolor\":\"white\",\"ticks\":\"\",\"title\":{\"standoff\":15},\"zerolinecolor\":\"white\",\"zerolinewidth\":2}}},\"title\":{\"font\":{\"color\":\"#4D5663\"}},\"xaxis\":{\"gridcolor\":\"#E1E5ED\",\"showgrid\":true,\"tickfont\":{\"color\":\"#4D5663\"},\"title\":{\"font\":{\"color\":\"#4D5663\"},\"text\":\"\"},\"zerolinecolor\":\"#E1E5ED\"},\"yaxis\":{\"gridcolor\":\"#E1E5ED\",\"showgrid\":true,\"tickfont\":{\"color\":\"#4D5663\"},\"title\":{\"font\":{\"color\":\"#4D5663\"},\"text\":\"\"},\"zerolinecolor\":\"#E1E5ED\"}},                        {\"showLink\": true, \"linkText\": \"Export to plot.ly\", \"plotlyServerURL\": \"https://plot.ly\", \"responsive\": true}                    ).then(function(){\n",
       "                            \n",
       "var gd = document.getElementById('72821fda-dd71-4da0-86dc-060b778d48d6');\n",
       "var x = new MutationObserver(function (mutations, observer) {{\n",
       "        var display = window.getComputedStyle(gd).display;\n",
       "        if (!display || display === 'none') {{\n",
       "            console.log([gd, 'removed!']);\n",
       "            Plotly.purge(gd);\n",
       "            observer.disconnect();\n",
       "        }}\n",
       "}});\n",
       "\n",
       "// Listen for the removal of the full notebook cells\n",
       "var notebookContainer = gd.closest('#notebook-container');\n",
       "if (notebookContainer) {{\n",
       "    x.observe(notebookContainer, {childList: true});\n",
       "}}\n",
       "\n",
       "// Listen for the clearing of the current output cell\n",
       "var outputEl = gd.closest('.output');\n",
       "if (outputEl) {{\n",
       "    x.observe(outputEl, {childList: true});\n",
       "}}\n",
       "\n",
       "                        })                };                });            </script>        </div>"
      ]
     },
     "metadata": {},
     "output_type": "display_data"
    }
   ],
   "source": [
    "ts_df.set_index(\"date\")[\"price_sqm\"].resample(\"M\").mean().iplot()"
   ]
  },
  {
   "cell_type": "code",
   "execution_count": 100,
   "metadata": {},
   "outputs": [],
   "source": [
    "ts_df = ts_df.sort_values(\"price_sqm\").query(\"price_sqm<=200\").reset_index(drop=True)"
   ]
  },
  {
   "cell_type": "code",
   "execution_count": 101,
   "metadata": {},
   "outputs": [
    {
     "data": {
      "application/vnd.plotly.v1+json": {
       "config": {
        "linkText": "Export to plot.ly",
        "plotlyServerURL": "https://plot.ly",
        "showLink": true
       },
       "data": [
        {
         "line": {
          "color": "rgba(255, 153, 51, 1.0)",
          "dash": "solid",
          "shape": "linear",
          "width": 1.3
         },
         "mode": "lines",
         "name": "price_sqm",
         "text": "",
         "type": "scatter",
         "x": [
          "2018-01-31",
          "2018-02-28",
          "2018-03-31",
          "2018-04-30",
          "2018-05-31",
          "2018-06-30",
          "2018-07-31",
          "2018-08-31",
          "2018-09-30",
          "2018-10-31",
          "2018-11-30",
          "2018-12-31",
          "2019-01-31",
          "2019-02-28",
          "2019-03-31",
          "2019-04-30",
          "2019-05-31",
          "2019-06-30",
          "2019-07-31",
          "2019-08-31",
          "2019-09-30",
          "2019-10-31",
          "2019-11-30",
          "2019-12-31",
          "2020-01-31",
          "2020-02-29",
          "2020-03-31",
          "2020-04-30",
          "2020-05-31",
          "2020-06-30",
          "2020-07-31",
          "2020-08-31",
          "2020-09-30",
          "2020-10-31",
          "2020-11-30",
          "2020-12-31",
          "2021-01-31",
          "2021-02-28",
          "2021-03-31",
          "2021-04-30",
          "2021-05-31",
          "2021-06-30",
          "2021-07-31",
          "2021-08-31",
          "2021-09-30",
          "2021-10-31",
          "2021-11-30",
          "2021-12-31"
         ],
         "y": [
          22.14155807365439,
          23.524323483670294,
          22.17384012539185,
          21.97222074468085,
          22.786625683060112,
          22.55775641025641,
          22.22171812080537,
          22.28956354300385,
          22.661583652618138,
          23.25474342928661,
          23.125476772616135,
          21.910055147058824,
          22.24041907514451,
          23.48688775510204,
          24.25916271721959,
          23.44123595505618,
          23.52587921847247,
          24.251836393989983,
          24.03603448275862,
          24.092120743034055,
          23.94095320623917,
          23.76296422487223,
          24.557884615384616,
          22.949710424710425,
          23.504769736842103,
          23.63535508637236,
          24.577716049382715,
          22.688333333333336,
          23.462574074074077,
          22.636011904761904,
          23.112753846153847,
          22.904525660964232,
          23.81687702265372,
          22.850066115702482,
          23.46555944055944,
          23.030094876660343,
          23.984796437659032,
          23.49939114391144,
          22.943457943925235,
          22.232059282371296,
          22.824787985865726,
          23.536241496598638,
          23.19033816425121,
          22.477305295950156,
          22.757374045801527,
          22.43044834307992,
          21.741703204047216,
          22.554265593561368
         ]
        }
       ],
       "layout": {
        "legend": {
         "bgcolor": "#F5F6F9",
         "font": {
          "color": "#4D5663"
         }
        },
        "paper_bgcolor": "#F5F6F9",
        "plot_bgcolor": "#F5F6F9",
        "template": {
         "data": {
          "bar": [
           {
            "error_x": {
             "color": "#2a3f5f"
            },
            "error_y": {
             "color": "#2a3f5f"
            },
            "marker": {
             "line": {
              "color": "#E5ECF6",
              "width": 0.5
             },
             "pattern": {
              "fillmode": "overlay",
              "size": 10,
              "solidity": 0.2
             }
            },
            "type": "bar"
           }
          ],
          "barpolar": [
           {
            "marker": {
             "line": {
              "color": "#E5ECF6",
              "width": 0.5
             },
             "pattern": {
              "fillmode": "overlay",
              "size": 10,
              "solidity": 0.2
             }
            },
            "type": "barpolar"
           }
          ],
          "carpet": [
           {
            "aaxis": {
             "endlinecolor": "#2a3f5f",
             "gridcolor": "white",
             "linecolor": "white",
             "minorgridcolor": "white",
             "startlinecolor": "#2a3f5f"
            },
            "baxis": {
             "endlinecolor": "#2a3f5f",
             "gridcolor": "white",
             "linecolor": "white",
             "minorgridcolor": "white",
             "startlinecolor": "#2a3f5f"
            },
            "type": "carpet"
           }
          ],
          "choropleth": [
           {
            "colorbar": {
             "outlinewidth": 0,
             "ticks": ""
            },
            "type": "choropleth"
           }
          ],
          "contour": [
           {
            "colorbar": {
             "outlinewidth": 0,
             "ticks": ""
            },
            "colorscale": [
             [
              0,
              "#0d0887"
             ],
             [
              0.1111111111111111,
              "#46039f"
             ],
             [
              0.2222222222222222,
              "#7201a8"
             ],
             [
              0.3333333333333333,
              "#9c179e"
             ],
             [
              0.4444444444444444,
              "#bd3786"
             ],
             [
              0.5555555555555556,
              "#d8576b"
             ],
             [
              0.6666666666666666,
              "#ed7953"
             ],
             [
              0.7777777777777778,
              "#fb9f3a"
             ],
             [
              0.8888888888888888,
              "#fdca26"
             ],
             [
              1,
              "#f0f921"
             ]
            ],
            "type": "contour"
           }
          ],
          "contourcarpet": [
           {
            "colorbar": {
             "outlinewidth": 0,
             "ticks": ""
            },
            "type": "contourcarpet"
           }
          ],
          "heatmap": [
           {
            "colorbar": {
             "outlinewidth": 0,
             "ticks": ""
            },
            "colorscale": [
             [
              0,
              "#0d0887"
             ],
             [
              0.1111111111111111,
              "#46039f"
             ],
             [
              0.2222222222222222,
              "#7201a8"
             ],
             [
              0.3333333333333333,
              "#9c179e"
             ],
             [
              0.4444444444444444,
              "#bd3786"
             ],
             [
              0.5555555555555556,
              "#d8576b"
             ],
             [
              0.6666666666666666,
              "#ed7953"
             ],
             [
              0.7777777777777778,
              "#fb9f3a"
             ],
             [
              0.8888888888888888,
              "#fdca26"
             ],
             [
              1,
              "#f0f921"
             ]
            ],
            "type": "heatmap"
           }
          ],
          "heatmapgl": [
           {
            "colorbar": {
             "outlinewidth": 0,
             "ticks": ""
            },
            "colorscale": [
             [
              0,
              "#0d0887"
             ],
             [
              0.1111111111111111,
              "#46039f"
             ],
             [
              0.2222222222222222,
              "#7201a8"
             ],
             [
              0.3333333333333333,
              "#9c179e"
             ],
             [
              0.4444444444444444,
              "#bd3786"
             ],
             [
              0.5555555555555556,
              "#d8576b"
             ],
             [
              0.6666666666666666,
              "#ed7953"
             ],
             [
              0.7777777777777778,
              "#fb9f3a"
             ],
             [
              0.8888888888888888,
              "#fdca26"
             ],
             [
              1,
              "#f0f921"
             ]
            ],
            "type": "heatmapgl"
           }
          ],
          "histogram": [
           {
            "marker": {
             "pattern": {
              "fillmode": "overlay",
              "size": 10,
              "solidity": 0.2
             }
            },
            "type": "histogram"
           }
          ],
          "histogram2d": [
           {
            "colorbar": {
             "outlinewidth": 0,
             "ticks": ""
            },
            "colorscale": [
             [
              0,
              "#0d0887"
             ],
             [
              0.1111111111111111,
              "#46039f"
             ],
             [
              0.2222222222222222,
              "#7201a8"
             ],
             [
              0.3333333333333333,
              "#9c179e"
             ],
             [
              0.4444444444444444,
              "#bd3786"
             ],
             [
              0.5555555555555556,
              "#d8576b"
             ],
             [
              0.6666666666666666,
              "#ed7953"
             ],
             [
              0.7777777777777778,
              "#fb9f3a"
             ],
             [
              0.8888888888888888,
              "#fdca26"
             ],
             [
              1,
              "#f0f921"
             ]
            ],
            "type": "histogram2d"
           }
          ],
          "histogram2dcontour": [
           {
            "colorbar": {
             "outlinewidth": 0,
             "ticks": ""
            },
            "colorscale": [
             [
              0,
              "#0d0887"
             ],
             [
              0.1111111111111111,
              "#46039f"
             ],
             [
              0.2222222222222222,
              "#7201a8"
             ],
             [
              0.3333333333333333,
              "#9c179e"
             ],
             [
              0.4444444444444444,
              "#bd3786"
             ],
             [
              0.5555555555555556,
              "#d8576b"
             ],
             [
              0.6666666666666666,
              "#ed7953"
             ],
             [
              0.7777777777777778,
              "#fb9f3a"
             ],
             [
              0.8888888888888888,
              "#fdca26"
             ],
             [
              1,
              "#f0f921"
             ]
            ],
            "type": "histogram2dcontour"
           }
          ],
          "mesh3d": [
           {
            "colorbar": {
             "outlinewidth": 0,
             "ticks": ""
            },
            "type": "mesh3d"
           }
          ],
          "parcoords": [
           {
            "line": {
             "colorbar": {
              "outlinewidth": 0,
              "ticks": ""
             }
            },
            "type": "parcoords"
           }
          ],
          "pie": [
           {
            "automargin": true,
            "type": "pie"
           }
          ],
          "scatter": [
           {
            "fillpattern": {
             "fillmode": "overlay",
             "size": 10,
             "solidity": 0.2
            },
            "type": "scatter"
           }
          ],
          "scatter3d": [
           {
            "line": {
             "colorbar": {
              "outlinewidth": 0,
              "ticks": ""
             }
            },
            "marker": {
             "colorbar": {
              "outlinewidth": 0,
              "ticks": ""
             }
            },
            "type": "scatter3d"
           }
          ],
          "scattercarpet": [
           {
            "marker": {
             "colorbar": {
              "outlinewidth": 0,
              "ticks": ""
             }
            },
            "type": "scattercarpet"
           }
          ],
          "scattergeo": [
           {
            "marker": {
             "colorbar": {
              "outlinewidth": 0,
              "ticks": ""
             }
            },
            "type": "scattergeo"
           }
          ],
          "scattergl": [
           {
            "marker": {
             "colorbar": {
              "outlinewidth": 0,
              "ticks": ""
             }
            },
            "type": "scattergl"
           }
          ],
          "scattermapbox": [
           {
            "marker": {
             "colorbar": {
              "outlinewidth": 0,
              "ticks": ""
             }
            },
            "type": "scattermapbox"
           }
          ],
          "scatterpolar": [
           {
            "marker": {
             "colorbar": {
              "outlinewidth": 0,
              "ticks": ""
             }
            },
            "type": "scatterpolar"
           }
          ],
          "scatterpolargl": [
           {
            "marker": {
             "colorbar": {
              "outlinewidth": 0,
              "ticks": ""
             }
            },
            "type": "scatterpolargl"
           }
          ],
          "scatterternary": [
           {
            "marker": {
             "colorbar": {
              "outlinewidth": 0,
              "ticks": ""
             }
            },
            "type": "scatterternary"
           }
          ],
          "surface": [
           {
            "colorbar": {
             "outlinewidth": 0,
             "ticks": ""
            },
            "colorscale": [
             [
              0,
              "#0d0887"
             ],
             [
              0.1111111111111111,
              "#46039f"
             ],
             [
              0.2222222222222222,
              "#7201a8"
             ],
             [
              0.3333333333333333,
              "#9c179e"
             ],
             [
              0.4444444444444444,
              "#bd3786"
             ],
             [
              0.5555555555555556,
              "#d8576b"
             ],
             [
              0.6666666666666666,
              "#ed7953"
             ],
             [
              0.7777777777777778,
              "#fb9f3a"
             ],
             [
              0.8888888888888888,
              "#fdca26"
             ],
             [
              1,
              "#f0f921"
             ]
            ],
            "type": "surface"
           }
          ],
          "table": [
           {
            "cells": {
             "fill": {
              "color": "#EBF0F8"
             },
             "line": {
              "color": "white"
             }
            },
            "header": {
             "fill": {
              "color": "#C8D4E3"
             },
             "line": {
              "color": "white"
             }
            },
            "type": "table"
           }
          ]
         },
         "layout": {
          "annotationdefaults": {
           "arrowcolor": "#2a3f5f",
           "arrowhead": 0,
           "arrowwidth": 1
          },
          "autotypenumbers": "strict",
          "coloraxis": {
           "colorbar": {
            "outlinewidth": 0,
            "ticks": ""
           }
          },
          "colorscale": {
           "diverging": [
            [
             0,
             "#8e0152"
            ],
            [
             0.1,
             "#c51b7d"
            ],
            [
             0.2,
             "#de77ae"
            ],
            [
             0.3,
             "#f1b6da"
            ],
            [
             0.4,
             "#fde0ef"
            ],
            [
             0.5,
             "#f7f7f7"
            ],
            [
             0.6,
             "#e6f5d0"
            ],
            [
             0.7,
             "#b8e186"
            ],
            [
             0.8,
             "#7fbc41"
            ],
            [
             0.9,
             "#4d9221"
            ],
            [
             1,
             "#276419"
            ]
           ],
           "sequential": [
            [
             0,
             "#0d0887"
            ],
            [
             0.1111111111111111,
             "#46039f"
            ],
            [
             0.2222222222222222,
             "#7201a8"
            ],
            [
             0.3333333333333333,
             "#9c179e"
            ],
            [
             0.4444444444444444,
             "#bd3786"
            ],
            [
             0.5555555555555556,
             "#d8576b"
            ],
            [
             0.6666666666666666,
             "#ed7953"
            ],
            [
             0.7777777777777778,
             "#fb9f3a"
            ],
            [
             0.8888888888888888,
             "#fdca26"
            ],
            [
             1,
             "#f0f921"
            ]
           ],
           "sequentialminus": [
            [
             0,
             "#0d0887"
            ],
            [
             0.1111111111111111,
             "#46039f"
            ],
            [
             0.2222222222222222,
             "#7201a8"
            ],
            [
             0.3333333333333333,
             "#9c179e"
            ],
            [
             0.4444444444444444,
             "#bd3786"
            ],
            [
             0.5555555555555556,
             "#d8576b"
            ],
            [
             0.6666666666666666,
             "#ed7953"
            ],
            [
             0.7777777777777778,
             "#fb9f3a"
            ],
            [
             0.8888888888888888,
             "#fdca26"
            ],
            [
             1,
             "#f0f921"
            ]
           ]
          },
          "colorway": [
           "#636efa",
           "#EF553B",
           "#00cc96",
           "#ab63fa",
           "#FFA15A",
           "#19d3f3",
           "#FF6692",
           "#B6E880",
           "#FF97FF",
           "#FECB52"
          ],
          "font": {
           "color": "#2a3f5f"
          },
          "geo": {
           "bgcolor": "white",
           "lakecolor": "white",
           "landcolor": "#E5ECF6",
           "showlakes": true,
           "showland": true,
           "subunitcolor": "white"
          },
          "hoverlabel": {
           "align": "left"
          },
          "hovermode": "closest",
          "mapbox": {
           "style": "light"
          },
          "paper_bgcolor": "white",
          "plot_bgcolor": "#E5ECF6",
          "polar": {
           "angularaxis": {
            "gridcolor": "white",
            "linecolor": "white",
            "ticks": ""
           },
           "bgcolor": "#E5ECF6",
           "radialaxis": {
            "gridcolor": "white",
            "linecolor": "white",
            "ticks": ""
           }
          },
          "scene": {
           "xaxis": {
            "backgroundcolor": "#E5ECF6",
            "gridcolor": "white",
            "gridwidth": 2,
            "linecolor": "white",
            "showbackground": true,
            "ticks": "",
            "zerolinecolor": "white"
           },
           "yaxis": {
            "backgroundcolor": "#E5ECF6",
            "gridcolor": "white",
            "gridwidth": 2,
            "linecolor": "white",
            "showbackground": true,
            "ticks": "",
            "zerolinecolor": "white"
           },
           "zaxis": {
            "backgroundcolor": "#E5ECF6",
            "gridcolor": "white",
            "gridwidth": 2,
            "linecolor": "white",
            "showbackground": true,
            "ticks": "",
            "zerolinecolor": "white"
           }
          },
          "shapedefaults": {
           "line": {
            "color": "#2a3f5f"
           }
          },
          "ternary": {
           "aaxis": {
            "gridcolor": "white",
            "linecolor": "white",
            "ticks": ""
           },
           "baxis": {
            "gridcolor": "white",
            "linecolor": "white",
            "ticks": ""
           },
           "bgcolor": "#E5ECF6",
           "caxis": {
            "gridcolor": "white",
            "linecolor": "white",
            "ticks": ""
           }
          },
          "title": {
           "x": 0.05
          },
          "xaxis": {
           "automargin": true,
           "gridcolor": "white",
           "linecolor": "white",
           "ticks": "",
           "title": {
            "standoff": 15
           },
           "zerolinecolor": "white",
           "zerolinewidth": 2
          },
          "yaxis": {
           "automargin": true,
           "gridcolor": "white",
           "linecolor": "white",
           "ticks": "",
           "title": {
            "standoff": 15
           },
           "zerolinecolor": "white",
           "zerolinewidth": 2
          }
         }
        },
        "title": {
         "font": {
          "color": "#4D5663"
         }
        },
        "xaxis": {
         "gridcolor": "#E1E5ED",
         "showgrid": true,
         "tickfont": {
          "color": "#4D5663"
         },
         "title": {
          "font": {
           "color": "#4D5663"
          },
          "text": ""
         },
         "zerolinecolor": "#E1E5ED"
        },
        "yaxis": {
         "gridcolor": "#E1E5ED",
         "showgrid": true,
         "tickfont": {
          "color": "#4D5663"
         },
         "title": {
          "font": {
           "color": "#4D5663"
          },
          "text": ""
         },
         "zerolinecolor": "#E1E5ED"
        }
       }
      },
      "text/html": [
       "<div>                            <div id=\"1777a4a1-efec-4e46-96b0-b14c049fbff5\" class=\"plotly-graph-div\" style=\"height:525px; width:100%;\"></div>            <script type=\"text/javascript\">                require([\"plotly\"], function(Plotly) {                    window.PLOTLYENV=window.PLOTLYENV || {};\n",
       "                    window.PLOTLYENV.BASE_URL='https://plot.ly';                                    if (document.getElementById(\"1777a4a1-efec-4e46-96b0-b14c049fbff5\")) {                    Plotly.newPlot(                        \"1777a4a1-efec-4e46-96b0-b14c049fbff5\",                        [{\"line\":{\"color\":\"rgba(255, 153, 51, 1.0)\",\"dash\":\"solid\",\"shape\":\"linear\",\"width\":1.3},\"mode\":\"lines\",\"name\":\"price_sqm\",\"text\":\"\",\"x\":[\"2018-01-31\",\"2018-02-28\",\"2018-03-31\",\"2018-04-30\",\"2018-05-31\",\"2018-06-30\",\"2018-07-31\",\"2018-08-31\",\"2018-09-30\",\"2018-10-31\",\"2018-11-30\",\"2018-12-31\",\"2019-01-31\",\"2019-02-28\",\"2019-03-31\",\"2019-04-30\",\"2019-05-31\",\"2019-06-30\",\"2019-07-31\",\"2019-08-31\",\"2019-09-30\",\"2019-10-31\",\"2019-11-30\",\"2019-12-31\",\"2020-01-31\",\"2020-02-29\",\"2020-03-31\",\"2020-04-30\",\"2020-05-31\",\"2020-06-30\",\"2020-07-31\",\"2020-08-31\",\"2020-09-30\",\"2020-10-31\",\"2020-11-30\",\"2020-12-31\",\"2021-01-31\",\"2021-02-28\",\"2021-03-31\",\"2021-04-30\",\"2021-05-31\",\"2021-06-30\",\"2021-07-31\",\"2021-08-31\",\"2021-09-30\",\"2021-10-31\",\"2021-11-30\",\"2021-12-31\"],\"y\":[22.14155807365439,23.524323483670294,22.17384012539185,21.97222074468085,22.786625683060112,22.55775641025641,22.22171812080537,22.28956354300385,22.661583652618138,23.25474342928661,23.125476772616135,21.910055147058824,22.24041907514451,23.48688775510204,24.25916271721959,23.44123595505618,23.52587921847247,24.251836393989983,24.03603448275862,24.092120743034055,23.94095320623917,23.76296422487223,24.557884615384616,22.949710424710425,23.504769736842103,23.63535508637236,24.577716049382715,22.688333333333336,23.462574074074077,22.636011904761904,23.112753846153847,22.904525660964232,23.81687702265372,22.850066115702482,23.46555944055944,23.030094876660343,23.984796437659032,23.49939114391144,22.943457943925235,22.232059282371296,22.824787985865726,23.536241496598638,23.19033816425121,22.477305295950156,22.757374045801527,22.43044834307992,21.741703204047216,22.554265593561368],\"type\":\"scatter\"}],                        {\"legend\":{\"bgcolor\":\"#F5F6F9\",\"font\":{\"color\":\"#4D5663\"}},\"paper_bgcolor\":\"#F5F6F9\",\"plot_bgcolor\":\"#F5F6F9\",\"template\":{\"data\":{\"barpolar\":[{\"marker\":{\"line\":{\"color\":\"#E5ECF6\",\"width\":0.5},\"pattern\":{\"fillmode\":\"overlay\",\"size\":10,\"solidity\":0.2}},\"type\":\"barpolar\"}],\"bar\":[{\"error_x\":{\"color\":\"#2a3f5f\"},\"error_y\":{\"color\":\"#2a3f5f\"},\"marker\":{\"line\":{\"color\":\"#E5ECF6\",\"width\":0.5},\"pattern\":{\"fillmode\":\"overlay\",\"size\":10,\"solidity\":0.2}},\"type\":\"bar\"}],\"carpet\":[{\"aaxis\":{\"endlinecolor\":\"#2a3f5f\",\"gridcolor\":\"white\",\"linecolor\":\"white\",\"minorgridcolor\":\"white\",\"startlinecolor\":\"#2a3f5f\"},\"baxis\":{\"endlinecolor\":\"#2a3f5f\",\"gridcolor\":\"white\",\"linecolor\":\"white\",\"minorgridcolor\":\"white\",\"startlinecolor\":\"#2a3f5f\"},\"type\":\"carpet\"}],\"choropleth\":[{\"colorbar\":{\"outlinewidth\":0,\"ticks\":\"\"},\"type\":\"choropleth\"}],\"contourcarpet\":[{\"colorbar\":{\"outlinewidth\":0,\"ticks\":\"\"},\"type\":\"contourcarpet\"}],\"contour\":[{\"colorbar\":{\"outlinewidth\":0,\"ticks\":\"\"},\"colorscale\":[[0.0,\"#0d0887\"],[0.1111111111111111,\"#46039f\"],[0.2222222222222222,\"#7201a8\"],[0.3333333333333333,\"#9c179e\"],[0.4444444444444444,\"#bd3786\"],[0.5555555555555556,\"#d8576b\"],[0.6666666666666666,\"#ed7953\"],[0.7777777777777778,\"#fb9f3a\"],[0.8888888888888888,\"#fdca26\"],[1.0,\"#f0f921\"]],\"type\":\"contour\"}],\"heatmapgl\":[{\"colorbar\":{\"outlinewidth\":0,\"ticks\":\"\"},\"colorscale\":[[0.0,\"#0d0887\"],[0.1111111111111111,\"#46039f\"],[0.2222222222222222,\"#7201a8\"],[0.3333333333333333,\"#9c179e\"],[0.4444444444444444,\"#bd3786\"],[0.5555555555555556,\"#d8576b\"],[0.6666666666666666,\"#ed7953\"],[0.7777777777777778,\"#fb9f3a\"],[0.8888888888888888,\"#fdca26\"],[1.0,\"#f0f921\"]],\"type\":\"heatmapgl\"}],\"heatmap\":[{\"colorbar\":{\"outlinewidth\":0,\"ticks\":\"\"},\"colorscale\":[[0.0,\"#0d0887\"],[0.1111111111111111,\"#46039f\"],[0.2222222222222222,\"#7201a8\"],[0.3333333333333333,\"#9c179e\"],[0.4444444444444444,\"#bd3786\"],[0.5555555555555556,\"#d8576b\"],[0.6666666666666666,\"#ed7953\"],[0.7777777777777778,\"#fb9f3a\"],[0.8888888888888888,\"#fdca26\"],[1.0,\"#f0f921\"]],\"type\":\"heatmap\"}],\"histogram2dcontour\":[{\"colorbar\":{\"outlinewidth\":0,\"ticks\":\"\"},\"colorscale\":[[0.0,\"#0d0887\"],[0.1111111111111111,\"#46039f\"],[0.2222222222222222,\"#7201a8\"],[0.3333333333333333,\"#9c179e\"],[0.4444444444444444,\"#bd3786\"],[0.5555555555555556,\"#d8576b\"],[0.6666666666666666,\"#ed7953\"],[0.7777777777777778,\"#fb9f3a\"],[0.8888888888888888,\"#fdca26\"],[1.0,\"#f0f921\"]],\"type\":\"histogram2dcontour\"}],\"histogram2d\":[{\"colorbar\":{\"outlinewidth\":0,\"ticks\":\"\"},\"colorscale\":[[0.0,\"#0d0887\"],[0.1111111111111111,\"#46039f\"],[0.2222222222222222,\"#7201a8\"],[0.3333333333333333,\"#9c179e\"],[0.4444444444444444,\"#bd3786\"],[0.5555555555555556,\"#d8576b\"],[0.6666666666666666,\"#ed7953\"],[0.7777777777777778,\"#fb9f3a\"],[0.8888888888888888,\"#fdca26\"],[1.0,\"#f0f921\"]],\"type\":\"histogram2d\"}],\"histogram\":[{\"marker\":{\"pattern\":{\"fillmode\":\"overlay\",\"size\":10,\"solidity\":0.2}},\"type\":\"histogram\"}],\"mesh3d\":[{\"colorbar\":{\"outlinewidth\":0,\"ticks\":\"\"},\"type\":\"mesh3d\"}],\"parcoords\":[{\"line\":{\"colorbar\":{\"outlinewidth\":0,\"ticks\":\"\"}},\"type\":\"parcoords\"}],\"pie\":[{\"automargin\":true,\"type\":\"pie\"}],\"scatter3d\":[{\"line\":{\"colorbar\":{\"outlinewidth\":0,\"ticks\":\"\"}},\"marker\":{\"colorbar\":{\"outlinewidth\":0,\"ticks\":\"\"}},\"type\":\"scatter3d\"}],\"scattercarpet\":[{\"marker\":{\"colorbar\":{\"outlinewidth\":0,\"ticks\":\"\"}},\"type\":\"scattercarpet\"}],\"scattergeo\":[{\"marker\":{\"colorbar\":{\"outlinewidth\":0,\"ticks\":\"\"}},\"type\":\"scattergeo\"}],\"scattergl\":[{\"marker\":{\"colorbar\":{\"outlinewidth\":0,\"ticks\":\"\"}},\"type\":\"scattergl\"}],\"scattermapbox\":[{\"marker\":{\"colorbar\":{\"outlinewidth\":0,\"ticks\":\"\"}},\"type\":\"scattermapbox\"}],\"scatterpolargl\":[{\"marker\":{\"colorbar\":{\"outlinewidth\":0,\"ticks\":\"\"}},\"type\":\"scatterpolargl\"}],\"scatterpolar\":[{\"marker\":{\"colorbar\":{\"outlinewidth\":0,\"ticks\":\"\"}},\"type\":\"scatterpolar\"}],\"scatter\":[{\"fillpattern\":{\"fillmode\":\"overlay\",\"size\":10,\"solidity\":0.2},\"type\":\"scatter\"}],\"scatterternary\":[{\"marker\":{\"colorbar\":{\"outlinewidth\":0,\"ticks\":\"\"}},\"type\":\"scatterternary\"}],\"surface\":[{\"colorbar\":{\"outlinewidth\":0,\"ticks\":\"\"},\"colorscale\":[[0.0,\"#0d0887\"],[0.1111111111111111,\"#46039f\"],[0.2222222222222222,\"#7201a8\"],[0.3333333333333333,\"#9c179e\"],[0.4444444444444444,\"#bd3786\"],[0.5555555555555556,\"#d8576b\"],[0.6666666666666666,\"#ed7953\"],[0.7777777777777778,\"#fb9f3a\"],[0.8888888888888888,\"#fdca26\"],[1.0,\"#f0f921\"]],\"type\":\"surface\"}],\"table\":[{\"cells\":{\"fill\":{\"color\":\"#EBF0F8\"},\"line\":{\"color\":\"white\"}},\"header\":{\"fill\":{\"color\":\"#C8D4E3\"},\"line\":{\"color\":\"white\"}},\"type\":\"table\"}]},\"layout\":{\"annotationdefaults\":{\"arrowcolor\":\"#2a3f5f\",\"arrowhead\":0,\"arrowwidth\":1},\"autotypenumbers\":\"strict\",\"coloraxis\":{\"colorbar\":{\"outlinewidth\":0,\"ticks\":\"\"}},\"colorscale\":{\"diverging\":[[0,\"#8e0152\"],[0.1,\"#c51b7d\"],[0.2,\"#de77ae\"],[0.3,\"#f1b6da\"],[0.4,\"#fde0ef\"],[0.5,\"#f7f7f7\"],[0.6,\"#e6f5d0\"],[0.7,\"#b8e186\"],[0.8,\"#7fbc41\"],[0.9,\"#4d9221\"],[1,\"#276419\"]],\"sequential\":[[0.0,\"#0d0887\"],[0.1111111111111111,\"#46039f\"],[0.2222222222222222,\"#7201a8\"],[0.3333333333333333,\"#9c179e\"],[0.4444444444444444,\"#bd3786\"],[0.5555555555555556,\"#d8576b\"],[0.6666666666666666,\"#ed7953\"],[0.7777777777777778,\"#fb9f3a\"],[0.8888888888888888,\"#fdca26\"],[1.0,\"#f0f921\"]],\"sequentialminus\":[[0.0,\"#0d0887\"],[0.1111111111111111,\"#46039f\"],[0.2222222222222222,\"#7201a8\"],[0.3333333333333333,\"#9c179e\"],[0.4444444444444444,\"#bd3786\"],[0.5555555555555556,\"#d8576b\"],[0.6666666666666666,\"#ed7953\"],[0.7777777777777778,\"#fb9f3a\"],[0.8888888888888888,\"#fdca26\"],[1.0,\"#f0f921\"]]},\"colorway\":[\"#636efa\",\"#EF553B\",\"#00cc96\",\"#ab63fa\",\"#FFA15A\",\"#19d3f3\",\"#FF6692\",\"#B6E880\",\"#FF97FF\",\"#FECB52\"],\"font\":{\"color\":\"#2a3f5f\"},\"geo\":{\"bgcolor\":\"white\",\"lakecolor\":\"white\",\"landcolor\":\"#E5ECF6\",\"showlakes\":true,\"showland\":true,\"subunitcolor\":\"white\"},\"hoverlabel\":{\"align\":\"left\"},\"hovermode\":\"closest\",\"mapbox\":{\"style\":\"light\"},\"paper_bgcolor\":\"white\",\"plot_bgcolor\":\"#E5ECF6\",\"polar\":{\"angularaxis\":{\"gridcolor\":\"white\",\"linecolor\":\"white\",\"ticks\":\"\"},\"bgcolor\":\"#E5ECF6\",\"radialaxis\":{\"gridcolor\":\"white\",\"linecolor\":\"white\",\"ticks\":\"\"}},\"scene\":{\"xaxis\":{\"backgroundcolor\":\"#E5ECF6\",\"gridcolor\":\"white\",\"gridwidth\":2,\"linecolor\":\"white\",\"showbackground\":true,\"ticks\":\"\",\"zerolinecolor\":\"white\"},\"yaxis\":{\"backgroundcolor\":\"#E5ECF6\",\"gridcolor\":\"white\",\"gridwidth\":2,\"linecolor\":\"white\",\"showbackground\":true,\"ticks\":\"\",\"zerolinecolor\":\"white\"},\"zaxis\":{\"backgroundcolor\":\"#E5ECF6\",\"gridcolor\":\"white\",\"gridwidth\":2,\"linecolor\":\"white\",\"showbackground\":true,\"ticks\":\"\",\"zerolinecolor\":\"white\"}},\"shapedefaults\":{\"line\":{\"color\":\"#2a3f5f\"}},\"ternary\":{\"aaxis\":{\"gridcolor\":\"white\",\"linecolor\":\"white\",\"ticks\":\"\"},\"baxis\":{\"gridcolor\":\"white\",\"linecolor\":\"white\",\"ticks\":\"\"},\"bgcolor\":\"#E5ECF6\",\"caxis\":{\"gridcolor\":\"white\",\"linecolor\":\"white\",\"ticks\":\"\"}},\"title\":{\"x\":0.05},\"xaxis\":{\"automargin\":true,\"gridcolor\":\"white\",\"linecolor\":\"white\",\"ticks\":\"\",\"title\":{\"standoff\":15},\"zerolinecolor\":\"white\",\"zerolinewidth\":2},\"yaxis\":{\"automargin\":true,\"gridcolor\":\"white\",\"linecolor\":\"white\",\"ticks\":\"\",\"title\":{\"standoff\":15},\"zerolinecolor\":\"white\",\"zerolinewidth\":2}}},\"title\":{\"font\":{\"color\":\"#4D5663\"}},\"xaxis\":{\"gridcolor\":\"#E1E5ED\",\"showgrid\":true,\"tickfont\":{\"color\":\"#4D5663\"},\"title\":{\"font\":{\"color\":\"#4D5663\"},\"text\":\"\"},\"zerolinecolor\":\"#E1E5ED\"},\"yaxis\":{\"gridcolor\":\"#E1E5ED\",\"showgrid\":true,\"tickfont\":{\"color\":\"#4D5663\"},\"title\":{\"font\":{\"color\":\"#4D5663\"},\"text\":\"\"},\"zerolinecolor\":\"#E1E5ED\"}},                        {\"showLink\": true, \"linkText\": \"Export to plot.ly\", \"plotlyServerURL\": \"https://plot.ly\", \"responsive\": true}                    ).then(function(){\n",
       "                            \n",
       "var gd = document.getElementById('1777a4a1-efec-4e46-96b0-b14c049fbff5');\n",
       "var x = new MutationObserver(function (mutations, observer) {{\n",
       "        var display = window.getComputedStyle(gd).display;\n",
       "        if (!display || display === 'none') {{\n",
       "            console.log([gd, 'removed!']);\n",
       "            Plotly.purge(gd);\n",
       "            observer.disconnect();\n",
       "        }}\n",
       "}});\n",
       "\n",
       "// Listen for the removal of the full notebook cells\n",
       "var notebookContainer = gd.closest('#notebook-container');\n",
       "if (notebookContainer) {{\n",
       "    x.observe(notebookContainer, {childList: true});\n",
       "}}\n",
       "\n",
       "// Listen for the clearing of the current output cell\n",
       "var outputEl = gd.closest('.output');\n",
       "if (outputEl) {{\n",
       "    x.observe(outputEl, {childList: true});\n",
       "}}\n",
       "\n",
       "                        })                };                });            </script>        </div>"
      ]
     },
     "metadata": {},
     "output_type": "display_data"
    }
   ],
   "source": [
    "ts_df.set_index(\"date\")[\"price_sqm\"].resample(\"M\").mean().iplot()"
   ]
  },
  {
   "cell_type": "code",
   "execution_count": 93,
   "metadata": {},
   "outputs": [
    {
     "data": {
      "application/vnd.plotly.v1+json": {
       "config": {
        "linkText": "Export to plot.ly",
        "plotlyServerURL": "https://plot.ly",
        "showLink": true
       },
       "data": [
        {
         "line": {
          "color": "rgba(255, 153, 51, 1.0)",
          "dash": "solid",
          "shape": "linear",
          "width": 1.3
         },
         "mode": "lines",
         "name": "price_sqm",
         "text": "",
         "type": "scatter",
         "x": [
          "2018-01-01",
          "2018-02-01",
          "2018-03-01",
          "2018-04-01",
          "2018-05-01",
          "2018-06-01",
          "2018-07-01",
          "2018-08-01",
          "2018-09-01",
          "2018-10-01",
          "2018-11-01",
          "2018-12-01",
          "2019-01-01",
          "2019-02-01",
          "2019-03-01",
          "2019-04-01",
          "2019-05-01",
          "2019-06-01",
          "2019-07-01",
          "2019-08-01",
          "2019-09-01",
          "2019-10-01",
          "2019-11-01",
          "2019-12-01",
          "2020-01-01",
          "2020-02-01",
          "2020-03-01",
          "2020-04-01",
          "2020-05-01",
          "2020-06-01",
          "2020-07-01",
          "2020-08-01",
          "2020-09-01",
          "2020-10-01",
          "2020-11-01",
          "2020-12-01",
          "2021-01-01",
          "2021-02-01",
          "2021-03-01",
          "2021-04-01",
          "2021-05-01",
          "2021-06-01",
          "2021-07-01",
          "2021-08-01",
          "2021-09-01",
          "2021-10-01",
          "2021-11-01",
          "2021-12-01"
         ],
         "y": [
          19.013513513513512,
          18.367272727272727,
          18.458636363636362,
          19.0559375,
          20.044848484848487,
          20.90714285714286,
          23.36709677419355,
          21.15913043478261,
          21.501199999999997,
          19.77138888888889,
          21.4028125,
          20.16027777777778,
          21.33815789473684,
          21.425185185185185,
          19.99785714285714,
          20.579285714285714,
          20.353125,
          19.928709677419352,
          19.358260869565218,
          21.1865625,
          20.904,
          21.171304347826087,
          19.976976744186047,
          19.453333333333333,
          19.1684,
          18.474375000000002,
          17.124000000000002,
          19.00166666666667,
          18.858,
          20.023529411764706,
          19.28,
          19.971739130434784,
          19.566875,
          20.475,
          20.678461538461537,
          21.816666666666666,
          19.931818181818183,
          22.747777777777777,
          19.102666666666668,
          20.446,
          21.016666666666666,
          22.572820512820513,
          19.616666666666667,
          21.987272727272728,
          20.3325,
          19.485,
          21.563846153846153,
          20.69
         ]
        }
       ],
       "layout": {
        "legend": {
         "bgcolor": "#F5F6F9",
         "font": {
          "color": "#4D5663"
         }
        },
        "paper_bgcolor": "#F5F6F9",
        "plot_bgcolor": "#F5F6F9",
        "template": {
         "data": {
          "bar": [
           {
            "error_x": {
             "color": "#2a3f5f"
            },
            "error_y": {
             "color": "#2a3f5f"
            },
            "marker": {
             "line": {
              "color": "#E5ECF6",
              "width": 0.5
             },
             "pattern": {
              "fillmode": "overlay",
              "size": 10,
              "solidity": 0.2
             }
            },
            "type": "bar"
           }
          ],
          "barpolar": [
           {
            "marker": {
             "line": {
              "color": "#E5ECF6",
              "width": 0.5
             },
             "pattern": {
              "fillmode": "overlay",
              "size": 10,
              "solidity": 0.2
             }
            },
            "type": "barpolar"
           }
          ],
          "carpet": [
           {
            "aaxis": {
             "endlinecolor": "#2a3f5f",
             "gridcolor": "white",
             "linecolor": "white",
             "minorgridcolor": "white",
             "startlinecolor": "#2a3f5f"
            },
            "baxis": {
             "endlinecolor": "#2a3f5f",
             "gridcolor": "white",
             "linecolor": "white",
             "minorgridcolor": "white",
             "startlinecolor": "#2a3f5f"
            },
            "type": "carpet"
           }
          ],
          "choropleth": [
           {
            "colorbar": {
             "outlinewidth": 0,
             "ticks": ""
            },
            "type": "choropleth"
           }
          ],
          "contour": [
           {
            "colorbar": {
             "outlinewidth": 0,
             "ticks": ""
            },
            "colorscale": [
             [
              0,
              "#0d0887"
             ],
             [
              0.1111111111111111,
              "#46039f"
             ],
             [
              0.2222222222222222,
              "#7201a8"
             ],
             [
              0.3333333333333333,
              "#9c179e"
             ],
             [
              0.4444444444444444,
              "#bd3786"
             ],
             [
              0.5555555555555556,
              "#d8576b"
             ],
             [
              0.6666666666666666,
              "#ed7953"
             ],
             [
              0.7777777777777778,
              "#fb9f3a"
             ],
             [
              0.8888888888888888,
              "#fdca26"
             ],
             [
              1,
              "#f0f921"
             ]
            ],
            "type": "contour"
           }
          ],
          "contourcarpet": [
           {
            "colorbar": {
             "outlinewidth": 0,
             "ticks": ""
            },
            "type": "contourcarpet"
           }
          ],
          "heatmap": [
           {
            "colorbar": {
             "outlinewidth": 0,
             "ticks": ""
            },
            "colorscale": [
             [
              0,
              "#0d0887"
             ],
             [
              0.1111111111111111,
              "#46039f"
             ],
             [
              0.2222222222222222,
              "#7201a8"
             ],
             [
              0.3333333333333333,
              "#9c179e"
             ],
             [
              0.4444444444444444,
              "#bd3786"
             ],
             [
              0.5555555555555556,
              "#d8576b"
             ],
             [
              0.6666666666666666,
              "#ed7953"
             ],
             [
              0.7777777777777778,
              "#fb9f3a"
             ],
             [
              0.8888888888888888,
              "#fdca26"
             ],
             [
              1,
              "#f0f921"
             ]
            ],
            "type": "heatmap"
           }
          ],
          "heatmapgl": [
           {
            "colorbar": {
             "outlinewidth": 0,
             "ticks": ""
            },
            "colorscale": [
             [
              0,
              "#0d0887"
             ],
             [
              0.1111111111111111,
              "#46039f"
             ],
             [
              0.2222222222222222,
              "#7201a8"
             ],
             [
              0.3333333333333333,
              "#9c179e"
             ],
             [
              0.4444444444444444,
              "#bd3786"
             ],
             [
              0.5555555555555556,
              "#d8576b"
             ],
             [
              0.6666666666666666,
              "#ed7953"
             ],
             [
              0.7777777777777778,
              "#fb9f3a"
             ],
             [
              0.8888888888888888,
              "#fdca26"
             ],
             [
              1,
              "#f0f921"
             ]
            ],
            "type": "heatmapgl"
           }
          ],
          "histogram": [
           {
            "marker": {
             "pattern": {
              "fillmode": "overlay",
              "size": 10,
              "solidity": 0.2
             }
            },
            "type": "histogram"
           }
          ],
          "histogram2d": [
           {
            "colorbar": {
             "outlinewidth": 0,
             "ticks": ""
            },
            "colorscale": [
             [
              0,
              "#0d0887"
             ],
             [
              0.1111111111111111,
              "#46039f"
             ],
             [
              0.2222222222222222,
              "#7201a8"
             ],
             [
              0.3333333333333333,
              "#9c179e"
             ],
             [
              0.4444444444444444,
              "#bd3786"
             ],
             [
              0.5555555555555556,
              "#d8576b"
             ],
             [
              0.6666666666666666,
              "#ed7953"
             ],
             [
              0.7777777777777778,
              "#fb9f3a"
             ],
             [
              0.8888888888888888,
              "#fdca26"
             ],
             [
              1,
              "#f0f921"
             ]
            ],
            "type": "histogram2d"
           }
          ],
          "histogram2dcontour": [
           {
            "colorbar": {
             "outlinewidth": 0,
             "ticks": ""
            },
            "colorscale": [
             [
              0,
              "#0d0887"
             ],
             [
              0.1111111111111111,
              "#46039f"
             ],
             [
              0.2222222222222222,
              "#7201a8"
             ],
             [
              0.3333333333333333,
              "#9c179e"
             ],
             [
              0.4444444444444444,
              "#bd3786"
             ],
             [
              0.5555555555555556,
              "#d8576b"
             ],
             [
              0.6666666666666666,
              "#ed7953"
             ],
             [
              0.7777777777777778,
              "#fb9f3a"
             ],
             [
              0.8888888888888888,
              "#fdca26"
             ],
             [
              1,
              "#f0f921"
             ]
            ],
            "type": "histogram2dcontour"
           }
          ],
          "mesh3d": [
           {
            "colorbar": {
             "outlinewidth": 0,
             "ticks": ""
            },
            "type": "mesh3d"
           }
          ],
          "parcoords": [
           {
            "line": {
             "colorbar": {
              "outlinewidth": 0,
              "ticks": ""
             }
            },
            "type": "parcoords"
           }
          ],
          "pie": [
           {
            "automargin": true,
            "type": "pie"
           }
          ],
          "scatter": [
           {
            "fillpattern": {
             "fillmode": "overlay",
             "size": 10,
             "solidity": 0.2
            },
            "type": "scatter"
           }
          ],
          "scatter3d": [
           {
            "line": {
             "colorbar": {
              "outlinewidth": 0,
              "ticks": ""
             }
            },
            "marker": {
             "colorbar": {
              "outlinewidth": 0,
              "ticks": ""
             }
            },
            "type": "scatter3d"
           }
          ],
          "scattercarpet": [
           {
            "marker": {
             "colorbar": {
              "outlinewidth": 0,
              "ticks": ""
             }
            },
            "type": "scattercarpet"
           }
          ],
          "scattergeo": [
           {
            "marker": {
             "colorbar": {
              "outlinewidth": 0,
              "ticks": ""
             }
            },
            "type": "scattergeo"
           }
          ],
          "scattergl": [
           {
            "marker": {
             "colorbar": {
              "outlinewidth": 0,
              "ticks": ""
             }
            },
            "type": "scattergl"
           }
          ],
          "scattermapbox": [
           {
            "marker": {
             "colorbar": {
              "outlinewidth": 0,
              "ticks": ""
             }
            },
            "type": "scattermapbox"
           }
          ],
          "scatterpolar": [
           {
            "marker": {
             "colorbar": {
              "outlinewidth": 0,
              "ticks": ""
             }
            },
            "type": "scatterpolar"
           }
          ],
          "scatterpolargl": [
           {
            "marker": {
             "colorbar": {
              "outlinewidth": 0,
              "ticks": ""
             }
            },
            "type": "scatterpolargl"
           }
          ],
          "scatterternary": [
           {
            "marker": {
             "colorbar": {
              "outlinewidth": 0,
              "ticks": ""
             }
            },
            "type": "scatterternary"
           }
          ],
          "surface": [
           {
            "colorbar": {
             "outlinewidth": 0,
             "ticks": ""
            },
            "colorscale": [
             [
              0,
              "#0d0887"
             ],
             [
              0.1111111111111111,
              "#46039f"
             ],
             [
              0.2222222222222222,
              "#7201a8"
             ],
             [
              0.3333333333333333,
              "#9c179e"
             ],
             [
              0.4444444444444444,
              "#bd3786"
             ],
             [
              0.5555555555555556,
              "#d8576b"
             ],
             [
              0.6666666666666666,
              "#ed7953"
             ],
             [
              0.7777777777777778,
              "#fb9f3a"
             ],
             [
              0.8888888888888888,
              "#fdca26"
             ],
             [
              1,
              "#f0f921"
             ]
            ],
            "type": "surface"
           }
          ],
          "table": [
           {
            "cells": {
             "fill": {
              "color": "#EBF0F8"
             },
             "line": {
              "color": "white"
             }
            },
            "header": {
             "fill": {
              "color": "#C8D4E3"
             },
             "line": {
              "color": "white"
             }
            },
            "type": "table"
           }
          ]
         },
         "layout": {
          "annotationdefaults": {
           "arrowcolor": "#2a3f5f",
           "arrowhead": 0,
           "arrowwidth": 1
          },
          "autotypenumbers": "strict",
          "coloraxis": {
           "colorbar": {
            "outlinewidth": 0,
            "ticks": ""
           }
          },
          "colorscale": {
           "diverging": [
            [
             0,
             "#8e0152"
            ],
            [
             0.1,
             "#c51b7d"
            ],
            [
             0.2,
             "#de77ae"
            ],
            [
             0.3,
             "#f1b6da"
            ],
            [
             0.4,
             "#fde0ef"
            ],
            [
             0.5,
             "#f7f7f7"
            ],
            [
             0.6,
             "#e6f5d0"
            ],
            [
             0.7,
             "#b8e186"
            ],
            [
             0.8,
             "#7fbc41"
            ],
            [
             0.9,
             "#4d9221"
            ],
            [
             1,
             "#276419"
            ]
           ],
           "sequential": [
            [
             0,
             "#0d0887"
            ],
            [
             0.1111111111111111,
             "#46039f"
            ],
            [
             0.2222222222222222,
             "#7201a8"
            ],
            [
             0.3333333333333333,
             "#9c179e"
            ],
            [
             0.4444444444444444,
             "#bd3786"
            ],
            [
             0.5555555555555556,
             "#d8576b"
            ],
            [
             0.6666666666666666,
             "#ed7953"
            ],
            [
             0.7777777777777778,
             "#fb9f3a"
            ],
            [
             0.8888888888888888,
             "#fdca26"
            ],
            [
             1,
             "#f0f921"
            ]
           ],
           "sequentialminus": [
            [
             0,
             "#0d0887"
            ],
            [
             0.1111111111111111,
             "#46039f"
            ],
            [
             0.2222222222222222,
             "#7201a8"
            ],
            [
             0.3333333333333333,
             "#9c179e"
            ],
            [
             0.4444444444444444,
             "#bd3786"
            ],
            [
             0.5555555555555556,
             "#d8576b"
            ],
            [
             0.6666666666666666,
             "#ed7953"
            ],
            [
             0.7777777777777778,
             "#fb9f3a"
            ],
            [
             0.8888888888888888,
             "#fdca26"
            ],
            [
             1,
             "#f0f921"
            ]
           ]
          },
          "colorway": [
           "#636efa",
           "#EF553B",
           "#00cc96",
           "#ab63fa",
           "#FFA15A",
           "#19d3f3",
           "#FF6692",
           "#B6E880",
           "#FF97FF",
           "#FECB52"
          ],
          "font": {
           "color": "#2a3f5f"
          },
          "geo": {
           "bgcolor": "white",
           "lakecolor": "white",
           "landcolor": "#E5ECF6",
           "showlakes": true,
           "showland": true,
           "subunitcolor": "white"
          },
          "hoverlabel": {
           "align": "left"
          },
          "hovermode": "closest",
          "mapbox": {
           "style": "light"
          },
          "paper_bgcolor": "white",
          "plot_bgcolor": "#E5ECF6",
          "polar": {
           "angularaxis": {
            "gridcolor": "white",
            "linecolor": "white",
            "ticks": ""
           },
           "bgcolor": "#E5ECF6",
           "radialaxis": {
            "gridcolor": "white",
            "linecolor": "white",
            "ticks": ""
           }
          },
          "scene": {
           "xaxis": {
            "backgroundcolor": "#E5ECF6",
            "gridcolor": "white",
            "gridwidth": 2,
            "linecolor": "white",
            "showbackground": true,
            "ticks": "",
            "zerolinecolor": "white"
           },
           "yaxis": {
            "backgroundcolor": "#E5ECF6",
            "gridcolor": "white",
            "gridwidth": 2,
            "linecolor": "white",
            "showbackground": true,
            "ticks": "",
            "zerolinecolor": "white"
           },
           "zaxis": {
            "backgroundcolor": "#E5ECF6",
            "gridcolor": "white",
            "gridwidth": 2,
            "linecolor": "white",
            "showbackground": true,
            "ticks": "",
            "zerolinecolor": "white"
           }
          },
          "shapedefaults": {
           "line": {
            "color": "#2a3f5f"
           }
          },
          "ternary": {
           "aaxis": {
            "gridcolor": "white",
            "linecolor": "white",
            "ticks": ""
           },
           "baxis": {
            "gridcolor": "white",
            "linecolor": "white",
            "ticks": ""
           },
           "bgcolor": "#E5ECF6",
           "caxis": {
            "gridcolor": "white",
            "linecolor": "white",
            "ticks": ""
           }
          },
          "title": {
           "x": 0.05
          },
          "xaxis": {
           "automargin": true,
           "gridcolor": "white",
           "linecolor": "white",
           "ticks": "",
           "title": {
            "standoff": 15
           },
           "zerolinecolor": "white",
           "zerolinewidth": 2
          },
          "yaxis": {
           "automargin": true,
           "gridcolor": "white",
           "linecolor": "white",
           "ticks": "",
           "title": {
            "standoff": 15
           },
           "zerolinecolor": "white",
           "zerolinewidth": 2
          }
         }
        },
        "title": {
         "font": {
          "color": "#4D5663"
         }
        },
        "xaxis": {
         "gridcolor": "#E1E5ED",
         "showgrid": true,
         "tickfont": {
          "color": "#4D5663"
         },
         "title": {
          "font": {
           "color": "#4D5663"
          },
          "text": ""
         },
         "zerolinecolor": "#E1E5ED"
        },
        "yaxis": {
         "gridcolor": "#E1E5ED",
         "showgrid": true,
         "tickfont": {
          "color": "#4D5663"
         },
         "title": {
          "font": {
           "color": "#4D5663"
          },
          "text": ""
         },
         "zerolinecolor": "#E1E5ED"
        }
       }
      },
      "text/html": [
       "<div>                            <div id=\"3a452115-bb4b-4146-afb8-6d1c56c7cd65\" class=\"plotly-graph-div\" style=\"height:525px; width:100%;\"></div>            <script type=\"text/javascript\">                require([\"plotly\"], function(Plotly) {                    window.PLOTLYENV=window.PLOTLYENV || {};\n",
       "                    window.PLOTLYENV.BASE_URL='https://plot.ly';                                    if (document.getElementById(\"3a452115-bb4b-4146-afb8-6d1c56c7cd65\")) {                    Plotly.newPlot(                        \"3a452115-bb4b-4146-afb8-6d1c56c7cd65\",                        [{\"line\":{\"color\":\"rgba(255, 153, 51, 1.0)\",\"dash\":\"solid\",\"shape\":\"linear\",\"width\":1.3},\"mode\":\"lines\",\"name\":\"price_sqm\",\"text\":\"\",\"x\":[\"2018-01-01\",\"2018-02-01\",\"2018-03-01\",\"2018-04-01\",\"2018-05-01\",\"2018-06-01\",\"2018-07-01\",\"2018-08-01\",\"2018-09-01\",\"2018-10-01\",\"2018-11-01\",\"2018-12-01\",\"2019-01-01\",\"2019-02-01\",\"2019-03-01\",\"2019-04-01\",\"2019-05-01\",\"2019-06-01\",\"2019-07-01\",\"2019-08-01\",\"2019-09-01\",\"2019-10-01\",\"2019-11-01\",\"2019-12-01\",\"2020-01-01\",\"2020-02-01\",\"2020-03-01\",\"2020-04-01\",\"2020-05-01\",\"2020-06-01\",\"2020-07-01\",\"2020-08-01\",\"2020-09-01\",\"2020-10-01\",\"2020-11-01\",\"2020-12-01\",\"2021-01-01\",\"2021-02-01\",\"2021-03-01\",\"2021-04-01\",\"2021-05-01\",\"2021-06-01\",\"2021-07-01\",\"2021-08-01\",\"2021-09-01\",\"2021-10-01\",\"2021-11-01\",\"2021-12-01\"],\"y\":[19.013513513513512,18.367272727272727,18.458636363636362,19.0559375,20.044848484848487,20.90714285714286,23.36709677419355,21.15913043478261,21.501199999999997,19.77138888888889,21.4028125,20.16027777777778,21.33815789473684,21.425185185185185,19.99785714285714,20.579285714285714,20.353125,19.928709677419352,19.358260869565218,21.1865625,20.904,21.171304347826087,19.976976744186047,19.453333333333333,19.1684,18.474375000000002,17.124000000000002,19.00166666666667,18.858,20.023529411764706,19.28,19.971739130434784,19.566875,20.475,20.678461538461537,21.816666666666666,19.931818181818183,22.747777777777777,19.102666666666668,20.446,21.016666666666666,22.572820512820513,19.616666666666667,21.987272727272728,20.3325,19.485,21.563846153846153,20.69],\"type\":\"scatter\"}],                        {\"legend\":{\"bgcolor\":\"#F5F6F9\",\"font\":{\"color\":\"#4D5663\"}},\"paper_bgcolor\":\"#F5F6F9\",\"plot_bgcolor\":\"#F5F6F9\",\"template\":{\"data\":{\"barpolar\":[{\"marker\":{\"line\":{\"color\":\"#E5ECF6\",\"width\":0.5},\"pattern\":{\"fillmode\":\"overlay\",\"size\":10,\"solidity\":0.2}},\"type\":\"barpolar\"}],\"bar\":[{\"error_x\":{\"color\":\"#2a3f5f\"},\"error_y\":{\"color\":\"#2a3f5f\"},\"marker\":{\"line\":{\"color\":\"#E5ECF6\",\"width\":0.5},\"pattern\":{\"fillmode\":\"overlay\",\"size\":10,\"solidity\":0.2}},\"type\":\"bar\"}],\"carpet\":[{\"aaxis\":{\"endlinecolor\":\"#2a3f5f\",\"gridcolor\":\"white\",\"linecolor\":\"white\",\"minorgridcolor\":\"white\",\"startlinecolor\":\"#2a3f5f\"},\"baxis\":{\"endlinecolor\":\"#2a3f5f\",\"gridcolor\":\"white\",\"linecolor\":\"white\",\"minorgridcolor\":\"white\",\"startlinecolor\":\"#2a3f5f\"},\"type\":\"carpet\"}],\"choropleth\":[{\"colorbar\":{\"outlinewidth\":0,\"ticks\":\"\"},\"type\":\"choropleth\"}],\"contourcarpet\":[{\"colorbar\":{\"outlinewidth\":0,\"ticks\":\"\"},\"type\":\"contourcarpet\"}],\"contour\":[{\"colorbar\":{\"outlinewidth\":0,\"ticks\":\"\"},\"colorscale\":[[0.0,\"#0d0887\"],[0.1111111111111111,\"#46039f\"],[0.2222222222222222,\"#7201a8\"],[0.3333333333333333,\"#9c179e\"],[0.4444444444444444,\"#bd3786\"],[0.5555555555555556,\"#d8576b\"],[0.6666666666666666,\"#ed7953\"],[0.7777777777777778,\"#fb9f3a\"],[0.8888888888888888,\"#fdca26\"],[1.0,\"#f0f921\"]],\"type\":\"contour\"}],\"heatmapgl\":[{\"colorbar\":{\"outlinewidth\":0,\"ticks\":\"\"},\"colorscale\":[[0.0,\"#0d0887\"],[0.1111111111111111,\"#46039f\"],[0.2222222222222222,\"#7201a8\"],[0.3333333333333333,\"#9c179e\"],[0.4444444444444444,\"#bd3786\"],[0.5555555555555556,\"#d8576b\"],[0.6666666666666666,\"#ed7953\"],[0.7777777777777778,\"#fb9f3a\"],[0.8888888888888888,\"#fdca26\"],[1.0,\"#f0f921\"]],\"type\":\"heatmapgl\"}],\"heatmap\":[{\"colorbar\":{\"outlinewidth\":0,\"ticks\":\"\"},\"colorscale\":[[0.0,\"#0d0887\"],[0.1111111111111111,\"#46039f\"],[0.2222222222222222,\"#7201a8\"],[0.3333333333333333,\"#9c179e\"],[0.4444444444444444,\"#bd3786\"],[0.5555555555555556,\"#d8576b\"],[0.6666666666666666,\"#ed7953\"],[0.7777777777777778,\"#fb9f3a\"],[0.8888888888888888,\"#fdca26\"],[1.0,\"#f0f921\"]],\"type\":\"heatmap\"}],\"histogram2dcontour\":[{\"colorbar\":{\"outlinewidth\":0,\"ticks\":\"\"},\"colorscale\":[[0.0,\"#0d0887\"],[0.1111111111111111,\"#46039f\"],[0.2222222222222222,\"#7201a8\"],[0.3333333333333333,\"#9c179e\"],[0.4444444444444444,\"#bd3786\"],[0.5555555555555556,\"#d8576b\"],[0.6666666666666666,\"#ed7953\"],[0.7777777777777778,\"#fb9f3a\"],[0.8888888888888888,\"#fdca26\"],[1.0,\"#f0f921\"]],\"type\":\"histogram2dcontour\"}],\"histogram2d\":[{\"colorbar\":{\"outlinewidth\":0,\"ticks\":\"\"},\"colorscale\":[[0.0,\"#0d0887\"],[0.1111111111111111,\"#46039f\"],[0.2222222222222222,\"#7201a8\"],[0.3333333333333333,\"#9c179e\"],[0.4444444444444444,\"#bd3786\"],[0.5555555555555556,\"#d8576b\"],[0.6666666666666666,\"#ed7953\"],[0.7777777777777778,\"#fb9f3a\"],[0.8888888888888888,\"#fdca26\"],[1.0,\"#f0f921\"]],\"type\":\"histogram2d\"}],\"histogram\":[{\"marker\":{\"pattern\":{\"fillmode\":\"overlay\",\"size\":10,\"solidity\":0.2}},\"type\":\"histogram\"}],\"mesh3d\":[{\"colorbar\":{\"outlinewidth\":0,\"ticks\":\"\"},\"type\":\"mesh3d\"}],\"parcoords\":[{\"line\":{\"colorbar\":{\"outlinewidth\":0,\"ticks\":\"\"}},\"type\":\"parcoords\"}],\"pie\":[{\"automargin\":true,\"type\":\"pie\"}],\"scatter3d\":[{\"line\":{\"colorbar\":{\"outlinewidth\":0,\"ticks\":\"\"}},\"marker\":{\"colorbar\":{\"outlinewidth\":0,\"ticks\":\"\"}},\"type\":\"scatter3d\"}],\"scattercarpet\":[{\"marker\":{\"colorbar\":{\"outlinewidth\":0,\"ticks\":\"\"}},\"type\":\"scattercarpet\"}],\"scattergeo\":[{\"marker\":{\"colorbar\":{\"outlinewidth\":0,\"ticks\":\"\"}},\"type\":\"scattergeo\"}],\"scattergl\":[{\"marker\":{\"colorbar\":{\"outlinewidth\":0,\"ticks\":\"\"}},\"type\":\"scattergl\"}],\"scattermapbox\":[{\"marker\":{\"colorbar\":{\"outlinewidth\":0,\"ticks\":\"\"}},\"type\":\"scattermapbox\"}],\"scatterpolargl\":[{\"marker\":{\"colorbar\":{\"outlinewidth\":0,\"ticks\":\"\"}},\"type\":\"scatterpolargl\"}],\"scatterpolar\":[{\"marker\":{\"colorbar\":{\"outlinewidth\":0,\"ticks\":\"\"}},\"type\":\"scatterpolar\"}],\"scatter\":[{\"fillpattern\":{\"fillmode\":\"overlay\",\"size\":10,\"solidity\":0.2},\"type\":\"scatter\"}],\"scatterternary\":[{\"marker\":{\"colorbar\":{\"outlinewidth\":0,\"ticks\":\"\"}},\"type\":\"scatterternary\"}],\"surface\":[{\"colorbar\":{\"outlinewidth\":0,\"ticks\":\"\"},\"colorscale\":[[0.0,\"#0d0887\"],[0.1111111111111111,\"#46039f\"],[0.2222222222222222,\"#7201a8\"],[0.3333333333333333,\"#9c179e\"],[0.4444444444444444,\"#bd3786\"],[0.5555555555555556,\"#d8576b\"],[0.6666666666666666,\"#ed7953\"],[0.7777777777777778,\"#fb9f3a\"],[0.8888888888888888,\"#fdca26\"],[1.0,\"#f0f921\"]],\"type\":\"surface\"}],\"table\":[{\"cells\":{\"fill\":{\"color\":\"#EBF0F8\"},\"line\":{\"color\":\"white\"}},\"header\":{\"fill\":{\"color\":\"#C8D4E3\"},\"line\":{\"color\":\"white\"}},\"type\":\"table\"}]},\"layout\":{\"annotationdefaults\":{\"arrowcolor\":\"#2a3f5f\",\"arrowhead\":0,\"arrowwidth\":1},\"autotypenumbers\":\"strict\",\"coloraxis\":{\"colorbar\":{\"outlinewidth\":0,\"ticks\":\"\"}},\"colorscale\":{\"diverging\":[[0,\"#8e0152\"],[0.1,\"#c51b7d\"],[0.2,\"#de77ae\"],[0.3,\"#f1b6da\"],[0.4,\"#fde0ef\"],[0.5,\"#f7f7f7\"],[0.6,\"#e6f5d0\"],[0.7,\"#b8e186\"],[0.8,\"#7fbc41\"],[0.9,\"#4d9221\"],[1,\"#276419\"]],\"sequential\":[[0.0,\"#0d0887\"],[0.1111111111111111,\"#46039f\"],[0.2222222222222222,\"#7201a8\"],[0.3333333333333333,\"#9c179e\"],[0.4444444444444444,\"#bd3786\"],[0.5555555555555556,\"#d8576b\"],[0.6666666666666666,\"#ed7953\"],[0.7777777777777778,\"#fb9f3a\"],[0.8888888888888888,\"#fdca26\"],[1.0,\"#f0f921\"]],\"sequentialminus\":[[0.0,\"#0d0887\"],[0.1111111111111111,\"#46039f\"],[0.2222222222222222,\"#7201a8\"],[0.3333333333333333,\"#9c179e\"],[0.4444444444444444,\"#bd3786\"],[0.5555555555555556,\"#d8576b\"],[0.6666666666666666,\"#ed7953\"],[0.7777777777777778,\"#fb9f3a\"],[0.8888888888888888,\"#fdca26\"],[1.0,\"#f0f921\"]]},\"colorway\":[\"#636efa\",\"#EF553B\",\"#00cc96\",\"#ab63fa\",\"#FFA15A\",\"#19d3f3\",\"#FF6692\",\"#B6E880\",\"#FF97FF\",\"#FECB52\"],\"font\":{\"color\":\"#2a3f5f\"},\"geo\":{\"bgcolor\":\"white\",\"lakecolor\":\"white\",\"landcolor\":\"#E5ECF6\",\"showlakes\":true,\"showland\":true,\"subunitcolor\":\"white\"},\"hoverlabel\":{\"align\":\"left\"},\"hovermode\":\"closest\",\"mapbox\":{\"style\":\"light\"},\"paper_bgcolor\":\"white\",\"plot_bgcolor\":\"#E5ECF6\",\"polar\":{\"angularaxis\":{\"gridcolor\":\"white\",\"linecolor\":\"white\",\"ticks\":\"\"},\"bgcolor\":\"#E5ECF6\",\"radialaxis\":{\"gridcolor\":\"white\",\"linecolor\":\"white\",\"ticks\":\"\"}},\"scene\":{\"xaxis\":{\"backgroundcolor\":\"#E5ECF6\",\"gridcolor\":\"white\",\"gridwidth\":2,\"linecolor\":\"white\",\"showbackground\":true,\"ticks\":\"\",\"zerolinecolor\":\"white\"},\"yaxis\":{\"backgroundcolor\":\"#E5ECF6\",\"gridcolor\":\"white\",\"gridwidth\":2,\"linecolor\":\"white\",\"showbackground\":true,\"ticks\":\"\",\"zerolinecolor\":\"white\"},\"zaxis\":{\"backgroundcolor\":\"#E5ECF6\",\"gridcolor\":\"white\",\"gridwidth\":2,\"linecolor\":\"white\",\"showbackground\":true,\"ticks\":\"\",\"zerolinecolor\":\"white\"}},\"shapedefaults\":{\"line\":{\"color\":\"#2a3f5f\"}},\"ternary\":{\"aaxis\":{\"gridcolor\":\"white\",\"linecolor\":\"white\",\"ticks\":\"\"},\"baxis\":{\"gridcolor\":\"white\",\"linecolor\":\"white\",\"ticks\":\"\"},\"bgcolor\":\"#E5ECF6\",\"caxis\":{\"gridcolor\":\"white\",\"linecolor\":\"white\",\"ticks\":\"\"}},\"title\":{\"x\":0.05},\"xaxis\":{\"automargin\":true,\"gridcolor\":\"white\",\"linecolor\":\"white\",\"ticks\":\"\",\"title\":{\"standoff\":15},\"zerolinecolor\":\"white\",\"zerolinewidth\":2},\"yaxis\":{\"automargin\":true,\"gridcolor\":\"white\",\"linecolor\":\"white\",\"ticks\":\"\",\"title\":{\"standoff\":15},\"zerolinecolor\":\"white\",\"zerolinewidth\":2}}},\"title\":{\"font\":{\"color\":\"#4D5663\"}},\"xaxis\":{\"gridcolor\":\"#E1E5ED\",\"showgrid\":true,\"tickfont\":{\"color\":\"#4D5663\"},\"title\":{\"font\":{\"color\":\"#4D5663\"},\"text\":\"\"},\"zerolinecolor\":\"#E1E5ED\"},\"yaxis\":{\"gridcolor\":\"#E1E5ED\",\"showgrid\":true,\"tickfont\":{\"color\":\"#4D5663\"},\"title\":{\"font\":{\"color\":\"#4D5663\"},\"text\":\"\"},\"zerolinecolor\":\"#E1E5ED\"}},                        {\"showLink\": true, \"linkText\": \"Export to plot.ly\", \"plotlyServerURL\": \"https://plot.ly\", \"responsive\": true}                    ).then(function(){\n",
       "                            \n",
       "var gd = document.getElementById('3a452115-bb4b-4146-afb8-6d1c56c7cd65');\n",
       "var x = new MutationObserver(function (mutations, observer) {{\n",
       "        var display = window.getComputedStyle(gd).display;\n",
       "        if (!display || display === 'none') {{\n",
       "            console.log([gd, 'removed!']);\n",
       "            Plotly.purge(gd);\n",
       "            observer.disconnect();\n",
       "        }}\n",
       "}});\n",
       "\n",
       "// Listen for the removal of the full notebook cells\n",
       "var notebookContainer = gd.closest('#notebook-container');\n",
       "if (notebookContainer) {{\n",
       "    x.observe(notebookContainer, {childList: true});\n",
       "}}\n",
       "\n",
       "// Listen for the clearing of the current output cell\n",
       "var outputEl = gd.closest('.output');\n",
       "if (outputEl) {{\n",
       "    x.observe(outputEl, {childList: true});\n",
       "}}\n",
       "\n",
       "                        })                };                });            </script>        </div>"
      ]
     },
     "metadata": {},
     "output_type": "display_data"
    }
   ],
   "source": [
    "ts_df.query(\"is_duplex==1\").groupby(pd.to_datetime(ts_df.date.dt.strftime(\"%Y-%m-01\")))[\n",
    "    \"price_sqm\"\n",
    "].mean().iplot()"
   ]
  },
  {
   "cell_type": "code",
   "execution_count": 80,
   "metadata": {},
   "outputs": [
    {
     "data": {
      "text/html": [
       "<div>\n",
       "<style scoped>\n",
       "    .dataframe tbody tr th:only-of-type {\n",
       "        vertical-align: middle;\n",
       "    }\n",
       "\n",
       "    .dataframe tbody tr th {\n",
       "        vertical-align: top;\n",
       "    }\n",
       "\n",
       "    .dataframe thead th {\n",
       "        text-align: right;\n",
       "    }\n",
       "</style>\n",
       "<table border=\"1\" class=\"dataframe\">\n",
       "  <thead>\n",
       "    <tr style=\"text-align: right;\">\n",
       "      <th></th>\n",
       "      <th>date</th>\n",
       "      <th>price</th>\n",
       "      <th>space</th>\n",
       "      <th>categories</th>\n",
       "      <th>is_apartment</th>\n",
       "      <th>is_duplex</th>\n",
       "      <th>is_house</th>\n",
       "      <th>size</th>\n",
       "      <th>price_sqm</th>\n",
       "      <th>APARTMENT</th>\n",
       "      <th>ATTIC</th>\n",
       "      <th>ATTIC_FLAT</th>\n",
       "      <th>BACHELOR_FLAT</th>\n",
       "      <th>BIFAMILIAR_HOUSE</th>\n",
       "      <th>DUPLEX</th>\n",
       "      <th>FLAT</th>\n",
       "      <th>FURNISHED_FLAT</th>\n",
       "      <th>LOFT</th>\n",
       "      <th>ROOF_FLAT</th>\n",
       "      <th>ROW_HOUSE</th>\n",
       "      <th>SINGLE_ROOM</th>\n",
       "      <th>STUDIO</th>\n",
       "      <th>TERRACE_FLAT</th>\n",
       "      <th>VILLA</th>\n",
       "    </tr>\n",
       "  </thead>\n",
       "  <tbody>\n",
       "    <tr>\n",
       "      <th>13194</th>\n",
       "      <td>2021-10-05</td>\n",
       "      <td>28896.0</td>\n",
       "      <td>29.0</td>\n",
       "      <td>FLAT</td>\n",
       "      <td>1</td>\n",
       "      <td>0</td>\n",
       "      <td>0</td>\n",
       "      <td>sm</td>\n",
       "      <td>996.41</td>\n",
       "      <td>0</td>\n",
       "      <td>0</td>\n",
       "      <td>0</td>\n",
       "      <td>0</td>\n",
       "      <td>0</td>\n",
       "      <td>0</td>\n",
       "      <td>1</td>\n",
       "      <td>0</td>\n",
       "      <td>0</td>\n",
       "      <td>0</td>\n",
       "      <td>0</td>\n",
       "      <td>0</td>\n",
       "      <td>0</td>\n",
       "      <td>0</td>\n",
       "      <td>0</td>\n",
       "    </tr>\n",
       "    <tr>\n",
       "      <th>3997</th>\n",
       "      <td>2020-05-13</td>\n",
       "      <td>1383.0</td>\n",
       "      <td>1.0</td>\n",
       "      <td>FLAT</td>\n",
       "      <td>1</td>\n",
       "      <td>0</td>\n",
       "      <td>0</td>\n",
       "      <td>sm</td>\n",
       "      <td>1383.00</td>\n",
       "      <td>0</td>\n",
       "      <td>0</td>\n",
       "      <td>0</td>\n",
       "      <td>0</td>\n",
       "      <td>0</td>\n",
       "      <td>0</td>\n",
       "      <td>1</td>\n",
       "      <td>0</td>\n",
       "      <td>0</td>\n",
       "      <td>0</td>\n",
       "      <td>0</td>\n",
       "      <td>0</td>\n",
       "      <td>0</td>\n",
       "      <td>0</td>\n",
       "      <td>0</td>\n",
       "    </tr>\n",
       "    <tr>\n",
       "      <th>10589</th>\n",
       "      <td>2020-11-27</td>\n",
       "      <td>1400.0</td>\n",
       "      <td>1.0</td>\n",
       "      <td>FLAT</td>\n",
       "      <td>1</td>\n",
       "      <td>0</td>\n",
       "      <td>0</td>\n",
       "      <td>sm</td>\n",
       "      <td>1400.00</td>\n",
       "      <td>0</td>\n",
       "      <td>0</td>\n",
       "      <td>0</td>\n",
       "      <td>0</td>\n",
       "      <td>0</td>\n",
       "      <td>0</td>\n",
       "      <td>1</td>\n",
       "      <td>0</td>\n",
       "      <td>0</td>\n",
       "      <td>0</td>\n",
       "      <td>0</td>\n",
       "      <td>0</td>\n",
       "      <td>0</td>\n",
       "      <td>0</td>\n",
       "      <td>0</td>\n",
       "    </tr>\n",
       "    <tr>\n",
       "      <th>3714</th>\n",
       "      <td>2018-04-12</td>\n",
       "      <td>1480.0</td>\n",
       "      <td>1.0</td>\n",
       "      <td>APARTMENT</td>\n",
       "      <td>1</td>\n",
       "      <td>0</td>\n",
       "      <td>0</td>\n",
       "      <td>sm</td>\n",
       "      <td>1480.00</td>\n",
       "      <td>1</td>\n",
       "      <td>0</td>\n",
       "      <td>0</td>\n",
       "      <td>0</td>\n",
       "      <td>0</td>\n",
       "      <td>0</td>\n",
       "      <td>0</td>\n",
       "      <td>0</td>\n",
       "      <td>0</td>\n",
       "      <td>0</td>\n",
       "      <td>0</td>\n",
       "      <td>0</td>\n",
       "      <td>0</td>\n",
       "      <td>0</td>\n",
       "      <td>0</td>\n",
       "    </tr>\n",
       "    <tr>\n",
       "      <th>17250</th>\n",
       "      <td>2018-06-11</td>\n",
       "      <td>1560.0</td>\n",
       "      <td>1.0</td>\n",
       "      <td>APARTMENT</td>\n",
       "      <td>1</td>\n",
       "      <td>0</td>\n",
       "      <td>0</td>\n",
       "      <td>sm</td>\n",
       "      <td>1560.00</td>\n",
       "      <td>1</td>\n",
       "      <td>0</td>\n",
       "      <td>0</td>\n",
       "      <td>0</td>\n",
       "      <td>0</td>\n",
       "      <td>0</td>\n",
       "      <td>0</td>\n",
       "      <td>0</td>\n",
       "      <td>0</td>\n",
       "      <td>0</td>\n",
       "      <td>0</td>\n",
       "      <td>0</td>\n",
       "      <td>0</td>\n",
       "      <td>0</td>\n",
       "      <td>0</td>\n",
       "    </tr>\n",
       "    <tr>\n",
       "      <th>29517</th>\n",
       "      <td>2018-06-11</td>\n",
       "      <td>1560.0</td>\n",
       "      <td>1.0</td>\n",
       "      <td>APARTMENT</td>\n",
       "      <td>1</td>\n",
       "      <td>0</td>\n",
       "      <td>0</td>\n",
       "      <td>sm</td>\n",
       "      <td>1560.00</td>\n",
       "      <td>1</td>\n",
       "      <td>0</td>\n",
       "      <td>0</td>\n",
       "      <td>0</td>\n",
       "      <td>0</td>\n",
       "      <td>0</td>\n",
       "      <td>0</td>\n",
       "      <td>0</td>\n",
       "      <td>0</td>\n",
       "      <td>0</td>\n",
       "      <td>0</td>\n",
       "      <td>0</td>\n",
       "      <td>0</td>\n",
       "      <td>0</td>\n",
       "      <td>0</td>\n",
       "    </tr>\n",
       "    <tr>\n",
       "      <th>27697</th>\n",
       "      <td>2018-11-28</td>\n",
       "      <td>1950.0</td>\n",
       "      <td>1.0</td>\n",
       "      <td>ROOF_FLAT</td>\n",
       "      <td>0</td>\n",
       "      <td>0</td>\n",
       "      <td>0</td>\n",
       "      <td>sm</td>\n",
       "      <td>1950.00</td>\n",
       "      <td>0</td>\n",
       "      <td>0</td>\n",
       "      <td>0</td>\n",
       "      <td>0</td>\n",
       "      <td>0</td>\n",
       "      <td>0</td>\n",
       "      <td>0</td>\n",
       "      <td>0</td>\n",
       "      <td>0</td>\n",
       "      <td>1</td>\n",
       "      <td>0</td>\n",
       "      <td>0</td>\n",
       "      <td>0</td>\n",
       "      <td>0</td>\n",
       "      <td>0</td>\n",
       "    </tr>\n",
       "    <tr>\n",
       "      <th>24531</th>\n",
       "      <td>2020-10-07</td>\n",
       "      <td>870150.0</td>\n",
       "      <td>59.0</td>\n",
       "      <td>FLAT</td>\n",
       "      <td>1</td>\n",
       "      <td>0</td>\n",
       "      <td>0</td>\n",
       "      <td>md</td>\n",
       "      <td>14748.30</td>\n",
       "      <td>0</td>\n",
       "      <td>0</td>\n",
       "      <td>0</td>\n",
       "      <td>0</td>\n",
       "      <td>0</td>\n",
       "      <td>0</td>\n",
       "      <td>1</td>\n",
       "      <td>0</td>\n",
       "      <td>0</td>\n",
       "      <td>0</td>\n",
       "      <td>0</td>\n",
       "      <td>0</td>\n",
       "      <td>0</td>\n",
       "      <td>0</td>\n",
       "      <td>0</td>\n",
       "    </tr>\n",
       "  </tbody>\n",
       "</table>\n",
       "</div>"
      ],
      "text/plain": [
       "            date     price  space categories  is_apartment  is_duplex  \\\n",
       "13194 2021-10-05   28896.0   29.0       FLAT             1          0   \n",
       "3997  2020-05-13    1383.0    1.0       FLAT             1          0   \n",
       "10589 2020-11-27    1400.0    1.0       FLAT             1          0   \n",
       "3714  2018-04-12    1480.0    1.0  APARTMENT             1          0   \n",
       "17250 2018-06-11    1560.0    1.0  APARTMENT             1          0   \n",
       "29517 2018-06-11    1560.0    1.0  APARTMENT             1          0   \n",
       "27697 2018-11-28    1950.0    1.0  ROOF_FLAT             0          0   \n",
       "24531 2020-10-07  870150.0   59.0       FLAT             1          0   \n",
       "\n",
       "       is_house size  price_sqm  APARTMENT  ATTIC  ATTIC_FLAT  BACHELOR_FLAT  \\\n",
       "13194         0   sm     996.41          0      0           0              0   \n",
       "3997          0   sm    1383.00          0      0           0              0   \n",
       "10589         0   sm    1400.00          0      0           0              0   \n",
       "3714          0   sm    1480.00          1      0           0              0   \n",
       "17250         0   sm    1560.00          1      0           0              0   \n",
       "29517         0   sm    1560.00          1      0           0              0   \n",
       "27697         0   sm    1950.00          0      0           0              0   \n",
       "24531         0   md   14748.30          0      0           0              0   \n",
       "\n",
       "       BIFAMILIAR_HOUSE  DUPLEX  FLAT  FURNISHED_FLAT  LOFT  ROOF_FLAT  \\\n",
       "13194                 0       0     1               0     0          0   \n",
       "3997                  0       0     1               0     0          0   \n",
       "10589                 0       0     1               0     0          0   \n",
       "3714                  0       0     0               0     0          0   \n",
       "17250                 0       0     0               0     0          0   \n",
       "29517                 0       0     0               0     0          0   \n",
       "27697                 0       0     0               0     0          1   \n",
       "24531                 0       0     1               0     0          0   \n",
       "\n",
       "       ROW_HOUSE  SINGLE_ROOM  STUDIO  TERRACE_FLAT  VILLA  \n",
       "13194          0            0       0             0      0  \n",
       "3997           0            0       0             0      0  \n",
       "10589          0            0       0             0      0  \n",
       "3714           0            0       0             0      0  \n",
       "17250          0            0       0             0      0  \n",
       "29517          0            0       0             0      0  \n",
       "27697          0            0       0             0      0  \n",
       "24531          0            0       0             0      0  "
      ]
     },
     "execution_count": 80,
     "metadata": {},
     "output_type": "execute_result"
    }
   ],
   "source": []
  }
 ],
 "metadata": {
  "kernelspec": {
   "display_name": "dev",
   "language": "python",
   "name": "python3"
  },
  "language_info": {
   "codemirror_mode": {
    "name": "ipython",
    "version": 3
   },
   "file_extension": ".py",
   "mimetype": "text/x-python",
   "name": "python",
   "nbconvert_exporter": "python",
   "pygments_lexer": "ipython3",
   "version": "3.10.12"
  },
  "orig_nbformat": 4
 },
 "nbformat": 4,
 "nbformat_minor": 2
}
