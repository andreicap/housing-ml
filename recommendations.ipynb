{
 "cells": [
  {
   "cell_type": "code",
   "execution_count": 1,
   "metadata": {},
   "outputs": [],
   "source": [
    "import pandas as pd\n",
    "from pathlib import Path\n",
    "\n",
    "data_folder = Path(\"./data/recommendations/\")"
   ]
  },
  {
   "cell_type": "code",
   "execution_count": 45,
   "metadata": {},
   "outputs": [],
   "source": [
    "calendar_raw = pd.read_csv(data_folder / \"calendar.csv\")\n",
    "neighbourhoods_raw = pd.read_csv(data_folder / \"neighbourhoods.csv\")\n",
    "reviews_summary_raw = pd.read_csv(data_folder / \"reviews_summary.csv\")\n",
    "listings_raw = pd.read_csv(data_folder / \"listings.csv\", low_memory=False)\n",
    "listings_summary_raw = pd.read_csv(data_folder / \"listings_summary.csv\")\n",
    "reviews_raw = pd.read_csv(data_folder / \"reviews.csv\")"
   ]
  },
  {
   "cell_type": "code",
   "execution_count": 3,
   "metadata": {},
   "outputs": [],
   "source": [
    "import geojson\n",
    "\n",
    "with open(data_folder / \"neighbourhoods.geojson\") as f:\n",
    "    neighbourhoods_gj = geojson.load(f)"
   ]
  },
  {
   "cell_type": "markdown",
   "metadata": {},
   "source": [
    "## Analyze reviews"
   ]
  },
  {
   "cell_type": "code",
   "execution_count": 46,
   "metadata": {},
   "outputs": [
    {
     "data": {
      "text/plain": [
       "(1486236, 6)"
      ]
     },
     "execution_count": 46,
     "metadata": {},
     "output_type": "execute_result"
    }
   ],
   "source": [
    "reviews_raw.shape"
   ]
  },
  {
   "cell_type": "code",
   "execution_count": 55,
   "metadata": {},
   "outputs": [
    {
     "data": {
      "text/plain": [
       "0          False\n",
       "990706     False\n",
       "990705     False\n",
       "990704     False\n",
       "990703     False\n",
       "           ...  \n",
       "1479863      NaN\n",
       "1480313      NaN\n",
       "1482655      NaN\n",
       "1483551      NaN\n",
       "1485904      NaN\n",
       "Name: comments, Length: 1486236, dtype: object"
      ]
     },
     "execution_count": 55,
     "metadata": {},
     "output_type": "execute_result"
    }
   ],
   "source": []
  },
  {
   "cell_type": "code",
   "execution_count": 109,
   "metadata": {},
   "outputs": [],
   "source": [
    "# clean reivews\n",
    "import re\n",
    "\n",
    "reviews = reviews_raw[\n",
    "    ~reviews_raw[\"comments\"].str.match(\"host canceled this reservation\").fillna(True)\n",
    "].reset_index(\n",
    "    drop=True\n",
    ")  # remove cancelled\n",
    "reviews[\"comments\"] = (\n",
    "    reviews[\"comments\"].map(lambda x: re.sub(\"\\w*\\d\\w*\", \" \", x)).reset_index(drop=True)\n",
    ")  # remove numbers"
   ]
  },
  {
   "cell_type": "code",
   "execution_count": 117,
   "metadata": {},
   "outputs": [],
   "source": [
    "reviews = reviews.dropna(subset=[\"comments\"]).reset_index(drop=True)\n",
    "\n",
    "\n",
    "reviews[\"comments\"] = (\n",
    "    reviews[\"comments\"]\n",
    "    .str.replace(\"\\n\", \" \")\n",
    "    .str.replace(\"\\t\", \" \")\n",
    "    .replace(\"!\", \"\")\n",
    "    .str.strip(\n",
    "        \"\\\" \\n \\t ! # % ' ( ) * + \\r . , - / : ; < > ｡ = ? &\"\n",
    "    )  # remove all symbol-only chars\n",
    ").reset_index(drop=True)\n",
    "reviews[\"comments\"] = reviews[\"comments\"].replace(\"\", pd.NA)\n",
    "reviews[\"comments\"] = reviews[\"comments\"][\n",
    "    ~reviews[\"comments\"].map(lambda x: len(x) < 5).reset_index(drop=True)\n",
    "]\n",
    "reviews = reviews.dropna(subset=[\"comments\"]).reset_index(drop=True)"
   ]
  },
  {
   "cell_type": "code",
   "execution_count": 115,
   "metadata": {},
   "outputs": [
    {
     "data": {
      "text/plain": [
       "(1479564, 6)"
      ]
     },
     "execution_count": 115,
     "metadata": {},
     "output_type": "execute_result"
    }
   ],
   "source": [
    "reviews.shape"
   ]
  },
  {
   "cell_type": "code",
   "execution_count": 122,
   "metadata": {},
   "outputs": [],
   "source": [
    "from langdetect import detect\n",
    "\n",
    "\n",
    "def detect_err(comment):\n",
    "    try:\n",
    "        return detect(comment)\n",
    "    except:\n",
    "        return \"na\"\n",
    "\n",
    "\n",
    "reviews[\"language\"] = reviews[\"comments\"].map(detect_err)"
   ]
  },
  {
   "cell_type": "code",
   "execution_count": 126,
   "metadata": {},
   "outputs": [
    {
     "data": {
      "text/html": [
       "<div>\n",
       "<style scoped>\n",
       "    .dataframe tbody tr th:only-of-type {\n",
       "        vertical-align: middle;\n",
       "    }\n",
       "\n",
       "    .dataframe tbody tr th {\n",
       "        vertical-align: top;\n",
       "    }\n",
       "\n",
       "    .dataframe thead th {\n",
       "        text-align: right;\n",
       "    }\n",
       "</style>\n",
       "<table border=\"1\" class=\"dataframe\">\n",
       "  <thead>\n",
       "    <tr style=\"text-align: right;\">\n",
       "      <th></th>\n",
       "      <th>listing_id</th>\n",
       "      <th>id</th>\n",
       "      <th>date</th>\n",
       "      <th>reviewer_id</th>\n",
       "      <th>reviewer_name</th>\n",
       "      <th>comments</th>\n",
       "      <th>language</th>\n",
       "    </tr>\n",
       "  </thead>\n",
       "  <tbody>\n",
       "    <tr>\n",
       "      <th>0</th>\n",
       "      <td>11551</td>\n",
       "      <td>30672</td>\n",
       "      <td>2010-03-21</td>\n",
       "      <td>93896</td>\n",
       "      <td>Shar-Lyn</td>\n",
       "      <td>The flat was bright, comfortable and clean and...</td>\n",
       "      <td>en</td>\n",
       "    </tr>\n",
       "    <tr>\n",
       "      <th>1</th>\n",
       "      <td>11551</td>\n",
       "      <td>32236</td>\n",
       "      <td>2010-03-29</td>\n",
       "      <td>97890</td>\n",
       "      <td>Zane</td>\n",
       "      <td>We stayed with Adriano and Valerio for a week ...</td>\n",
       "      <td>en</td>\n",
       "    </tr>\n",
       "    <tr>\n",
       "      <th>2</th>\n",
       "      <td>90700</td>\n",
       "      <td>337227</td>\n",
       "      <td>2011-06-27</td>\n",
       "      <td>311071</td>\n",
       "      <td>Miqua</td>\n",
       "      <td>it was all in all the perfect week!\\r chilton ...</td>\n",
       "      <td>en</td>\n",
       "    </tr>\n",
       "    <tr>\n",
       "      <th>3</th>\n",
       "      <td>90700</td>\n",
       "      <td>378738</td>\n",
       "      <td>2011-07-17</td>\n",
       "      <td>224367</td>\n",
       "      <td>Prateek</td>\n",
       "      <td>I'll start with the host, and then move on to ...</td>\n",
       "      <td>en</td>\n",
       "    </tr>\n",
       "    <tr>\n",
       "      <th>4</th>\n",
       "      <td>90700</td>\n",
       "      <td>543840</td>\n",
       "      <td>2011-09-18</td>\n",
       "      <td>1115024</td>\n",
       "      <td>Jennifer</td>\n",
       "      <td>Great location. Plenty to do just steps outsid...</td>\n",
       "      <td>en</td>\n",
       "    </tr>\n",
       "    <tr>\n",
       "      <th>...</th>\n",
       "      <td>...</td>\n",
       "      <td>...</td>\n",
       "      <td>...</td>\n",
       "      <td>...</td>\n",
       "      <td>...</td>\n",
       "      <td>...</td>\n",
       "      <td>...</td>\n",
       "    </tr>\n",
       "    <tr>\n",
       "      <th>1479559</th>\n",
       "      <td>39740287</td>\n",
       "      <td>559509688</td>\n",
       "      <td>2019-11-04</td>\n",
       "      <td>182032644</td>\n",
       "      <td>Isabel</td>\n",
       "      <td>A very good stay, I would repeat for sure</td>\n",
       "      <td>en</td>\n",
       "    </tr>\n",
       "    <tr>\n",
       "      <th>1479560</th>\n",
       "      <td>22701498</td>\n",
       "      <td>558667202</td>\n",
       "      <td>2019-11-03</td>\n",
       "      <td>65955902</td>\n",
       "      <td>Shereen</td>\n",
       "      <td>Set in a lovely development with onsite bar, c...</td>\n",
       "      <td>en</td>\n",
       "    </tr>\n",
       "    <tr>\n",
       "      <th>1479561</th>\n",
       "      <td>38398365</td>\n",
       "      <td>552239161</td>\n",
       "      <td>2019-10-21</td>\n",
       "      <td>60436496</td>\n",
       "      <td>Chee Ling</td>\n",
       "      <td>Website hidden by Airbnb) a.best owner and gen...</td>\n",
       "      <td>en</td>\n",
       "    </tr>\n",
       "    <tr>\n",
       "      <th>1479562</th>\n",
       "      <td>38398365</td>\n",
       "      <td>559541617</td>\n",
       "      <td>2019-11-04</td>\n",
       "      <td>97684167</td>\n",
       "      <td>Carolyn</td>\n",
       "      <td>This flat is perfection! Everything you need i...</td>\n",
       "      <td>en</td>\n",
       "    </tr>\n",
       "    <tr>\n",
       "      <th>1479563</th>\n",
       "      <td>39836317</td>\n",
       "      <td>559576331</td>\n",
       "      <td>2019-11-04</td>\n",
       "      <td>52497809</td>\n",
       "      <td>Aniello</td>\n",
       "      <td>You can expect to be staying is a very nice lo...</td>\n",
       "      <td>en</td>\n",
       "    </tr>\n",
       "  </tbody>\n",
       "</table>\n",
       "<p>1479564 rows × 7 columns</p>\n",
       "</div>"
      ],
      "text/plain": [
       "         listing_id         id        date  reviewer_id reviewer_name  \\\n",
       "0             11551      30672  2010-03-21        93896      Shar-Lyn   \n",
       "1             11551      32236  2010-03-29        97890          Zane   \n",
       "2             90700     337227  2011-06-27       311071         Miqua   \n",
       "3             90700     378738  2011-07-17       224367       Prateek   \n",
       "4             90700     543840  2011-09-18      1115024      Jennifer   \n",
       "...             ...        ...         ...          ...           ...   \n",
       "1479559    39740287  559509688  2019-11-04    182032644        Isabel   \n",
       "1479560    22701498  558667202  2019-11-03     65955902       Shereen   \n",
       "1479561    38398365  552239161  2019-10-21     60436496     Chee Ling   \n",
       "1479562    38398365  559541617  2019-11-04     97684167       Carolyn   \n",
       "1479563    39836317  559576331  2019-11-04     52497809       Aniello   \n",
       "\n",
       "                                                  comments language  \n",
       "0        The flat was bright, comfortable and clean and...       en  \n",
       "1        We stayed with Adriano and Valerio for a week ...       en  \n",
       "2        it was all in all the perfect week!\\r chilton ...       en  \n",
       "3        I'll start with the host, and then move on to ...       en  \n",
       "4        Great location. Plenty to do just steps outsid...       en  \n",
       "...                                                    ...      ...  \n",
       "1479559          A very good stay, I would repeat for sure       en  \n",
       "1479560  Set in a lovely development with onsite bar, c...       en  \n",
       "1479561  Website hidden by Airbnb) a.best owner and gen...       en  \n",
       "1479562  This flat is perfection! Everything you need i...       en  \n",
       "1479563  You can expect to be staying is a very nice lo...       en  \n",
       "\n",
       "[1479564 rows x 7 columns]"
      ]
     },
     "execution_count": 126,
     "metadata": {},
     "output_type": "execute_result"
    }
   ],
   "source": [
    "reviews"
   ]
  },
  {
   "cell_type": "code",
   "execution_count": 124,
   "metadata": {},
   "outputs": [],
   "source": [
    "# save stage\n",
    "reviews.to_parquet(data_folder / \"reviews_clean_lang.parquet\")"
   ]
  },
  {
   "cell_type": "code",
   "execution_count": 130,
   "metadata": {},
   "outputs": [
    {
     "data": {
      "text/plain": [
       "en       1279642\n",
       "fr         69306\n",
       "es         35314\n",
       "de         23909\n",
       "it         16918\n",
       "ko         11602\n",
       "zh-cn       9163\n",
       "pt          6009\n",
       "nl          4806\n",
       "ro          2847\n",
       "Name: language, dtype: int64"
      ]
     },
     "execution_count": 130,
     "metadata": {},
     "output_type": "execute_result"
    }
   ],
   "source": [
    "reviews[\"language\"].value_counts().iloc[:10]"
   ]
  },
  {
   "cell_type": "code",
   "execution_count": 132,
   "metadata": {},
   "outputs": [],
   "source": [
    "reviews = reviews.query(\"language == 'en'\").reset_index(drop=True)"
   ]
  },
  {
   "cell_type": "code",
   "execution_count": 136,
   "metadata": {},
   "outputs": [
    {
     "data": {
      "text/plain": [
       "0.9413"
      ]
     },
     "execution_count": 136,
     "metadata": {},
     "output_type": "execute_result"
    }
   ],
   "source": [
    "from nltk.sentiment.vader import SentimentIntensityAnalyzer\n",
    "\n",
    "sia = SentimentIntensityAnalyzer()\n",
    "compund_scorer = lambda comment: (sia.polarity_scores(comment))[\"compound\"]\n",
    "compund_scorer(reviews[\"comments\"][0])"
   ]
  },
  {
   "cell_type": "code",
   "execution_count": 137,
   "metadata": {},
   "outputs": [],
   "source": [
    "reviews[\"comment_score\"] = reviews[\"comments\"].map(compund_scorer)"
   ]
  },
  {
   "cell_type": "code",
   "execution_count": 138,
   "metadata": {},
   "outputs": [],
   "source": [
    "reviews.to_parquet(data_folder / \"reviews_sentiment.parquet\")"
   ]
  }
 ],
 "metadata": {
  "kernelspec": {
   "display_name": "dev",
   "language": "python",
   "name": "python3"
  },
  "language_info": {
   "codemirror_mode": {
    "name": "ipython",
    "version": 3
   },
   "file_extension": ".py",
   "mimetype": "text/x-python",
   "name": "python",
   "nbconvert_exporter": "python",
   "pygments_lexer": "ipython3",
   "version": "3.10.12"
  },
  "orig_nbformat": 4
 },
 "nbformat": 4,
 "nbformat_minor": 2
}
