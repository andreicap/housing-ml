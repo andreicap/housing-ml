{
 "cells": [
  {
   "cell_type": "markdown",
   "metadata": {},
   "source": [
    "# Review-based User Recommendations"
   ]
  },
  {
   "cell_type": "code",
   "execution_count": 2,
   "metadata": {},
   "outputs": [],
   "source": [
    "import pandas as pd\n",
    "\n",
    "pd.set_option(\"display.max_colwidth\", 120)\n",
    "\n",
    "from pathlib import Path\n",
    "\n",
    "data_folder = Path(\"./data/recommendations/\")"
   ]
  },
  {
   "cell_type": "code",
   "execution_count": 66,
   "metadata": {},
   "outputs": [],
   "source": [
    "calendar_raw = pd.read_csv(data_folder / \"calendar.csv\")\n",
    "neighbourhoods_raw = pd.read_csv(data_folder / \"neighbourhoods.csv\")\n",
    "reviews_summary_raw = pd.read_csv(data_folder / \"reviews_summary.csv\")\n",
    "listings_raw = pd.read_csv(data_folder / \"listings.csv\", low_memory=False)\n",
    "listings_summary_raw = pd.read_csv(data_folder / \"listings_summary.csv\")\n",
    "reviews_raw = pd.read_csv(data_folder / \"reviews.csv\")"
   ]
  },
  {
   "cell_type": "code",
   "execution_count": 67,
   "metadata": {},
   "outputs": [],
   "source": [
    "import geojson\n",
    "\n",
    "with open(data_folder / \"neighbourhoods.geojson\") as f:\n",
    "    neighbourhoods_gj = geojson.load(f)"
   ]
  },
  {
   "cell_type": "markdown",
   "metadata": {},
   "source": [
    "## Sentiment extraction"
   ]
  },
  {
   "cell_type": "code",
   "execution_count": 68,
   "metadata": {},
   "outputs": [
    {
     "data": {
      "text/plain": [
       "(1486236, 6)"
      ]
     },
     "execution_count": 68,
     "metadata": {},
     "output_type": "execute_result"
    }
   ],
   "source": [
    "reviews_raw.shape"
   ]
  },
  {
   "cell_type": "code",
   "execution_count": 69,
   "metadata": {},
   "outputs": [],
   "source": [
    "# clean reivews\n",
    "import re\n",
    "\n",
    "reviews = reviews_raw[\n",
    "    ~reviews_raw[\"comments\"].str.match(\"host canceled this reservation\").fillna(True)\n",
    "].reset_index(\n",
    "    drop=True\n",
    ")  # remove cancelled\n",
    "reviews[\"comments\"] = (\n",
    "    reviews[\"comments\"].map(lambda x: re.sub(\"\\w*\\d\\w*\", \" \", x)).reset_index(drop=True)\n",
    ")  # remove numbers"
   ]
  },
  {
   "cell_type": "code",
   "execution_count": 104,
   "metadata": {},
   "outputs": [],
   "source": [
    "reviews = reviews.dropna(subset=[\"comments\"]).reset_index(drop=True)\n",
    "\n",
    "reviews[\"comments\"] = (\n",
    "    reviews[\"comments\"]\n",
    "    .str.replace(\"\\n\", \" \")\n",
    "    .str.replace(\"\\t\", \" \")\n",
    "    .replace(\"!\", \"\")\n",
    "    .str.strip(\n",
    "        \"\\\" \\n \\t ! # % ' ( ) * + \\r . , - / : ; < > ｡ = ? &\"\n",
    "    )  # remove all symbol-only comments\n",
    ").reset_index(drop=True)\n",
    "reviews[\"comments\"] = reviews[\"comments\"].replace(\"\", pd.NA)\n",
    "reviews[\"comments\"] = reviews[\"comments\"][\n",
    "    ~reviews[\"comments\"].map(lambda x: len(x) < 5).reset_index(drop=True)\n",
    "]\n",
    "reviews = reviews.dropna(subset=[\"comments\"]).reset_index(drop=True)"
   ]
  },
  {
   "cell_type": "code",
   "execution_count": 105,
   "metadata": {},
   "outputs": [
    {
     "data": {
      "text/plain": [
       "(1279642, 8)"
      ]
     },
     "execution_count": 105,
     "metadata": {},
     "output_type": "execute_result"
    }
   ],
   "source": [
    "reviews.shape"
   ]
  },
  {
   "cell_type": "code",
   "execution_count": 122,
   "metadata": {},
   "outputs": [],
   "source": [
    "from langdetect import detect\n",
    "\n",
    "\n",
    "def detect_err(comment):\n",
    "    try:\n",
    "        return detect(comment)\n",
    "    except:\n",
    "        return \"na\"\n",
    "\n",
    "\n",
    "reviews[\"language\"] = reviews[\"comments\"].map(detect_err)"
   ]
  },
  {
   "cell_type": "code",
   "execution_count": null,
   "metadata": {},
   "outputs": [],
   "source": [
    "# save stage\n",
    "# reviews.to_parquet(data_folder / \"reviews_clean_lang.parquet\")\n",
    "reviews = pd.read_parquet(data_folder / \"reviews_clean_lang.parquet\")"
   ]
  },
  {
   "cell_type": "code",
   "execution_count": null,
   "metadata": {},
   "outputs": [
    {
     "data": {
      "text/plain": [
       "en       1279642\n",
       "fr         69306\n",
       "es         35314\n",
       "de         23909\n",
       "it         16918\n",
       "ko         11602\n",
       "zh-cn       9163\n",
       "pt          6009\n",
       "nl          4806\n",
       "ro          2847\n",
       "Name: language, dtype: int64"
      ]
     },
     "execution_count": 130,
     "metadata": {},
     "output_type": "execute_result"
    }
   ],
   "source": [
    "reviews[\"language\"].value_counts().iloc[:10]"
   ]
  },
  {
   "cell_type": "code",
   "execution_count": 132,
   "metadata": {},
   "outputs": [],
   "source": [
    "reviews = reviews.query(\"language == 'en'\").reset_index(drop=True)"
   ]
  },
  {
   "cell_type": "code",
   "execution_count": 136,
   "metadata": {},
   "outputs": [
    {
     "data": {
      "text/plain": [
       "0.9413"
      ]
     },
     "execution_count": 136,
     "metadata": {},
     "output_type": "execute_result"
    }
   ],
   "source": [
    "from nltk.sentiment.vader import SentimentIntensityAnalyzer\n",
    "\n",
    "sia = SentimentIntensityAnalyzer()\n",
    "compund_scorer = lambda comment: (sia.polarity_scores(comment))[\"compound\"]\n",
    "compund_scorer(reviews[\"comments\"][0])"
   ]
  },
  {
   "cell_type": "code",
   "execution_count": 137,
   "metadata": {},
   "outputs": [],
   "source": [
    "reviews[\"comment_score\"] = reviews[\"comments\"].map(compund_scorer)"
   ]
  },
  {
   "cell_type": "code",
   "execution_count": 71,
   "metadata": {},
   "outputs": [],
   "source": [
    "# reviews.to_parquet(data_folder / \"reviews_sentiment.parquet\")\n",
    "reviews = pd.read_parquet(data_folder / \"reviews_sentiment.parquet\")"
   ]
  },
  {
   "cell_type": "code",
   "execution_count": 103,
   "metadata": {},
   "outputs": [
    {
     "data": {
      "text/html": [
       "<div>\n",
       "<style scoped>\n",
       "    .dataframe tbody tr th:only-of-type {\n",
       "        vertical-align: middle;\n",
       "    }\n",
       "\n",
       "    .dataframe tbody tr th {\n",
       "        vertical-align: top;\n",
       "    }\n",
       "\n",
       "    .dataframe thead th {\n",
       "        text-align: right;\n",
       "    }\n",
       "</style>\n",
       "<table border=\"1\" class=\"dataframe\">\n",
       "  <thead>\n",
       "    <tr style=\"text-align: right;\">\n",
       "      <th></th>\n",
       "      <th>listing_id</th>\n",
       "      <th>id</th>\n",
       "      <th>date</th>\n",
       "      <th>reviewer_id</th>\n",
       "      <th>reviewer_name</th>\n",
       "      <th>comments</th>\n",
       "      <th>language</th>\n",
       "      <th>comment_score</th>\n",
       "    </tr>\n",
       "  </thead>\n",
       "  <tbody>\n",
       "    <tr>\n",
       "      <th>960823</th>\n",
       "      <td>22575808</td>\n",
       "      <td>541573851</td>\n",
       "      <td>2019-10-05</td>\n",
       "      <td>146612026</td>\n",
       "      <td>Sam</td>\n",
       "      <td>SCAM ! Doesn’t exist</td>\n",
       "      <td>en</td>\n",
       "      <td>-0.6932</td>\n",
       "    </tr>\n",
       "    <tr>\n",
       "      <th>1268628</th>\n",
       "      <td>37741921</td>\n",
       "      <td>553553314</td>\n",
       "      <td>2019-10-24</td>\n",
       "      <td>100642119</td>\n",
       "      <td>Toni</td>\n",
       "      <td>Great space in a fabulous location. My kids LOVED the breakfast that was provided! Only a  few minutes walk to the L...</td>\n",
       "      <td>en</td>\n",
       "      <td>0.9250</td>\n",
       "    </tr>\n",
       "    <tr>\n",
       "      <th>99350</th>\n",
       "      <td>889540</td>\n",
       "      <td>72809657</td>\n",
       "      <td>2016-05-04</td>\n",
       "      <td>29335357</td>\n",
       "      <td>Brianna</td>\n",
       "      <td>LOCATION! This place was awesome! The flat was perfect and you're getting what you're paying for. It's fantastic. Ri...</td>\n",
       "      <td>en</td>\n",
       "      <td>0.9768</td>\n",
       "    </tr>\n",
       "    <tr>\n",
       "      <th>294478</th>\n",
       "      <td>5209535</td>\n",
       "      <td>412371030</td>\n",
       "      <td>2019-02-15</td>\n",
       "      <td>237478138</td>\n",
       "      <td>Paul</td>\n",
       "      <td>I had a lovely stay at Cliffs property, it was a clean, well appointed and thoughtfully designed space with some lov...</td>\n",
       "      <td>en</td>\n",
       "      <td>0.9781</td>\n",
       "    </tr>\n",
       "    <tr>\n",
       "      <th>543184</th>\n",
       "      <td>12896212</td>\n",
       "      <td>152794847</td>\n",
       "      <td>2017-05-18</td>\n",
       "      <td>2149086</td>\n",
       "      <td>Jo-Anne</td>\n",
       "      <td>Everything was perfect about Jee's flat. It was right in the heart of things, so easy to access from the airport and...</td>\n",
       "      <td>en</td>\n",
       "      <td>0.9947</td>\n",
       "    </tr>\n",
       "  </tbody>\n",
       "</table>\n",
       "</div>"
      ],
      "text/plain": [
       "         listing_id         id        date  reviewer_id reviewer_name  \\\n",
       "960823     22575808  541573851  2019-10-05    146612026           Sam   \n",
       "1268628    37741921  553553314  2019-10-24    100642119          Toni   \n",
       "99350        889540   72809657  2016-05-04     29335357       Brianna   \n",
       "294478      5209535  412371030  2019-02-15    237478138          Paul   \n",
       "543184     12896212  152794847  2017-05-18      2149086       Jo-Anne   \n",
       "\n",
       "                                                                                                                        comments  \\\n",
       "960823                                                                                                      SCAM ! Doesn’t exist   \n",
       "1268628  Great space in a fabulous location. My kids LOVED the breakfast that was provided! Only a  few minutes walk to the L...   \n",
       "99350    LOCATION! This place was awesome! The flat was perfect and you're getting what you're paying for. It's fantastic. Ri...   \n",
       "294478   I had a lovely stay at Cliffs property, it was a clean, well appointed and thoughtfully designed space with some lov...   \n",
       "543184   Everything was perfect about Jee's flat. It was right in the heart of things, so easy to access from the airport and...   \n",
       "\n",
       "        language  comment_score  \n",
       "960823        en        -0.6932  \n",
       "1268628       en         0.9250  \n",
       "99350         en         0.9768  \n",
       "294478        en         0.9781  \n",
       "543184        en         0.9947  "
      ]
     },
     "execution_count": 103,
     "metadata": {},
     "output_type": "execute_result"
    }
   ],
   "source": [
    "reviews.sample(5).sort_values(\"comment_score\")"
   ]
  },
  {
   "cell_type": "markdown",
   "metadata": {},
   "source": [
    "# Recommender System"
   ]
  },
  {
   "cell_type": "code",
   "execution_count": 3,
   "metadata": {},
   "outputs": [],
   "source": [
    "# TODO sample per listing id instead of generally\n",
    "reviews = pd.read_parquet(data_folder / \"reviews_sentiment.parquet\")[\n",
    "    [\"reviewer_id\", \"listing_id\", \"comment_score\"]\n",
    "]\n",
    "\n",
    "rec_df = reviews.sample(frac=0.1, random_state=7)\n",
    "rec_df[\"comment_score\"] = (rec_df[\"comment_score\"] + 1) / 2  # get rid of zeros"
   ]
  },
  {
   "cell_type": "code",
   "execution_count": 4,
   "metadata": {},
   "outputs": [
    {
     "data": {
      "text/plain": [
       "reviewer_id      123023\n",
       "listing_id        35849\n",
       "comment_score      6044\n",
       "dtype: int64"
      ]
     },
     "execution_count": 4,
     "metadata": {},
     "output_type": "execute_result"
    }
   ],
   "source": [
    "rec_df.nunique()"
   ]
  },
  {
   "cell_type": "code",
   "execution_count": 5,
   "metadata": {},
   "outputs": [],
   "source": [
    "# Need to clone funk svd manually and edit the setup.py https://github.com/gbolmier/funk-svd/tree/master\n",
    "from surprise import KNNWithMeans, Reader, Dataset, accuracy, SVD\n",
    "from surprise.model_selection import cross_validate, train_test_split"
   ]
  },
  {
   "cell_type": "code",
   "execution_count": 6,
   "metadata": {},
   "outputs": [],
   "source": [
    "reader = Reader(rating_scale=(0, 1))\n",
    "data = Dataset.load_from_df(rec_df, reader)  # .build_full_trainset()\n",
    "trainset, testset = train_test_split(data, test_size=0.25)"
   ]
  },
  {
   "cell_type": "code",
   "execution_count": 8,
   "metadata": {},
   "outputs": [
    {
     "name": "stdout",
     "output_type": "stream",
     "text": [
      "Computing the cosine similarity matrix...\n",
      "Done computing similarity matrix.\n",
      "RMSE: 0.1417\n",
      "0.14170569737512212\n"
     ]
    }
   ],
   "source": [
    "sim_options = {\n",
    "    \"name\": \"cosine\",\n",
    "    \"user_based\": False,  # Compute  similarities between items\n",
    "}\n",
    "model = KNNWithMeans(sim_options=sim_options)\n",
    "predictions = model.fit(trainset).test(testset)\n",
    "print(accuracy.rmse(predictions))"
   ]
  },
  {
   "cell_type": "code",
   "execution_count": 7,
   "metadata": {},
   "outputs": [
    {
     "name": "stdout",
     "output_type": "stream",
     "text": [
      "RMSE: 0.1411\n",
      "0.14112489482058113\n"
     ]
    }
   ],
   "source": [
    "model = SVD()\n",
    "predictions = model.fit(trainset).test(testset)\n",
    "print(accuracy.rmse(predictions))"
   ]
  },
  {
   "cell_type": "markdown",
   "metadata": {},
   "source": [
    "## ChatGPT Tagging"
   ]
  },
  {
   "cell_type": "code",
   "execution_count": 116,
   "metadata": {},
   "outputs": [
    {
     "name": "stdout",
     "output_type": "stream",
     "text": [
      "{\n",
      "  \"housing_review\": \"positive\",\n",
      "  \"location\": \"positive\",\n",
      "  \"public_transport\": \"negative\",\n",
      "  \"neighborhood\": \"positive\",\n",
      "  \"room\": \"positive\"\n",
      "}\n"
     ]
    }
   ],
   "source": [
    "import openai\n",
    "import re\n",
    "\n",
    "\n",
    "def get_sentiment(input_text):\n",
    "    prompt = f\"\"\"You are a sentiment analyser. Analyze the text.\n",
    "    Respond in the json format  {{'topic':sentiment'}}\n",
    "    There can be multiple topics for each housing review.\n",
    "    Return ONLY the json and nothing else.\n",
    "    \n",
    "    Text:'{input_text}'\"\"\"\n",
    "\n",
    "    response = openai.ChatCompletion.create(\n",
    "        model=\"gpt-3.5-turbo\",\n",
    "        messages=[{\"role\": \"user\", \"content\": prompt}],\n",
    "        max_tokens=100,\n",
    "        n=1,\n",
    "        stop=None,\n",
    "        temperature=0.5,\n",
    "    )\n",
    "    response_text = response.choices[0].message[\"content\"].strip()\n",
    "\n",
    "    return response_text\n",
    "\n",
    "\n",
    "# Test single example\n",
    "sample_text = \"\"\"Great place to stay, was perfect for the night I \n",
    "needed it during my weekend in London for visiting the city. \n",
    "It's very hard to go to the center with public transport, situated in a \n",
    "calm neighborhood and the Room is clean and comfortable\"\"\"\n",
    "\n",
    "response = get_sentiment(sample_text)\n",
    "print(response)"
   ]
  },
  {
   "cell_type": "markdown",
   "metadata": {},
   "source": [
    "# Archived trials"
   ]
  },
  {
   "cell_type": "code",
   "execution_count": 52,
   "metadata": {},
   "outputs": [
    {
     "data": {
      "text/plain": [
       "(25319, 15521)"
      ]
     },
     "execution_count": 52,
     "metadata": {},
     "output_type": "execute_result"
    }
   ],
   "source": [
    "user_listing_mat = rec_df.pivot_table(\n",
    "    index=\"reviewer_id\", columns=\"listing_id\", values=\"comment_score\"\n",
    ")\n",
    "user_listing_mat.shape"
   ]
  },
  {
   "cell_type": "code",
   "execution_count": 53,
   "metadata": {},
   "outputs": [],
   "source": [
    "userrows = list(user_listing_mat.index)\n",
    "users_index = {userrows[i]: i for i in range(len(userrows))}\n",
    "\n",
    "itemcols = list(user_listing_mat.columns)\n",
    "items_index = {itemcols[i]: i for i in range(len(itemcols))}"
   ]
  },
  {
   "cell_type": "code",
   "execution_count": 54,
   "metadata": {},
   "outputs": [],
   "source": [
    "from scipy.sparse.linalg import svds\n",
    "import numpy as np\n",
    "\n",
    "\n",
    "def recommend_predictions(df_rec, k):\n",
    "    \"\"\"\n",
    "    :param df_rec: dataframe with polarity values for known reviewer/listing pairs\n",
    "    :param k: number of features to keep for SVD\n",
    "\n",
    "    returns the dataframe with predicted polarity values for all (user,item) pairs\n",
    "    \"\"\"\n",
    "    # get utility matrix\n",
    "    util_mat = df_rec.pivot_table(\n",
    "        index=\"reviewer_id\", columns=\"listing_id\", values=\"comment_score\"\n",
    "    )\n",
    "\n",
    "    # keep track of reviewers and listings\n",
    "    reviewer_rows = list(util_mat.index)\n",
    "    users_index = {reviewer_rows[i]: i for i in range(len(reviewer_rows))}\n",
    "    listing_cols = list(util_mat.columns)\n",
    "    items_index = {listing_cols[i]: i for i in range(len(listing_cols))}\n",
    "\n",
    "    # mask NaN and remove means\n",
    "    mask = np.isnan(util_mat)\n",
    "    masked_arr = np.ma.masked_array(util_mat, mask)\n",
    "    item_means = np.mean(masked_arr, axis=0)\n",
    "    util_mat = masked_arr.filled(item_means)\n",
    "    means = np.tile(item_means, (util_mat.shape[0], 1))\n",
    "    util_mat_demeaned = util_mat - means\n",
    "\n",
    "    # run SVD\n",
    "    U, sigma, Vt = svds(util_mat_demeaned, k=k)\n",
    "    sigma = np.diag(sigma)\n",
    "    all_predicted_polarity = np.dot(np.dot(U, sigma), Vt) + means\n",
    "\n",
    "    return all_predicted_polarity, users_index, items_index"
   ]
  },
  {
   "cell_type": "code",
   "execution_count": 61,
   "metadata": {},
   "outputs": [],
   "source": [
    "pred, _, _ = recommend_predictions(rec_df, k=25)"
   ]
  },
  {
   "cell_type": "code",
   "execution_count": 62,
   "metadata": {},
   "outputs": [],
   "source": [
    "# evaluate on known reviewer-listing pairs\n",
    "\n",
    "this_pred = []  # to store the predicted ratings\n",
    "for i, row in rec_df.iterrows():\n",
    "    user = row[\"reviewer_id\"]\n",
    "    item = row[\"listing_id\"]\n",
    "\n",
    "    try:\n",
    "        u_index = users_index[user]\n",
    "        if item in items_index:\n",
    "            i_index = items_index[item]\n",
    "            pred_rating = predicted_scores[u_index, i_index]\n",
    "        else:\n",
    "            pred_rating = np.mean(svdout[u_index, :])\n",
    "        this_pred.append(pred_rating)\n",
    "\n",
    "    except:\n",
    "        print(\"error with user\", user, \"at index\", i)"
   ]
  },
  {
   "cell_type": "code",
   "execution_count": 63,
   "metadata": {},
   "outputs": [
    {
     "name": "stdout",
     "output_type": "stream",
     "text": [
      "0.1479933619716791\n"
     ]
    }
   ],
   "source": [
    "from sklearn.metrics import mean_squared_error\n",
    "\n",
    "rmse = np.sqrt(mean_squared_error(rec_df[\"comment_score\"], this_pred))\n",
    "print(rmse)"
   ]
  },
  {
   "cell_type": "code",
   "execution_count": 64,
   "metadata": {},
   "outputs": [
    {
     "name": "stdout",
     "output_type": "stream",
     "text": [
      "10 0.1525856784649185\n",
      "25 0.1479933619716791\n",
      "40 0.14393227628284896\n",
      "50 0.1414792097088569\n"
     ]
    }
   ],
   "source": [
    "no_of_features = [10, 25, 40, 50]\n",
    "rmse = []\n",
    "\n",
    "for k in no_of_features:\n",
    "    pred_out, _, _ = recommend_predictions(rec_df, k=k)\n",
    "\n",
    "    this_pred = []\n",
    "    for i, row in rec_df.iterrows():\n",
    "        user = row[\"reviewer_id\"]\n",
    "        item = row[\"listing_id\"]\n",
    "\n",
    "        try:\n",
    "            u_index = users_index[user]\n",
    "            if item in items_index:\n",
    "                i_index = items_index[item]\n",
    "                pred_rating = pred_out[u_index, i_index]\n",
    "            else:\n",
    "                pred_rating = np.mean(svdout[u_index, :])\n",
    "            this_pred.append(pred_rating)\n",
    "\n",
    "        except:\n",
    "            print(\"error with user\", user, \"at index\", i)\n",
    "            continue\n",
    "\n",
    "    rmse_i = np.sqrt(mean_squared_error(rec_df[\"comment_score\"], this_pred))\n",
    "    rmse.append(rmse_i)\n",
    "\n",
    "    print(k, rmse_i)"
   ]
  },
  {
   "cell_type": "markdown",
   "metadata": {},
   "source": [
    "### FUNK SVD"
   ]
  },
  {
   "cell_type": "code",
   "execution_count": 45,
   "metadata": {},
   "outputs": [
    {
     "data": {
      "text/plain": [
       "reviewer_id      562688\n",
       "listing_id        56795\n",
       "comment_score     12189\n",
       "dtype: int64"
      ]
     },
     "execution_count": 45,
     "metadata": {},
     "output_type": "execute_result"
    }
   ],
   "source": [
    "reviews = pd.read_parquet(data_folder / \"reviews_sentiment.parquet\").sample(\n",
    "    frac=0.5, random_state=7\n",
    ")  # TODO sample per listing id instead of generally\n",
    "rec_df = reviews[[\"reviewer_id\", \"listing_id\", \"comment_score\"]]\n",
    "rec_df.nunique()"
   ]
  },
  {
   "cell_type": "code",
   "execution_count": 65,
   "metadata": {},
   "outputs": [
    {
     "name": "stdout",
     "output_type": "stream",
     "text": [
      "Preprocessing data...\n",
      "\n",
      "Preprocessing data...\n",
      "\n",
      "Epoch 1/100  | val_loss: 0.08 - val_rmse: 0.28 - val_mae: 0.18 - took 0.0 sec\n",
      "Epoch 2/100  | val_loss: 0.08 - val_rmse: 0.28 - val_mae: 0.18 - took 0.0 sec\n",
      "\n",
      "Training took 0 sec\n"
     ]
    }
   ],
   "source": [
    "# Need to clone funk svd manually and edit the setup.py https://github.com/gbolmier/funk-svd/tree/master\n",
    "from funk_svd import SVD\n",
    "\n",
    "\n",
    "X = rec_df.copy(deep=True)\n",
    "X.columns = [\"u_id\", \"i_id\", \"rating\"]\n",
    "\n",
    "train = X.sample(frac=0.8, random_state=7)\n",
    "val = X.drop(train.index.tolist()).sample(frac=0.5, random_state=8)\n",
    "test = X.drop(train.index.tolist()).drop(val.index.tolist())\n",
    "\n",
    "\n",
    "svd = SVD(\n",
    "    lr=0.001,\n",
    "    reg=0.005,\n",
    "    n_epochs=100,\n",
    "    n_factors=50,\n",
    "    early_stopping=True,\n",
    "    shuffle=False,\n",
    "    min_rating=-1,\n",
    "    max_rating=1,\n",
    ")\n",
    "\n",
    "svd.fit(X=train, X_val=val)\n",
    "\n",
    "pred = svd.predict(test)\n",
    "\n",
    "rmse = np.sqrt(mean_squared_error(test[\"rating\"], pred))"
   ]
  }
 ],
 "metadata": {
  "kernelspec": {
   "display_name": "dev",
   "language": "python",
   "name": "python3"
  },
  "language_info": {
   "codemirror_mode": {
    "name": "ipython",
    "version": 3
   },
   "file_extension": ".py",
   "mimetype": "text/x-python",
   "name": "python",
   "nbconvert_exporter": "python",
   "pygments_lexer": "ipython3",
   "version": "3.10.12"
  },
  "orig_nbformat": 4
 },
 "nbformat": 4,
 "nbformat_minor": 2
}
