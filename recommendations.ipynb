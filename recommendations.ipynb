{
 "cells": [
  {
   "cell_type": "code",
   "execution_count": 2,
   "metadata": {},
   "outputs": [],
   "source": [
    "import pandas as pd\n",
    "\n",
    "pd.set_option(\"display.max_colwidth\", 120)\n",
    "\n",
    "from pathlib import Path\n",
    "\n",
    "data_folder = Path(\"./data/recommendations/\")"
   ]
  },
  {
   "cell_type": "code",
   "execution_count": 45,
   "metadata": {},
   "outputs": [],
   "source": [
    "calendar_raw = pd.read_csv(data_folder / \"calendar.csv\")\n",
    "neighbourhoods_raw = pd.read_csv(data_folder / \"neighbourhoods.csv\")\n",
    "reviews_summary_raw = pd.read_csv(data_folder / \"reviews_summary.csv\")\n",
    "listings_raw = pd.read_csv(data_folder / \"listings.csv\", low_memory=False)\n",
    "listings_summary_raw = pd.read_csv(data_folder / \"listings_summary.csv\")\n",
    "reviews_raw = pd.read_csv(data_folder / \"reviews.csv\")"
   ]
  },
  {
   "cell_type": "code",
   "execution_count": 2,
   "metadata": {},
   "outputs": [],
   "source": [
    "import geojson\n",
    "\n",
    "with open(data_folder / \"neighbourhoods.geojson\") as f:\n",
    "    neighbourhoods_gj = geojson.load(f)"
   ]
  },
  {
   "cell_type": "markdown",
   "metadata": {},
   "source": [
    "## Analyze reviews"
   ]
  },
  {
   "cell_type": "code",
   "execution_count": 68,
   "metadata": {},
   "outputs": [
    {
     "ename": "NameError",
     "evalue": "name 'reviews_raw' is not defined",
     "output_type": "error",
     "traceback": [
      "\u001b[0;31m---------------------------------------------------------------------------\u001b[0m",
      "\u001b[0;31mNameError\u001b[0m                                 Traceback (most recent call last)",
      "Cell \u001b[0;32mIn[68], line 1\u001b[0m\n\u001b[0;32m----> 1\u001b[0m reviews_raw\u001b[39m.\u001b[39mshape\n",
      "\u001b[0;31mNameError\u001b[0m: name 'reviews_raw' is not defined"
     ]
    }
   ],
   "source": [
    "reviews_raw.shape"
   ]
  },
  {
   "cell_type": "code",
   "execution_count": 109,
   "metadata": {},
   "outputs": [],
   "source": [
    "# clean reivews\n",
    "import re\n",
    "\n",
    "reviews = reviews_raw[\n",
    "    ~reviews_raw[\"comments\"].str.match(\"host canceled this reservation\").fillna(True)\n",
    "].reset_index(\n",
    "    drop=True\n",
    ")  # remove cancelled\n",
    "reviews[\"comments\"] = (\n",
    "    reviews[\"comments\"].map(lambda x: re.sub(\"\\w*\\d\\w*\", \" \", x)).reset_index(drop=True)\n",
    ")  # remove numbers"
   ]
  },
  {
   "cell_type": "code",
   "execution_count": 117,
   "metadata": {},
   "outputs": [],
   "source": [
    "reviews = reviews.dropna(subset=[\"comments\"]).reset_index(drop=True)\n",
    "\n",
    "\n",
    "reviews[\"comments\"] = (\n",
    "    reviews[\"comments\"]\n",
    "    .str.replace(\"\\n\", \" \")\n",
    "    .str.replace(\"\\t\", \" \")\n",
    "    .replace(\"!\", \"\")\n",
    "    .str.strip(\n",
    "        \"\\\" \\n \\t ! # % ' ( ) * + \\r . , - / : ; < > ｡ = ? &\"\n",
    "    )  # remove all symbol-only chars\n",
    ").reset_index(drop=True)\n",
    "reviews[\"comments\"] = reviews[\"comments\"].replace(\"\", pd.NA)\n",
    "reviews[\"comments\"] = reviews[\"comments\"][\n",
    "    ~reviews[\"comments\"].map(lambda x: len(x) < 5).reset_index(drop=True)\n",
    "]\n",
    "reviews = reviews.dropna(subset=[\"comments\"]).reset_index(drop=True)"
   ]
  },
  {
   "cell_type": "code",
   "execution_count": 115,
   "metadata": {},
   "outputs": [
    {
     "data": {
      "text/plain": [
       "(1479564, 6)"
      ]
     },
     "execution_count": 115,
     "metadata": {},
     "output_type": "execute_result"
    }
   ],
   "source": [
    "reviews.shape"
   ]
  },
  {
   "cell_type": "code",
   "execution_count": 122,
   "metadata": {},
   "outputs": [],
   "source": [
    "from langdetect import detect\n",
    "\n",
    "\n",
    "def detect_err(comment):\n",
    "    try:\n",
    "        return detect(comment)\n",
    "    except:\n",
    "        return \"na\"\n",
    "\n",
    "\n",
    "reviews[\"language\"] = reviews[\"comments\"].map(detect_err)"
   ]
  },
  {
   "cell_type": "code",
   "execution_count": 126,
   "metadata": {},
   "outputs": [
    {
     "data": {
      "text/html": [
       "<div>\n",
       "<style scoped>\n",
       "    .dataframe tbody tr th:only-of-type {\n",
       "        vertical-align: middle;\n",
       "    }\n",
       "\n",
       "    .dataframe tbody tr th {\n",
       "        vertical-align: top;\n",
       "    }\n",
       "\n",
       "    .dataframe thead th {\n",
       "        text-align: right;\n",
       "    }\n",
       "</style>\n",
       "<table border=\"1\" class=\"dataframe\">\n",
       "  <thead>\n",
       "    <tr style=\"text-align: right;\">\n",
       "      <th></th>\n",
       "      <th>listing_id</th>\n",
       "      <th>id</th>\n",
       "      <th>date</th>\n",
       "      <th>reviewer_id</th>\n",
       "      <th>reviewer_name</th>\n",
       "      <th>comments</th>\n",
       "      <th>language</th>\n",
       "    </tr>\n",
       "  </thead>\n",
       "  <tbody>\n",
       "    <tr>\n",
       "      <th>0</th>\n",
       "      <td>11551</td>\n",
       "      <td>30672</td>\n",
       "      <td>2010-03-21</td>\n",
       "      <td>93896</td>\n",
       "      <td>Shar-Lyn</td>\n",
       "      <td>The flat was bright, comfortable and clean and...</td>\n",
       "      <td>en</td>\n",
       "    </tr>\n",
       "    <tr>\n",
       "      <th>1</th>\n",
       "      <td>11551</td>\n",
       "      <td>32236</td>\n",
       "      <td>2010-03-29</td>\n",
       "      <td>97890</td>\n",
       "      <td>Zane</td>\n",
       "      <td>We stayed with Adriano and Valerio for a week ...</td>\n",
       "      <td>en</td>\n",
       "    </tr>\n",
       "    <tr>\n",
       "      <th>2</th>\n",
       "      <td>90700</td>\n",
       "      <td>337227</td>\n",
       "      <td>2011-06-27</td>\n",
       "      <td>311071</td>\n",
       "      <td>Miqua</td>\n",
       "      <td>it was all in all the perfect week!\\r chilton ...</td>\n",
       "      <td>en</td>\n",
       "    </tr>\n",
       "    <tr>\n",
       "      <th>3</th>\n",
       "      <td>90700</td>\n",
       "      <td>378738</td>\n",
       "      <td>2011-07-17</td>\n",
       "      <td>224367</td>\n",
       "      <td>Prateek</td>\n",
       "      <td>I'll start with the host, and then move on to ...</td>\n",
       "      <td>en</td>\n",
       "    </tr>\n",
       "    <tr>\n",
       "      <th>4</th>\n",
       "      <td>90700</td>\n",
       "      <td>543840</td>\n",
       "      <td>2011-09-18</td>\n",
       "      <td>1115024</td>\n",
       "      <td>Jennifer</td>\n",
       "      <td>Great location. Plenty to do just steps outsid...</td>\n",
       "      <td>en</td>\n",
       "    </tr>\n",
       "    <tr>\n",
       "      <th>...</th>\n",
       "      <td>...</td>\n",
       "      <td>...</td>\n",
       "      <td>...</td>\n",
       "      <td>...</td>\n",
       "      <td>...</td>\n",
       "      <td>...</td>\n",
       "      <td>...</td>\n",
       "    </tr>\n",
       "    <tr>\n",
       "      <th>1479559</th>\n",
       "      <td>39740287</td>\n",
       "      <td>559509688</td>\n",
       "      <td>2019-11-04</td>\n",
       "      <td>182032644</td>\n",
       "      <td>Isabel</td>\n",
       "      <td>A very good stay, I would repeat for sure</td>\n",
       "      <td>en</td>\n",
       "    </tr>\n",
       "    <tr>\n",
       "      <th>1479560</th>\n",
       "      <td>22701498</td>\n",
       "      <td>558667202</td>\n",
       "      <td>2019-11-03</td>\n",
       "      <td>65955902</td>\n",
       "      <td>Shereen</td>\n",
       "      <td>Set in a lovely development with onsite bar, c...</td>\n",
       "      <td>en</td>\n",
       "    </tr>\n",
       "    <tr>\n",
       "      <th>1479561</th>\n",
       "      <td>38398365</td>\n",
       "      <td>552239161</td>\n",
       "      <td>2019-10-21</td>\n",
       "      <td>60436496</td>\n",
       "      <td>Chee Ling</td>\n",
       "      <td>Website hidden by Airbnb) a.best owner and gen...</td>\n",
       "      <td>en</td>\n",
       "    </tr>\n",
       "    <tr>\n",
       "      <th>1479562</th>\n",
       "      <td>38398365</td>\n",
       "      <td>559541617</td>\n",
       "      <td>2019-11-04</td>\n",
       "      <td>97684167</td>\n",
       "      <td>Carolyn</td>\n",
       "      <td>This flat is perfection! Everything you need i...</td>\n",
       "      <td>en</td>\n",
       "    </tr>\n",
       "    <tr>\n",
       "      <th>1479563</th>\n",
       "      <td>39836317</td>\n",
       "      <td>559576331</td>\n",
       "      <td>2019-11-04</td>\n",
       "      <td>52497809</td>\n",
       "      <td>Aniello</td>\n",
       "      <td>You can expect to be staying is a very nice lo...</td>\n",
       "      <td>en</td>\n",
       "    </tr>\n",
       "  </tbody>\n",
       "</table>\n",
       "<p>1479564 rows × 7 columns</p>\n",
       "</div>"
      ],
      "text/plain": [
       "         listing_id         id        date  reviewer_id reviewer_name  \\\n",
       "0             11551      30672  2010-03-21        93896      Shar-Lyn   \n",
       "1             11551      32236  2010-03-29        97890          Zane   \n",
       "2             90700     337227  2011-06-27       311071         Miqua   \n",
       "3             90700     378738  2011-07-17       224367       Prateek   \n",
       "4             90700     543840  2011-09-18      1115024      Jennifer   \n",
       "...             ...        ...         ...          ...           ...   \n",
       "1479559    39740287  559509688  2019-11-04    182032644        Isabel   \n",
       "1479560    22701498  558667202  2019-11-03     65955902       Shereen   \n",
       "1479561    38398365  552239161  2019-10-21     60436496     Chee Ling   \n",
       "1479562    38398365  559541617  2019-11-04     97684167       Carolyn   \n",
       "1479563    39836317  559576331  2019-11-04     52497809       Aniello   \n",
       "\n",
       "                                                  comments language  \n",
       "0        The flat was bright, comfortable and clean and...       en  \n",
       "1        We stayed with Adriano and Valerio for a week ...       en  \n",
       "2        it was all in all the perfect week!\\r chilton ...       en  \n",
       "3        I'll start with the host, and then move on to ...       en  \n",
       "4        Great location. Plenty to do just steps outsid...       en  \n",
       "...                                                    ...      ...  \n",
       "1479559          A very good stay, I would repeat for sure       en  \n",
       "1479560  Set in a lovely development with onsite bar, c...       en  \n",
       "1479561  Website hidden by Airbnb) a.best owner and gen...       en  \n",
       "1479562  This flat is perfection! Everything you need i...       en  \n",
       "1479563  You can expect to be staying is a very nice lo...       en  \n",
       "\n",
       "[1479564 rows x 7 columns]"
      ]
     },
     "execution_count": 126,
     "metadata": {},
     "output_type": "execute_result"
    }
   ],
   "source": [
    "reviews"
   ]
  },
  {
   "cell_type": "code",
   "execution_count": 124,
   "metadata": {},
   "outputs": [],
   "source": [
    "# save stage\n",
    "reviews.to_parquet(data_folder / \"reviews_clean_lang.parquet\")"
   ]
  },
  {
   "cell_type": "code",
   "execution_count": 130,
   "metadata": {},
   "outputs": [
    {
     "data": {
      "text/plain": [
       "en       1279642\n",
       "fr         69306\n",
       "es         35314\n",
       "de         23909\n",
       "it         16918\n",
       "ko         11602\n",
       "zh-cn       9163\n",
       "pt          6009\n",
       "nl          4806\n",
       "ro          2847\n",
       "Name: language, dtype: int64"
      ]
     },
     "execution_count": 130,
     "metadata": {},
     "output_type": "execute_result"
    }
   ],
   "source": [
    "reviews[\"language\"].value_counts().iloc[:10]"
   ]
  },
  {
   "cell_type": "code",
   "execution_count": 132,
   "metadata": {},
   "outputs": [],
   "source": [
    "reviews = reviews.query(\"language == 'en'\").reset_index(drop=True)"
   ]
  },
  {
   "cell_type": "code",
   "execution_count": 136,
   "metadata": {},
   "outputs": [
    {
     "data": {
      "text/plain": [
       "0.9413"
      ]
     },
     "execution_count": 136,
     "metadata": {},
     "output_type": "execute_result"
    }
   ],
   "source": [
    "from nltk.sentiment.vader import SentimentIntensityAnalyzer\n",
    "\n",
    "sia = SentimentIntensityAnalyzer()\n",
    "compund_scorer = lambda comment: (sia.polarity_scores(comment))[\"compound\"]\n",
    "compund_scorer(reviews[\"comments\"][0])"
   ]
  },
  {
   "cell_type": "code",
   "execution_count": 137,
   "metadata": {},
   "outputs": [],
   "source": [
    "reviews[\"comment_score\"] = reviews[\"comments\"].map(compund_scorer)"
   ]
  },
  {
   "cell_type": "code",
   "execution_count": 138,
   "metadata": {},
   "outputs": [],
   "source": [
    "reviews.to_parquet(data_folder / \"reviews_sentiment.parquet\")"
   ]
  },
  {
   "cell_type": "code",
   "execution_count": 146,
   "metadata": {},
   "outputs": [
    {
     "data": {
      "text/html": [
       "<div>\n",
       "<style scoped>\n",
       "    .dataframe tbody tr th:only-of-type {\n",
       "        vertical-align: middle;\n",
       "    }\n",
       "\n",
       "    .dataframe tbody tr th {\n",
       "        vertical-align: top;\n",
       "    }\n",
       "\n",
       "    .dataframe thead th {\n",
       "        text-align: right;\n",
       "    }\n",
       "</style>\n",
       "<table border=\"1\" class=\"dataframe\">\n",
       "  <thead>\n",
       "    <tr style=\"text-align: right;\">\n",
       "      <th></th>\n",
       "      <th>listing_id</th>\n",
       "      <th>id</th>\n",
       "      <th>date</th>\n",
       "      <th>reviewer_id</th>\n",
       "      <th>reviewer_name</th>\n",
       "      <th>comments</th>\n",
       "      <th>language</th>\n",
       "      <th>comment_score</th>\n",
       "    </tr>\n",
       "  </thead>\n",
       "  <tbody>\n",
       "    <tr>\n",
       "      <th>611193</th>\n",
       "      <td>14629530</td>\n",
       "      <td>407511297</td>\n",
       "      <td>2019-02-02</td>\n",
       "      <td>8258215</td>\n",
       "      <td>Salva</td>\n",
       "      <td>I don't like writing bad reviews. And this is probably the first one I write on AirBnB. And judging by M&amp;B's track r...</td>\n",
       "      <td>en</td>\n",
       "      <td>-0.9985</td>\n",
       "    </tr>\n",
       "    <tr>\n",
       "      <th>1216944</th>\n",
       "      <td>33651970</td>\n",
       "      <td>463925992</td>\n",
       "      <td>2019-06-04</td>\n",
       "      <td>111616612</td>\n",
       "      <td>Emi</td>\n",
       "      <td>Avoid this place !!!!!******* The host left me waiting in the street for   hours while he is having dinner !!  Didn'...</td>\n",
       "      <td>en</td>\n",
       "      <td>-0.9982</td>\n",
       "    </tr>\n",
       "    <tr>\n",
       "      <th>559770</th>\n",
       "      <td>13422066</td>\n",
       "      <td>425474758</td>\n",
       "      <td>2019-03-18</td>\n",
       "      <td>153775364</td>\n",
       "      <td>Mark</td>\n",
       "      <td>Nicholas and Emilie are great hosts by all accounts but we only dealt with their lettings agency and unfortunately e...</td>\n",
       "      <td>en</td>\n",
       "      <td>-0.9981</td>\n",
       "    </tr>\n",
       "    <tr>\n",
       "      <th>637794</th>\n",
       "      <td>15161649</td>\n",
       "      <td>338693750</td>\n",
       "      <td>2018-10-20</td>\n",
       "      <td>2514709</td>\n",
       "      <td>Debbie Omkari</td>\n",
       "      <td>When I arived at the property, the host thought I had  got the day wrong as I had made an alteration. But I knew I w...</td>\n",
       "      <td>en</td>\n",
       "      <td>-0.9979</td>\n",
       "    </tr>\n",
       "    <tr>\n",
       "      <th>543367</th>\n",
       "      <td>12896220</td>\n",
       "      <td>483328502</td>\n",
       "      <td>2019-07-07</td>\n",
       "      <td>74921010</td>\n",
       "      <td>Will</td>\n",
       "      <td>What can I say?  The pictures look great, but the place is not.  It's tiny, unsafe, loud, and most of the appliances...</td>\n",
       "      <td>en</td>\n",
       "      <td>-0.9979</td>\n",
       "    </tr>\n",
       "    <tr>\n",
       "      <th>...</th>\n",
       "      <td>...</td>\n",
       "      <td>...</td>\n",
       "      <td>...</td>\n",
       "      <td>...</td>\n",
       "      <td>...</td>\n",
       "      <td>...</td>\n",
       "      <td>...</td>\n",
       "      <td>...</td>\n",
       "    </tr>\n",
       "    <tr>\n",
       "      <th>242163</th>\n",
       "      <td>3982582</td>\n",
       "      <td>467285810</td>\n",
       "      <td>2019-06-10</td>\n",
       "      <td>122814336</td>\n",
       "      <td>Andy</td>\n",
       "      <td>We had a wonderful time staying in Philip and Euardo's gorgeous London flat. It is beautiful and spacious as it look...</td>\n",
       "      <td>en</td>\n",
       "      <td>0.9996</td>\n",
       "    </tr>\n",
       "    <tr>\n",
       "      <th>21313</th>\n",
       "      <td>198279</td>\n",
       "      <td>61428195</td>\n",
       "      <td>2016-02-04</td>\n",
       "      <td>15743934</td>\n",
       "      <td>Rob</td>\n",
       "      <td>I had an amazing time in London and big part of that was thanks to Radhika &amp; Lorenzo. That made me feel welcome from...</td>\n",
       "      <td>en</td>\n",
       "      <td>0.9996</td>\n",
       "    </tr>\n",
       "    <tr>\n",
       "      <th>103507</th>\n",
       "      <td>970650</td>\n",
       "      <td>510515365</td>\n",
       "      <td>2019-08-16</td>\n",
       "      <td>190909789</td>\n",
       "      <td>Steffi</td>\n",
       "      <td>I have been staying a whole week at Hazel's and it was truly the best that could have happened to me. right after st...</td>\n",
       "      <td>en</td>\n",
       "      <td>0.9996</td>\n",
       "    </tr>\n",
       "    <tr>\n",
       "      <th>1045740</th>\n",
       "      <td>25339365</td>\n",
       "      <td>338389654</td>\n",
       "      <td>2018-10-19</td>\n",
       "      <td>173390041</td>\n",
       "      <td>Priya</td>\n",
       "      <td>We are so lucky to have found Alice’s home available for the time and where we needed.  Alice graciously accommodate...</td>\n",
       "      <td>en</td>\n",
       "      <td>0.9997</td>\n",
       "    </tr>\n",
       "    <tr>\n",
       "      <th>887165</th>\n",
       "      <td>20798934</td>\n",
       "      <td>361773162</td>\n",
       "      <td>2018-12-24</td>\n",
       "      <td>70850352</td>\n",
       "      <td>Abbie</td>\n",
       "      <td>Where do I even start. Staying with the Main family for my study abroad was the best decision I have ever made. They...</td>\n",
       "      <td>en</td>\n",
       "      <td>0.9997</td>\n",
       "    </tr>\n",
       "  </tbody>\n",
       "</table>\n",
       "<p>1279642 rows × 8 columns</p>\n",
       "</div>"
      ],
      "text/plain": [
       "         listing_id         id        date  reviewer_id  reviewer_name  \\\n",
       "611193     14629530  407511297  2019-02-02      8258215          Salva   \n",
       "1216944    33651970  463925992  2019-06-04    111616612            Emi   \n",
       "559770     13422066  425474758  2019-03-18    153775364           Mark   \n",
       "637794     15161649  338693750  2018-10-20      2514709  Debbie Omkari   \n",
       "543367     12896220  483328502  2019-07-07     74921010           Will   \n",
       "...             ...        ...         ...          ...            ...   \n",
       "242163      3982582  467285810  2019-06-10    122814336           Andy   \n",
       "21313        198279   61428195  2016-02-04     15743934            Rob   \n",
       "103507       970650  510515365  2019-08-16    190909789         Steffi   \n",
       "1045740    25339365  338389654  2018-10-19    173390041          Priya   \n",
       "887165     20798934  361773162  2018-12-24     70850352          Abbie   \n",
       "\n",
       "                                                                                                                        comments  \\\n",
       "611193   I don't like writing bad reviews. And this is probably the first one I write on AirBnB. And judging by M&B's track r...   \n",
       "1216944  Avoid this place !!!!!******* The host left me waiting in the street for   hours while he is having dinner !!  Didn'...   \n",
       "559770   Nicholas and Emilie are great hosts by all accounts but we only dealt with their lettings agency and unfortunately e...   \n",
       "637794   When I arived at the property, the host thought I had  got the day wrong as I had made an alteration. But I knew I w...   \n",
       "543367   What can I say?  The pictures look great, but the place is not.  It's tiny, unsafe, loud, and most of the appliances...   \n",
       "...                                                                                                                          ...   \n",
       "242163   We had a wonderful time staying in Philip and Euardo's gorgeous London flat. It is beautiful and spacious as it look...   \n",
       "21313    I had an amazing time in London and big part of that was thanks to Radhika & Lorenzo. That made me feel welcome from...   \n",
       "103507   I have been staying a whole week at Hazel's and it was truly the best that could have happened to me. right after st...   \n",
       "1045740  We are so lucky to have found Alice’s home available for the time and where we needed.  Alice graciously accommodate...   \n",
       "887165   Where do I even start. Staying with the Main family for my study abroad was the best decision I have ever made. They...   \n",
       "\n",
       "        language  comment_score  \n",
       "611193        en        -0.9985  \n",
       "1216944       en        -0.9982  \n",
       "559770        en        -0.9981  \n",
       "637794        en        -0.9979  \n",
       "543367        en        -0.9979  \n",
       "...          ...            ...  \n",
       "242163        en         0.9996  \n",
       "21313         en         0.9996  \n",
       "103507        en         0.9996  \n",
       "1045740       en         0.9997  \n",
       "887165        en         0.9997  \n",
       "\n",
       "[1279642 rows x 8 columns]"
      ]
     },
     "execution_count": 146,
     "metadata": {},
     "output_type": "execute_result"
    }
   ],
   "source": [
    "reviews.sort_values(\"comment_score\")"
   ]
  },
  {
   "cell_type": "markdown",
   "metadata": {},
   "source": [
    "# RecSys"
   ]
  },
  {
   "cell_type": "code",
   "execution_count": 46,
   "metadata": {},
   "outputs": [],
   "source": [
    "# TODO sample per listing id instead of generally\n",
    "reviews = pd.read_parquet(data_folder / \"reviews_sentiment.parquet\")[\n",
    "    [\"reviewer_id\", \"listing_id\", \"comment_score\"]\n",
    "]\n",
    "\n",
    "rec_df = reviews.sample(frac=0.1, random_state=7)\n",
    "rec_df[\"comment_score\"] = (rec_df[\"comment_score\"] + 1) / 2  # get rid of zeros"
   ]
  },
  {
   "cell_type": "code",
   "execution_count": 47,
   "metadata": {},
   "outputs": [
    {
     "data": {
      "text/plain": [
       "reviewer_id      123023\n",
       "listing_id        35849\n",
       "comment_score      6044\n",
       "dtype: int64"
      ]
     },
     "execution_count": 47,
     "metadata": {},
     "output_type": "execute_result"
    }
   ],
   "source": [
    "rec_df.nunique()"
   ]
  },
  {
   "cell_type": "code",
   "execution_count": 48,
   "metadata": {},
   "outputs": [
    {
     "data": {
      "text/plain": [
       "<surprise.dataset.DatasetAutoFolds at 0x14006c760>"
      ]
     },
     "execution_count": 48,
     "metadata": {},
     "output_type": "execute_result"
    }
   ],
   "source": [
    "data"
   ]
  },
  {
   "cell_type": "code",
   "execution_count": 49,
   "metadata": {},
   "outputs": [
    {
     "name": "stdout",
     "output_type": "stream",
     "text": [
      "Computing the cosine similarity matrix...\n",
      "Done computing similarity matrix.\n"
     ]
    },
    {
     "data": {
      "text/plain": [
       "<surprise.prediction_algorithms.knns.KNNWithMeans at 0x140193cd0>"
      ]
     },
     "execution_count": 49,
     "metadata": {},
     "output_type": "execute_result"
    }
   ],
   "source": [
    "# Need to clone funk svd manually and edit the setup.py https://github.com/gbolmier/funk-svd/tree/master\n",
    "from surprise import KNNWithMeans, Reader, Dataset, accuracy\n",
    "from surprise.model_selection import cross_validate, train_test_split\n",
    "\n",
    "reader = Reader(rating_scale=(0, 1))\n",
    "data = Dataset.load_from_df(rec_df, reader)  # .build_full_trainset()\n",
    "trainset, testset = train_test_split(data, test_size=0.25)\n",
    "\n",
    "sim_options = {\n",
    "    \"name\": \"cosine\",\n",
    "    \"user_based\": False,  # Compute  similarities between items\n",
    "}\n",
    "model = KNNWithMeans(sim_options=sim_options)\n",
    "predictions = model.fit(trainset).test(testset)\n",
    "print(accuracy.rmse(predictions))"
   ]
  },
  {
   "cell_type": "code",
   "execution_count": 51,
   "metadata": {},
   "outputs": [],
   "source": []
  },
  {
   "cell_type": "code",
   "execution_count": 52,
   "metadata": {},
   "outputs": [
    {
     "name": "stdout",
     "output_type": "stream",
     "text": [
      "RMSE: 0.1431\n"
     ]
    },
    {
     "data": {
      "text/plain": [
       "0.14311728839882143"
      ]
     },
     "execution_count": 52,
     "metadata": {},
     "output_type": "execute_result"
    }
   ],
   "source": []
  },
  {
   "cell_type": "code",
   "execution_count": null,
   "metadata": {},
   "outputs": [],
   "source": []
  },
  {
   "cell_type": "code",
   "execution_count": null,
   "metadata": {},
   "outputs": [],
   "source": []
  },
  {
   "cell_type": "code",
   "execution_count": null,
   "metadata": {},
   "outputs": [],
   "source": []
  },
  {
   "cell_type": "code",
   "execution_count": null,
   "metadata": {},
   "outputs": [],
   "source": []
  },
  {
   "cell_type": "code",
   "execution_count": null,
   "metadata": {},
   "outputs": [],
   "source": []
  },
  {
   "cell_type": "code",
   "execution_count": 52,
   "metadata": {},
   "outputs": [
    {
     "data": {
      "text/plain": [
       "(25319, 15521)"
      ]
     },
     "execution_count": 52,
     "metadata": {},
     "output_type": "execute_result"
    }
   ],
   "source": [
    "user_listing_mat = rec_df.pivot_table(\n",
    "    index=\"reviewer_id\", columns=\"listing_id\", values=\"comment_score\"\n",
    ")\n",
    "user_listing_mat.shape"
   ]
  },
  {
   "cell_type": "code",
   "execution_count": 53,
   "metadata": {},
   "outputs": [],
   "source": [
    "userrows = list(user_listing_mat.index)\n",
    "users_index = {userrows[i]: i for i in range(len(userrows))}\n",
    "\n",
    "itemcols = list(user_listing_mat.columns)\n",
    "items_index = {itemcols[i]: i for i in range(len(itemcols))}"
   ]
  },
  {
   "cell_type": "code",
   "execution_count": 54,
   "metadata": {},
   "outputs": [],
   "source": [
    "from scipy.sparse.linalg import svds\n",
    "import numpy as np\n",
    "\n",
    "\n",
    "def recommend_predictions(df_rec, k):\n",
    "    \"\"\"\n",
    "    :param df_rec: dataframe with polarity values for known reviewer/listing pairs\n",
    "    :param k: number of features to keep for SVD\n",
    "\n",
    "    returns the dataframe with predicted polarity values for all (user,item) pairs\n",
    "    \"\"\"\n",
    "    # get utility matrix\n",
    "    util_mat = df_rec.pivot_table(\n",
    "        index=\"reviewer_id\", columns=\"listing_id\", values=\"comment_score\"\n",
    "    )\n",
    "\n",
    "    # keep track of reviewers and listings\n",
    "    reviewer_rows = list(util_mat.index)\n",
    "    users_index = {reviewer_rows[i]: i for i in range(len(reviewer_rows))}\n",
    "    listing_cols = list(util_mat.columns)\n",
    "    items_index = {listing_cols[i]: i for i in range(len(listing_cols))}\n",
    "\n",
    "    # mask NaN and remove means\n",
    "    mask = np.isnan(util_mat)\n",
    "    masked_arr = np.ma.masked_array(util_mat, mask)\n",
    "    item_means = np.mean(masked_arr, axis=0)\n",
    "    util_mat = masked_arr.filled(item_means)\n",
    "    means = np.tile(item_means, (util_mat.shape[0], 1))\n",
    "    util_mat_demeaned = util_mat - means\n",
    "\n",
    "    # run SVD\n",
    "    U, sigma, Vt = svds(util_mat_demeaned, k=k)\n",
    "    sigma = np.diag(sigma)\n",
    "    all_predicted_polarity = np.dot(np.dot(U, sigma), Vt) + means\n",
    "\n",
    "    return all_predicted_polarity, users_index, items_index"
   ]
  },
  {
   "cell_type": "code",
   "execution_count": 61,
   "metadata": {},
   "outputs": [],
   "source": [
    "pred, _, _ = recommend_predictions(rec_df, k=25)"
   ]
  },
  {
   "cell_type": "code",
   "execution_count": 62,
   "metadata": {},
   "outputs": [],
   "source": [
    "# evaluate on known reviewer-listing pairs\n",
    "\n",
    "this_pred = []  # to store the predicted ratings\n",
    "for i, row in rec_df.iterrows():\n",
    "    user = row[\"reviewer_id\"]\n",
    "    item = row[\"listing_id\"]\n",
    "\n",
    "    try:\n",
    "        u_index = users_index[user]\n",
    "        if item in items_index:\n",
    "            i_index = items_index[item]\n",
    "            pred_rating = predicted_scores[u_index, i_index]\n",
    "        else:\n",
    "            pred_rating = np.mean(svdout[u_index, :])\n",
    "        this_pred.append(pred_rating)\n",
    "\n",
    "    except:\n",
    "        print(\"error with user\", user, \"at index\", i)"
   ]
  },
  {
   "cell_type": "code",
   "execution_count": 63,
   "metadata": {},
   "outputs": [
    {
     "name": "stdout",
     "output_type": "stream",
     "text": [
      "0.1479933619716791\n"
     ]
    }
   ],
   "source": [
    "from sklearn.metrics import mean_squared_error\n",
    "\n",
    "rmse = np.sqrt(mean_squared_error(rec_df[\"comment_score\"], this_pred))\n",
    "print(rmse)"
   ]
  },
  {
   "cell_type": "code",
   "execution_count": 64,
   "metadata": {},
   "outputs": [
    {
     "name": "stdout",
     "output_type": "stream",
     "text": [
      "10 0.1525856784649185\n",
      "25 0.1479933619716791\n",
      "40 0.14393227628284896\n",
      "50 0.1414792097088569\n"
     ]
    }
   ],
   "source": [
    "no_of_features = [10, 25, 40, 50]\n",
    "rmse = []\n",
    "\n",
    "for k in no_of_features:\n",
    "    pred_out, _, _ = recommend_predictions(rec_df, k=k)\n",
    "\n",
    "    this_pred = []\n",
    "    for i, row in rec_df.iterrows():\n",
    "        user = row[\"reviewer_id\"]\n",
    "        item = row[\"listing_id\"]\n",
    "\n",
    "        try:\n",
    "            u_index = users_index[user]\n",
    "            if item in items_index:\n",
    "                i_index = items_index[item]\n",
    "                pred_rating = pred_out[u_index, i_index]\n",
    "            else:\n",
    "                pred_rating = np.mean(svdout[u_index, :])\n",
    "            this_pred.append(pred_rating)\n",
    "\n",
    "        except:\n",
    "            print(\"error with user\", user, \"at index\", i)\n",
    "            continue\n",
    "\n",
    "    rmse_i = np.sqrt(mean_squared_error(rec_df[\"comment_score\"], this_pred))\n",
    "    rmse.append(rmse_i)\n",
    "\n",
    "    print(k, rmse_i)"
   ]
  },
  {
   "cell_type": "markdown",
   "metadata": {},
   "source": [
    "### FUNK SVD"
   ]
  },
  {
   "cell_type": "code",
   "execution_count": 45,
   "metadata": {},
   "outputs": [
    {
     "data": {
      "text/plain": [
       "reviewer_id      562688\n",
       "listing_id        56795\n",
       "comment_score     12189\n",
       "dtype: int64"
      ]
     },
     "execution_count": 45,
     "metadata": {},
     "output_type": "execute_result"
    }
   ],
   "source": [
    "reviews = pd.read_parquet(data_folder / \"reviews_sentiment.parquet\").sample(\n",
    "    frac=0.5, random_state=7\n",
    ")  # TODO sample per listing id instead of generally\n",
    "rec_df = reviews[[\"reviewer_id\", \"listing_id\", \"comment_score\"]]\n",
    "rec_df.nunique()"
   ]
  },
  {
   "cell_type": "code",
   "execution_count": 65,
   "metadata": {},
   "outputs": [
    {
     "name": "stdout",
     "output_type": "stream",
     "text": [
      "Preprocessing data...\n",
      "\n",
      "Preprocessing data...\n",
      "\n",
      "Epoch 1/100  | val_loss: 0.08 - val_rmse: 0.28 - val_mae: 0.18 - took 0.0 sec\n",
      "Epoch 2/100  | val_loss: 0.08 - val_rmse: 0.28 - val_mae: 0.18 - took 0.0 sec\n",
      "\n",
      "Training took 0 sec\n"
     ]
    }
   ],
   "source": [
    "# Need to clone funk svd manually and edit the setup.py https://github.com/gbolmier/funk-svd/tree/master\n",
    "from funk_svd import SVD\n",
    "\n",
    "\n",
    "X = rec_df.copy(deep=True)\n",
    "X.columns = [\"u_id\", \"i_id\", \"rating\"]\n",
    "\n",
    "train = X.sample(frac=0.8, random_state=7)\n",
    "val = X.drop(train.index.tolist()).sample(frac=0.5, random_state=8)\n",
    "test = X.drop(train.index.tolist()).drop(val.index.tolist())\n",
    "\n",
    "\n",
    "svd = SVD(\n",
    "    lr=0.001,\n",
    "    reg=0.005,\n",
    "    n_epochs=100,\n",
    "    n_factors=50,\n",
    "    early_stopping=True,\n",
    "    shuffle=False,\n",
    "    min_rating=-1,\n",
    "    max_rating=1,\n",
    ")\n",
    "\n",
    "svd.fit(X=train, X_val=val)\n",
    "\n",
    "pred = svd.predict(test)\n",
    "\n",
    "rmse = np.sqrt(mean_squared_error(test[\"rating\"], pred))"
   ]
  }
 ],
 "metadata": {
  "kernelspec": {
   "display_name": "dev",
   "language": "python",
   "name": "python3"
  },
  "language_info": {
   "codemirror_mode": {
    "name": "ipython",
    "version": 3
   },
   "file_extension": ".py",
   "mimetype": "text/x-python",
   "name": "python",
   "nbconvert_exporter": "python",
   "pygments_lexer": "ipython3",
   "version": "3.10.12"
  },
  "orig_nbformat": 4
 },
 "nbformat": 4,
 "nbformat_minor": 2
}
